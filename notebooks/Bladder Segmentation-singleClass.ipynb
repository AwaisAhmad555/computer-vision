{
 "cells": [
  {
   "cell_type": "markdown",
   "metadata": {},
   "source": [
    "## Import Required libraries"
   ]
  },
  {
   "cell_type": "code",
   "execution_count": 1,
   "metadata": {},
   "outputs": [
    {
     "name": "stderr",
     "output_type": "stream",
     "text": [
      "2023-06-13 16:45:21.197422: I tensorflow/stream_executor/platform/default/dso_loader.cc:49] Successfully opened dynamic library libcudart.so.10.1\n"
     ]
    }
   ],
   "source": [
    "from IPython.display import Image\n",
    "from IPython.core.display import HTML \n",
    "from os.path import basename, join, exists\n",
    "import pickle,cv2, random, datetime, copy, collections, csv, sklearn, os, warnings, elasticdeform, glob, nrrd\n",
    "os.environ[\"CUDA_VISIBLE_DEVICES\"] = \"0\"\n",
    "import numpy as np\n",
    "import pydicom, shutil\n",
    "import pydicom as dicom\n",
    "import tensorflow as tf\n",
    "from tensorflow.keras import backend as K\n",
    "from tensorflow.keras.layers import *\n",
    "from tensorflow.keras.activations import sigmoid\n",
    "from scipy.ndimage import zoom \n",
    "from sklearn import metrics\n",
    "from tensorflow.keras import layers\n",
    "from time import time\n",
    "from numpy.random import seed\n",
    "from skimage import exposure, transform\n",
    "from skimage.transform import rotate\n",
    "from scipy import ndimage, misc\n",
    "import scipy.ndimage as ndimage\n",
    "from sklearn.model_selection import train_test_split\n",
    "from sklearn.metrics import classification_report, confusion_matrix\n",
    "from tensorflow.keras.utils import to_categorical\n",
    "from tensorflow.keras.models import load_model\n",
    "from tensorflow.keras.models import *\n",
    "import matplotlib.pyplot as plt\n",
    "import SimpleITK as sitk\n",
    "import matplotlib.pyplot as plt\n",
    "tf.random.set_seed(42)\n",
    "np.random.seed(42) \n",
    "warnings.filterwarnings('always')\n",
    "warnings.filterwarnings('ignore')"
   ]
  },
  {
   "cell_type": "code",
   "execution_count": 2,
   "metadata": {},
   "outputs": [
    {
     "data": {
      "text/html": [
       "<style>.container { width:90% !important; }</style>"
      ],
      "text/plain": [
       "<IPython.core.display.HTML object>"
      ]
     },
     "metadata": {},
     "output_type": "display_data"
    }
   ],
   "source": [
    "from IPython.display import display, HTML\n",
    "display(HTML(\"<style>.container { width:90% !important; }</style>\"))"
   ]
  },
  {
   "cell_type": "code",
   "execution_count": null,
   "metadata": {},
   "outputs": [],
   "source": []
  },
  {
   "cell_type": "code",
   "execution_count": null,
   "metadata": {},
   "outputs": [],
   "source": []
  },
  {
   "cell_type": "markdown",
   "metadata": {
    "id": "k5RspdshMRly"
   },
   "source": [
    "## Model Blocks (Functions)"
   ]
  },
  {
   "cell_type": "code",
   "execution_count": 3,
   "metadata": {},
   "outputs": [],
   "source": [
    "def conv2d_block(input_tensor, n_filters, kernel_size = 3, batchnorm = True):\n",
    "    \"\"\"Function to add 2 convolutional layers with the parameters passed to it\"\"\"\n",
    "    #  kernel_regularizer='l1_l2'\n",
    "    x1 = Conv2D(filters = n_filters, kernel_size = (3, 3),\n",
    "                kernel_initializer = 'he_normal', padding = 'same')(input_tensor)\n",
    "    x1 = BatchNormalization()(x1)\n",
    "    x1 = Activation('relu')(x1)\n",
    "    \n",
    "    # second layer\n",
    "    x2 = Conv2D(filters = n_filters, kernel_size = (3, 3),\n",
    "                kernel_initializer = 'he_normal', padding = 'same')(x1)\n",
    "    x2 = BatchNormalization()(x2)\n",
    "    x2 = Activation('relu')(x2)\n",
    "    \n",
    "    x3 = SqueezeExcite(x2, n_filters//4)\n",
    "    \n",
    "    return x3\n",
    "\n",
    "\n",
    "def rrb_block2(input_tensor, n_filters, kernel_size = 3, batchnorm = True):\n",
    "    \"\"\"Function to add 2 convolutional layers with the parameters passed to it\"\"\"\n",
    "    nb_chan = K.int_shape(input_tensor)[-1]\n",
    "    x1 = Conv2D(filters = nb_chan, kernel_size=(3, 3), kernel_initializer = 'he_normal', padding = 'same')(input_tensor)\n",
    "    x1 = BatchNormalization()(x1)\n",
    "    x1 = Activation('relu')(x1)\n",
    "\n",
    "    # second layer\n",
    "    x2 = Conv2D(filters = nb_chan,kernel_size=(3, 3), kernel_initializer = 'he_normal', padding = 'same')(x1)\n",
    "    x2 = BatchNormalization()(x2)\n",
    "    x2 = Activation('relu')(x2)\n",
    "    \n",
    "    x3 = Conv2D(filters = nb_chan,kernel_size=(1, 1), kernel_initializer = 'he_normal', padding = 'same')(x2)\n",
    "    x3 = BatchNormalization()(x3)\n",
    "    x3 = Activation('relu')(x3)\n",
    "    \n",
    "    x3 = SqueezeExcite(x3, ratio=4)\n",
    "    \n",
    "    out1 = layers.Add()([x1, x2, x3])\n",
    "    \n",
    "    nb_chan = K.int_shape(out1)[-1]\n",
    "    \n",
    "    y = Conv2D(nb_chan, 1, activation = 'sigmoid', padding = 'same')(out1)\n",
    "    \n",
    "    y = layers.Multiply()([y, input_tensor])\n",
    "        \n",
    "    return y\n",
    "\n",
    "def SqueezeExcite(x, ratio=16):\n",
    "    nb_chan = K.int_shape(x)[-1]\n",
    "\n",
    "    y = layers.GlobalAveragePooling2D()(x)\n",
    "    y = layers.Dense(nb_chan // ratio, activation='relu')(y)\n",
    "    y = layers.Dense(nb_chan, activation='sigmoid')(y)\n",
    "\n",
    "    y = layers.Multiply()([x, y])\n",
    "    return y\n",
    "\n",
    "\n",
    "\n",
    "# def rrb_block2(input_tensor, n_filters, kernel_size = 3, batchnorm = True):\n",
    "#     \"\"\"Function to add 2 convolutional layers with the parameters passed to it\"\"\"\n",
    "#     nb_chan = K.int_shape(input_tensor)[-1]\n",
    "    \n",
    "#     x3 = SqueezeExcite(input_tensor, ratio=2)\n",
    "        \n",
    "#     x3 = Conv2D(filters = nb_chan, kernel_size=(1, 1), kernel_initializer = 'he_normal', padding = 'same')(x3)\n",
    "#     x3 = BatchNormalization()(x3)\n",
    "#     x3 = tf.keras.layers.LeakyReLU()(x3)\n",
    "    \n",
    "# #     out1 = layers.Add()([x1, x2, x3])\n",
    "    \n",
    "#     nb_chan = K.int_shape(x3)[-1]\n",
    "    \n",
    "#     y = Conv2D(nb_chan, 1, activation = 'sigmoid', padding = 'same')(x3)\n",
    "    \n",
    "#     y = layers.Multiply()([y, input_tensor])\n",
    "        \n",
    "#     return y\n",
    "\n",
    "def rrb_block1(input_tensor, n_filters, kernel_size = 3, batchnorm = True):\n",
    "    \"\"\"Function to add 2 convolutional layers with the parameters passed to it\"\"\"\n",
    "    x1 = Conv2D(filters = n_filters, kernel_size=(3, 3), kernel_initializer = 'he_normal', padding = 'same')(input_tensor)\n",
    "    x1 = BatchNormalization()(x1)\n",
    "    x1 = Activation('relu')(x1)\n",
    "\n",
    "    # second layer\n",
    "    x2 = Conv2D(filters = n_filters,kernel_size=(3, 3), kernel_initializer = 'he_normal', padding = 'same')(input_tensor)\n",
    "    x2 = BatchNormalization()(x2)\n",
    "    x2 = Activation('relu')(x2)\n",
    "    \n",
    "    x3 = Conv2D(filters = n_filters, kernel_size=(1, 1), kernel_initializer = 'he_normal', padding = 'same')(input_tensor)\n",
    "\n",
    "    out = layers.Add()([x1, x2, x3])\n",
    "    \n",
    "    return out"
   ]
  },
  {
   "cell_type": "code",
   "execution_count": 4,
   "metadata": {},
   "outputs": [],
   "source": [
    "from tensorflow.keras.layers import Conv2D, Conv2DTranspose, MaxPooling2D, Concatenate\n",
    "\n",
    "def ASPP_block(inputs):\n",
    "    \"\"\"Implementation of Atrous Spatial Pyramid Pooling block\"\"\"\n",
    "    \n",
    "    # Define the atrous convolution rates\n",
    "    rates = [3, 6, 12]\n",
    "    \n",
    "    # Apply 1x1 convolution\n",
    "    conv_1x1 = Conv2D(filters=64, kernel_size=1, activation='relu')(inputs)\n",
    "    \n",
    "    # Apply 3x3 atrous convolutions with different rates\n",
    "    conv_3x3_rate_1 = Conv2D(filters=64, kernel_size=3, dilation_rate=rates[0], padding='same', activation=tf.keras.layers.LeakyReLU(alpha=0.3))(inputs)\n",
    "    conv_3x3_rate_2 = Conv2D(filters=64, kernel_size=3, dilation_rate=rates[1], padding='same', activation=tf.keras.layers.LeakyReLU(alpha=0.3))(inputs)\n",
    "    conv_3x3_rate_3 = Conv2D(filters=64, kernel_size=3, dilation_rate=rates[2], padding='same', activation=tf.keras.layers.LeakyReLU(alpha=0.3))(inputs)\n",
    "\n",
    "    # Concatenate the output of all convolutions\n",
    "    concat = Concatenate()([conv_1x1, conv_3x3_rate_1, conv_3x3_rate_2, conv_3x3_rate_3])\n",
    "    \n",
    "    # Apply 1x1 convolution\n",
    "    aspp_out = Conv2D(filters=64, kernel_size=1, padding='same', activation=tf.keras.layers.LeakyReLU(alpha=0.3))(concat)\n",
    "    \n",
    "    return aspp_out\n",
    "\n",
    "import tensorflow as tf\n",
    "\n",
    "def ghost_module(inputs, filters, kernel_size, ratio=2):\n",
    "    # Calculate primary and cheap filter sizes\n",
    "    primary_filters = filters // ratio\n",
    "    cheap_filters = filters - primary_filters\n",
    "\n",
    "    # Primary path\n",
    "    primary_conv = Conv2D(filters=primary_filters, kernel_size=kernel_size, padding='same')(inputs)\n",
    "    primary_bn = BatchNormalization()(primary_conv)\n",
    "    primary_output = tf.keras.layers.LeakyReLU()(primary_bn)\n",
    "\n",
    "    # Cheap path\n",
    "    cheap_conv = Conv2D(filters=cheap_filters, kernel_size=kernel_size, padding='same')(inputs)\n",
    "    cheap_bn = BatchNormalization()(cheap_conv)\n",
    "    cheap_output = tf.keras.layers.LeakyReLU()(cheap_bn)\n",
    "\n",
    "    # Merge paths\n",
    "    num_ghosts = ratio - 1\n",
    "    ghosts = [primary_output]\n",
    "    for i in range(num_ghosts):\n",
    "        ghost_output = tf.concat([primary_output, cheap_output[:, :, :, i::num_ghosts]], axis=-1)\n",
    "        ghosts.append(ghost_output)\n",
    "    output = tf.concat(ghosts, axis=-1)\n",
    "\n",
    "    return output\n",
    "\n",
    "def SKConv(inputs, filters, stride=1, r=16):\n",
    "    # Compute number of groups\n",
    "    groups = filters // 4\n",
    "\n",
    "    # Branch 1: Global average pooling\n",
    "    gap = tf.keras.layers.GlobalAveragePooling2D()(inputs)\n",
    "    dense1 = tf.keras.layers.Dense(filters // r, activation=tf.keras.layers.LeakyReLU(alpha=0.3))(gap)\n",
    "    dense2 = tf.keras.layers.Dense(groups, activation='sigmoid')(dense1)\n",
    "\n",
    "    # Reshape and tile the kernel weights\n",
    "    gap_reshaped = tf.reshape(dense2, [-1, 1, 1, groups])\n",
    "    kernel_weights = tf.tile(gap_reshaped, [1, tf.shape(inputs)[1], tf.shape(inputs)[2], 1])\n",
    "\n",
    "    # Branch 2: Convolutional layers\n",
    "    conv1 = Conv2D(filters, kernel_size=1, strides=stride)(inputs)\n",
    "    conv2 = Conv2D(filters, kernel_size=3, strides=stride, padding='same')(inputs)\n",
    "    conv3 = Conv2D(filters, kernel_size=6, strides=stride, padding='same')(inputs)\n",
    "    conv4 = Conv2D(filters, kernel_size=12, strides=stride, padding='same')(inputs)\n",
    "\n",
    "    # Grouped convolutions\n",
    "    conv = tf.keras.layers.concatenate([conv1, conv2, conv3, conv4], axis=-1)\n",
    "    grouped_conv = tf.split(conv, groups, axis=-1)\n",
    "    grouped_weights = tf.split(kernel_weights, groups, axis=-1)\n",
    "\n",
    "    # Multiply with kernel weights\n",
    "    weighted_sum = []\n",
    "    for i in range(groups):\n",
    "        weighted_sum.append(grouped_conv[i] * grouped_weights[i])\n",
    "\n",
    "    # Concatenate and apply activation function\n",
    "    sk_output = tf.keras.layers.concatenate(weighted_sum, axis=-1)\n",
    "    sk_output = tf.keras.layers.LeakyReLU()(sk_output)\n",
    "\n",
    "    return sk_output\n",
    "\n",
    "def res_block(x, n_filters, count):\n",
    "    if count == 4:\n",
    "        \n",
    "        x1 = Conv2D(filters = n_filters, kernel_size = (3, 3),kernel_initializer = 'he_normal', padding = 'same')(x)\n",
    "        x1 = BatchNormalization()(x1)\n",
    "        x1 = Activation('relu')(x1)\n",
    "        x2 = Conv2D(filters = n_filters, kernel_size = (1, 1),kernel_initializer = 'he_normal', padding = 'same')(x)\n",
    "        x2 = BatchNormalization()(x2)\n",
    "        x2 = Activation('relu')(x2)\n",
    "        x3 = Add()([x1, x2])\n",
    "        \n",
    "        x4 = Conv2D(filters = n_filters, kernel_size = (3, 3),kernel_initializer = 'he_normal', padding = 'same')(x3)\n",
    "        x4 = BatchNormalization()(x4)\n",
    "        x4 = Activation('relu')(x4)\n",
    "        x5 = Conv2D(filters = n_filters, kernel_size = (1, 1),kernel_initializer = 'he_normal', padding = 'same')(x3)\n",
    "        x5 = BatchNormalization()(x5)\n",
    "        x5 = Activation('relu')(x5)\n",
    "        x6 = Add()([x4, x5])\n",
    "        \n",
    "        x7 = Conv2D(filters = n_filters, kernel_size = (3, 3),kernel_initializer = 'he_normal', padding = 'same')(x6)\n",
    "        x7 = BatchNormalization()(x7)\n",
    "        x7 = Activation('relu')(x7)\n",
    "        x8 = Conv2D(filters = n_filters, kernel_size = (1, 1),kernel_initializer = 'he_normal', padding = 'same')(x6)\n",
    "        x8 = BatchNormalization()(x8)\n",
    "        x8 = Activation('relu')(x8)\n",
    "        x9 = Add()([x7, x8])\n",
    "        \n",
    "        x10 = Conv2D(filters = n_filters, kernel_size = (3, 3),kernel_initializer = 'he_normal', padding = 'same')(x9)\n",
    "        x10 = BatchNormalization()(x10)\n",
    "        x10 = Activation('relu')(x10)\n",
    "        x11 = Conv2D(filters = n_filters, kernel_size = (1, 1),kernel_initializer = 'he_normal', padding = 'same')(x9)\n",
    "        x11 = BatchNormalization()(x11)\n",
    "        x11 = Activation('relu')(x11)\n",
    "        x12 = Add()([x10, x11])\n",
    "        \n",
    "        x13 = SqueezeExcite(x12, n_filters//4)\n",
    "        return x13\n",
    "    \n",
    "    elif count == 3:\n",
    "        \n",
    "        x1 = Conv2D(filters = n_filters, kernel_size = (3, 3),kernel_initializer = 'he_normal', padding = 'same')(x)\n",
    "        x1 = BatchNormalization()(x1)\n",
    "        x1 = Activation('relu')(x1)\n",
    "        x2 = Conv2D(filters = n_filters, kernel_size = (1, 1),kernel_initializer = 'he_normal', padding = 'same')(x)\n",
    "        x2 = BatchNormalization()(x2)\n",
    "        x2 = Activation('relu')(x2)\n",
    "        x3 = Add()([x1, x2])\n",
    "        \n",
    "        x4 = Conv2D(filters = n_filters, kernel_size = (3, 3),kernel_initializer = 'he_normal', padding = 'same')(x3)\n",
    "        x4 = BatchNormalization()(x4)\n",
    "        x4 = Activation('relu')(x4)\n",
    "        x5 = Conv2D(filters = n_filters, kernel_size = (1, 1),kernel_initializer = 'he_normal', padding = 'same')(x3)\n",
    "        x5 = BatchNormalization()(x5)\n",
    "        x5 = Activation('relu')(x5)\n",
    "        x6 = Add()([x4, x5])\n",
    "        \n",
    "        x7 = Conv2D(filters = n_filters, kernel_size = (3, 3),kernel_initializer = 'he_normal', padding = 'same')(x6)\n",
    "        x7 = BatchNormalization()(x7)\n",
    "        x7 = Activation('relu')(x7)\n",
    "        x8 = Conv2D(filters = n_filters, kernel_size = (1, 1),kernel_initializer = 'he_normal', padding = 'same')(x6)\n",
    "        x8 = BatchNormalization()(x8)\n",
    "        x8 = Activation('relu')(x8)\n",
    "        x9 = Add()([x7, x8])\n",
    "        \n",
    "        x10 = SqueezeExcite(x9, n_filters//4)\n",
    "        \n",
    "        return x10\n",
    "    \n",
    "    elif count == 2:\n",
    "        \n",
    "        x1 = Conv2D(filters = n_filters, kernel_size = (3, 3),kernel_initializer = 'he_normal', padding = 'same')(x)\n",
    "        x1 = BatchNormalization()(x1)\n",
    "        x1 = Activation('relu')(x1)\n",
    "        x2 = Conv2D(filters = n_filters, kernel_size = (1, 1),kernel_initializer = 'he_normal', padding = 'same')(x)\n",
    "        x2 = BatchNormalization()(x2)\n",
    "        x2 = Activation('relu')(x2)\n",
    "        x3 = Add()([x1, x2])\n",
    "        \n",
    "        x4 = Conv2D(filters = n_filters, kernel_size = (3, 3),kernel_initializer = 'he_normal', padding = 'same')(x3)\n",
    "        x4 = BatchNormalization()(x4)\n",
    "        x4 = Activation('relu')(x4)\n",
    "        x5 = Conv2D(filters = n_filters, kernel_size = (1, 1),kernel_initializer = 'he_normal', padding = 'same')(x3)\n",
    "        x5 = BatchNormalization()(x5)\n",
    "        x5 = Activation('relu')(x5)\n",
    "        x6 = Add()([x4, x5])\n",
    "        \n",
    "        x7 = SqueezeExcite(x6, n_filters//4)\n",
    "        \n",
    "        return x7\n",
    "    elif count == 1:\n",
    "        \n",
    "        x1 = Conv2D(filters = n_filters, kernel_size = (3, 3),kernel_initializer = 'he_normal', padding = 'same')(x)\n",
    "        x1 = BatchNormalization()(x1)\n",
    "        x1 = Activation('relu')(x1)\n",
    "        x2 = Conv2D(filters = n_filters, kernel_size = (1, 1),kernel_initializer = 'he_normal', padding = 'same')(x)\n",
    "        x2 = BatchNormalization()(x2)\n",
    "        x2 = Activation('relu')(x2)\n",
    "        x3 = Add()([x1, x2])\n",
    "        \n",
    "        x4 = SqueezeExcite(x3, n_filters//4)\n",
    "        \n",
    "        return x4"
   ]
  },
  {
   "cell_type": "markdown",
   "metadata": {},
   "source": [
    "## The Model Layers\n",
    "### The Backbone can be any model from keras Applications"
   ]
  },
  {
   "cell_type": "markdown",
   "metadata": {},
   "source": [
    "## U-Model with Parallel Convolution Block & Attention Block:"
   ]
  },
  {
   "cell_type": "code",
   "execution_count": 5,
   "metadata": {},
   "outputs": [],
   "source": [
    "\n",
    "from tensorflow.keras.layers import ZeroPadding2D,BatchNormalization,MaxPooling2D, UpSampling2D,Dropout,multiply, Concatenate, Conv2D, Add, Activation\n",
    "\n",
    "def UNet_Seg(input_img, n_filters = 32, dropout = 0.5, batchnorm = True):\n",
    "    # set image specifics\n",
    "    k = 3 # kernel size\n",
    "    s = 2 # stride\n",
    "    img_ch = 1 # image channels\n",
    "    padding = 'same'\n",
    "    batchnorm = True\n",
    "    dropout = 0.5\n",
    "\n",
    "    c0 = layers.Cropping2D(cropping = ((96,96), (96,96)))(input_img)    \n",
    "    c1 = conv2d_block(c0, n_filters * 1)\n",
    "    p1 = layers.MaxPooling2D((2, 2))(c1)\n",
    "    p1 = layers.Dropout(dropout)(p1)\n",
    "\n",
    "    c2 = conv2d_block(p1, n_filters * 2)\n",
    "    p2 = layers.MaxPooling2D((2, 2))(c2)\n",
    "    p2 = layers.Dropout(dropout)(p2)\n",
    "\n",
    "    c3 = conv2d_block(p2, n_filters * 4)\n",
    "    p3 = layers.MaxPooling2D((2, 2))(c3)\n",
    "    p3 = layers.Dropout(dropout)(p3)\n",
    "\n",
    "    c4 = conv2d_block(p3, n_filters * 6)\n",
    "    p4 = layers.MaxPooling2D((2, 2))(c4)\n",
    "    p4 = layers.Dropout(dropout)(p4)\n",
    "\n",
    "\n",
    "    # D1\n",
    "    conv4_1 = conv2d_block(p4, n_filters * 8)\n",
    "    conv4_1 = Dropout(dropout)(conv4_1)\n",
    "\n",
    "\n",
    "    u6 = layers.UpSampling2D(size = (2,2))(conv4_1)\n",
    "    u6 = layers.concatenate([u6, c4], axis = 3)\n",
    "    c6 = conv2d_block(u6, n_filters * 6)\n",
    "    c6 = layers.Dropout(dropout)(c6)\n",
    "\n",
    "\n",
    "    u7 = UpSampling2D(size = (2,2))(c6) \n",
    "    u7 = layers.concatenate([u7, c3], axis = 3)\n",
    "    c7 = conv2d_block(u7, n_filters * 4)\n",
    "    c7 = layers.Dropout(dropout)(c7)\n",
    "\n",
    "    u8 = layers.UpSampling2D(size = (2,2))(c7)\n",
    "    u8 = layers.concatenate([u8, c2], axis = 3)\n",
    "    c8 = conv2d_block(u8, n_filters * 2)\n",
    "    c8 = layers.Dropout(dropout)(c8)\n",
    "\n",
    "    u9 = layers.UpSampling2D(size = (2,2))(c8)\n",
    "    u9 = layers.concatenate([u9, c1], axis = 3)\n",
    "    c9 = conv2d_block(u9, n_filters * 1)\n",
    "    c9 = layers.Dropout(dropout)(c9)\n",
    "\n",
    "    output1 = Conv2D(1, (1, 1), padding=padding, activation='sigmoid', name=\"out1\")(c9)\n",
    "    output_1 = layers.ZeroPadding2D((96,96))(output1)    \n",
    "\n",
    "\n",
    "    model = tf.keras.Model(inputs=input_img, outputs=output_1)\n",
    "    \n",
    "    return model"
   ]
  },
  {
   "cell_type": "markdown",
   "metadata": {},
   "source": [
    "## Required losses and Metrics"
   ]
  },
  {
   "cell_type": "code",
   "execution_count": 6,
   "metadata": {},
   "outputs": [],
   "source": [
    "def dice_acc(y_true, y_pred):\n",
    "    smooth = 1.\n",
    "    y_true_f = K.flatten(y_true)\n",
    "    y_pred_f = K.flatten(y_pred)\n",
    "    intersection = K.sum(y_true_f * y_pred_f)\n",
    "    return (2. * intersection + smooth) / (K.sum(y_true_f) + K.sum(y_pred_f) + smooth)\n",
    " \n",
    "# jacard accuracy\n",
    "def jacard_acc(y_true, y_pred):\n",
    "    y_true_f = K.flatten(y_true)\n",
    "    y_pred_f = K.flatten(y_pred)\n",
    "    intersection = K.sum(y_true_f * y_pred_f)\n",
    "    return (intersection + 1.0) / (K.sum(y_true_f) + K.sum(y_pred_f) - intersection + 1.0)\n",
    "\n",
    "def dice_loss(y_true, y_pred):\n",
    "    smooth = 1.\n",
    "    y_true_f = K.flatten(y_true)\n",
    "    y_pred_f = K.flatten(y_pred)\n",
    "    intersection = y_true_f * y_pred_f\n",
    "    score = (2. * K.sum(intersection) + smooth) / (K.sum(y_true_f) + K.sum(y_pred_f) + smooth)\n",
    "    return 1. - score\n",
    "\n",
    "\n",
    "def tversky(y_true, y_pred, smooth=1, alpha=0.7):\n",
    "    y_true_f = K.cast(y_true, 'float32')\n",
    "    y_pred_f = K.cast(y_pred, 'float32')\n",
    "    y_true_pos = K.flatten(y_true_f)\n",
    "    y_pred_pos = K.flatten(y_pred_f)\n",
    "    true_pos = K.sum(y_true_pos * y_pred_pos)\n",
    "    false_neg = K.sum(y_true_pos * (1 - y_pred_pos))\n",
    "    false_pos = K.sum((1 - y_true_pos) * y_pred_pos)\n",
    "    return (true_pos + smooth) / (true_pos + alpha * false_neg + (1 - alpha) * false_pos + smooth)\n",
    "\n",
    "\n",
    "def tversky_loss(y_true, y_pred):\n",
    "    return 1 - tversky(y_true, y_pred)\n",
    "\n",
    "\n",
    "def focal_tversky_loss(y_true, y_pred, gamma=0.75):\n",
    "    tv = tversky(y_true, y_pred)\n",
    "    return K.pow((1 - tv), gamma)\n",
    "\n",
    "\n",
    "def weighted_bce_loss(y_true, y_pred, weight):\n",
    "    # avoiding overflow\n",
    "    epsilon = 1e-7\n",
    "    y_pred = K.clip(y_pred, epsilon, 1. - epsilon)\n",
    "    logit_y_pred = K.log(y_pred / (1. - y_pred))\n",
    "\n",
    "    # https://www.tensorflow.org/api_docs/python/tf/nn/weighted_cross_entropy_with_logits\n",
    "    loss = (1. - y_true) * logit_y_pred + (1. + (weight - 1.) * y_true) * \\\n",
    "           (K.log(1. + K.exp(-K.abs(logit_y_pred))) + K.maximum(-logit_y_pred, 0.))\n",
    "    return K.sum(loss) / K.sum(weight)\n",
    "\n",
    "\n",
    "def weighted_dice_loss(y_true, y_pred, weight):\n",
    "    smooth = 1.\n",
    "    w, m1, m2 = weight * weight, y_true, y_pred\n",
    "    intersection = (m1 * m2)\n",
    "    score = (2. * K.sum(w * intersection) + smooth) / (K.sum(w * m1) + K.sum(w * m2) + smooth)\n",
    "    loss = 1. - K.sum(score)\n",
    "    return loss\n",
    "\n",
    "\n",
    "def weighted_bce_dice_loss(y_true, y_pred):\n",
    "    y_true = K.cast(y_true, 'float32')\n",
    "    y_pred = K.cast(y_pred, 'float32')\n",
    "    # if we want to get same size of output, kernel size must be odd number\n",
    "    averaged_mask = K.pool2d(\n",
    "        y_true, pool_size=(1, 1), strides=(1, 1), padding='same', pool_mode='avg')\n",
    "    border = K.cast(K.greater(averaged_mask, 0.01), 'float32') * K.cast(K.less(averaged_mask, 0.99), 'float32')\n",
    "    weight = K.ones_like(averaged_mask)\n",
    "    w0 = K.sum(weight)\n",
    "    weight += border * 2\n",
    "    w1 = K.sum(weight)\n",
    "    weight *= (w0 / w1)\n",
    "#     loss = weighted_bce_loss(y_true, y_pred, weight) + focal_tversky_loss(y_true, y_pred) + weighted_dice_loss(y_true, y_pred, weight)\n",
    "    loss = weighted_bce_loss(y_true, y_pred, weight) + dice_loss(y_true, y_pred)\n",
    "    return loss\n",
    "\n",
    "def loss(y_true, y_pred):\n",
    "    def dice_loss(y_true, y_pred):\n",
    "        numerator = 2 * tf.reduce_sum(y_true * y_pred, axis=(1,2,3))\n",
    "        denominator = tf.reduce_sum(y_true + y_pred, axis=(1,2,3))\n",
    "\n",
    "        return tf.reshape(1 - numerator / denominator, (-1, 1, 1))\n",
    "\n",
    "    return binary_crossentropy(y_true, y_pred) + dice_loss(y_true, y_pred)"
   ]
  },
  {
   "cell_type": "code",
   "execution_count": 7,
   "metadata": {},
   "outputs": [],
   "source": [
    "\n",
    "def calc_DSC(truth, pred, classes=2):\n",
    "    dice_scores = []\n",
    "    # Iterate over each class\n",
    "    for i in range(classes):\n",
    "        try:\n",
    "            gt = np.equal(truth, i)\n",
    "            pd = np.equal(pred, i)\n",
    "            # Calculate Dice\n",
    "            dice = 2*np.logical_and(pd, gt).sum() / (pd.sum() + gt.sum())\n",
    "            dice_scores.append(dice)\n",
    "        except ZeroDivisionError:\n",
    "            dice_scores.append(0.0)\n",
    "    # Return computed Dice Similarity Coefficients\n",
    "    return dice_scores\n",
    "\n",
    "def calc_IoU(truth, pred, classes):\n",
    "    iou_scores = []\n",
    "    # Iterate over each class\n",
    "    for i in range(classes):\n",
    "        try:\n",
    "            gt = np.equal(truth, i)\n",
    "            pd = np.equal(pred, i)\n",
    "            # Calculate iou\n",
    "            iou = np.logical_and(pd, gt).sum() / (pd.sum() + gt.sum() - np.logical_and(pd, gt).sum())\n",
    "            iou_scores.append(iou)\n",
    "        except ZeroDivisionError:\n",
    "            iou_scores.append(0.0)\n",
    "    # Return computed IoU\n",
    "    return iou_scores[1]\n",
    "\n",
    "\n",
    "def calc_Sensitivity(truth, pred, classes):\n",
    "    sens_scores = []\n",
    "    # Iterate over each class\n",
    "    for i in range(classes):\n",
    "        try:\n",
    "            gt = np.equal(truth, i)\n",
    "            pd = np.equal(pred, i)\n",
    "            # Calculate sensitivity\n",
    "            sens = np.logical_and(pd, gt).sum() / gt.sum()\n",
    "            sens_scores.append(sens)\n",
    "        except ZeroDivisionError:\n",
    "            sens_scores.append(0.0)\n",
    "    # Return computed sensitivity scores\n",
    "    return sens_scores[1]\n",
    "\n",
    "def calc_Specificity(truth, pred, classes):\n",
    "    spec_scores = []\n",
    "    # Iterate over each class\n",
    "    for i in range(classes):\n",
    "        try:\n",
    "            not_gt = np.logical_not(np.equal(truth, i))\n",
    "            not_pd = np.logical_not(np.equal(pred, i))\n",
    "            # Calculate specificity\n",
    "            spec = np.logical_and(not_pd, not_gt).sum() / (not_gt).sum()\n",
    "            spec_scores.append(spec)\n",
    "        except ZeroDivisionError:\n",
    "            spec_scores.append(0.0)\n",
    "    # Return computed specificity scores\n",
    "    return spec_scores[1]\n",
    "\n",
    "def calc_Accuracy(truth, pred, classes):\n",
    "    acc_scores = []\n",
    "    # Iterate over each class\n",
    "    for i in range(classes):\n",
    "        try:\n",
    "            gt = np.equal(truth, i)\n",
    "            pd = np.equal(pred, i)\n",
    "            not_gt = np.logical_not(np.equal(truth, i))\n",
    "            not_pd = np.logical_not(np.equal(pred, i))\n",
    "            # Calculate accuracy\n",
    "            acc = (np.logical_and(pd, gt).sum() + \\\n",
    "                   np.logical_and(not_pd, not_gt).sum()) /  gt.size\n",
    "            acc_scores.append(acc)\n",
    "        except ZeroDivisionError:\n",
    "            acc_scores.append(0.0)\n",
    "    # Return computed accuracy scores\n",
    "    return acc_scores[1]\n",
    "\n",
    "def calc_Precision(truth, pred, classes):\n",
    "    prec_scores = []\n",
    "    # Iterate over each class\n",
    "    for i in range(classes):\n",
    "        try:\n",
    "            gt = np.equal(truth, i)\n",
    "            pd = np.equal(pred, i)\n",
    "            # Calculate precision\n",
    "            prec = np.logical_and(pd, gt).sum() / pd.sum()\n",
    "            prec_scores.append(prec)\n",
    "        except ZeroDivisionError:\n",
    "            prec_scores.append(0.0)\n",
    "    # Return computed precision scores\n",
    "    return prec_scores[1]"
   ]
  },
  {
   "cell_type": "code",
   "execution_count": 8,
   "metadata": {},
   "outputs": [],
   "source": [
    "def norm(x):\n",
    "    x_norm = cv2.normalize(x, None, alpha=0, beta=1, norm_type=cv2.NORM_MINMAX, dtype=cv2.CV_32F)\n",
    "    return x_norm"
   ]
  },
  {
   "cell_type": "markdown",
   "metadata": {},
   "source": [
    "### Data Path"
   ]
  },
  {
   "cell_type": "code",
   "execution_count": 9,
   "metadata": {},
   "outputs": [],
   "source": [
    "\n",
    "vol_3 = '/home/saacfb/Projects/Bladder/Autosegmentation/subject 3/mri dicom/'\n",
    "vol_4 = '/home/saacfb/Projects/Bladder/Autosegmentation/subject 4 newer/5_MRI DICOM/'\n",
    "vol_12 = '/home/saacfb/Projects/Bladder/Autosegmentation/subject 12/MRI DICOM/'\n",
    "vol_13 = '/home/saacfb/Projects/Bladder/Autosegmentation/subject 13/MRI DICOM/'\n",
    "vol_18 = '/home/saacfb/Projects/Bladder/Autosegmentation/SUBJECT_18/SUB18_Original_DICOM/DICOM/1.3.6.1.4.1.18047.1.11.11599577220599/5/'\n",
    "vol_20 = '/home/saacfb/Projects/Bladder/Autosegmentation/SUBJECT_20/SUB20_Original_DICOM/DICOM/1.3.6.1.4.1.18047.1.11.11607956361266/2/'\n",
    "vol_29 = '/home/saacfb/Projects/Bladder/Autosegmentation/subj 29 new/2 dicom/'\n",
    "\n",
    "\n",
    "\n",
    "seg_3 = '/home/saacfb/Projects/Bladder/Autosegmentation/subject 3/bladder.nrrd'\n",
    "seg_4 = '/home/saacfb/Projects/Bladder/Autosegmentation/subject 4 newer/Segmentation_1.nrrd'\n",
    "seg_12 = '/home/saacfb/Projects/Bladder/Autosegmentation/subject 12/Segmentation.nrrd'\n",
    "seg_13 = '/home/saacfb/Projects/Bladder/Autosegmentation/subject 13/bladder.nrrd'\n",
    "seg_18 = '/home/saacfb/Projects/Bladder/Autosegmentation/SUBJECT_18/SUB18_Segmentation/Segmentation.nrrd'\n",
    "seg_20 = '/home/saacfb/Projects/Bladder/Autosegmentation/SUBJECT_20/SUB20_Segmentation/Segmentation.nrrd'\n",
    "seg_29 = '/home/saacfb/Projects/Bladder/Autosegmentation/subj 29 new/Segmentation.nrrd'"
   ]
  },
  {
   "cell_type": "markdown",
   "metadata": {},
   "source": [
    "### Empyt lists as a place holders for the training and validatin data"
   ]
  },
  {
   "cell_type": "code",
   "execution_count": 10,
   "metadata": {},
   "outputs": [],
   "source": [
    "x_train3 = []\n",
    "\n",
    "x_train4 = []\n",
    "\n",
    "x_train12 = []\n",
    "\n",
    "x_train13 = []\n",
    "\n",
    "x_train18 = []\n",
    "\n",
    "x_train20 = []\n",
    "\n",
    "x_test29 = []"
   ]
  },
  {
   "cell_type": "markdown",
   "metadata": {},
   "source": [
    "### Loading, normalizing, and resizing the training data"
   ]
  },
  {
   "cell_type": "code",
   "execution_count": null,
   "metadata": {},
   "outputs": [],
   "source": []
  },
  {
   "cell_type": "code",
   "execution_count": 11,
   "metadata": {},
   "outputs": [
    {
     "name": "stdout",
     "output_type": "stream",
     "text": [
      "glob: /home/saacfb/Projects/Bladder/Autosegmentation/subject 3/mri dicom/\n",
      "file count: 60\n",
      "skipped, no SliceLocation: 0\n"
     ]
    }
   ],
   "source": [
    "# load the DICOM files\n",
    "files3 = []\n",
    "print('glob: {}'.format(vol_3))\n",
    "for fname in sorted(glob.glob(vol_3+\"*.dcm\", recursive=False)):\n",
    "    files3.append(pydicom.dcmread(fname))\n",
    "\n",
    "print(\"file count: {}\".format(len(files3)))\n",
    "\n",
    "# skip files with no SliceLocation (eg scout views)\n",
    "slices = []\n",
    "skipcount = 0\n",
    "for f in files3:\n",
    "    if hasattr(f, 'SliceLocation'):\n",
    "        slices.append(f)\n",
    "    else:\n",
    "        skipcount = skipcount + 1\n",
    "\n",
    "print(\"skipped, no SliceLocation: {}\".format(skipcount))\n",
    "\n",
    "\n",
    "# ensure they are in the correct order\n",
    "slices = sorted(slices, key=lambda s: s.SliceLocation)\n",
    "\n",
    "for x in slices:\n",
    "#     img = cv2.resize(x.pixel_array, (256, 256))\n",
    "    x_train3.append(x.pixel_array)\n",
    "    \n",
    "\n",
    "y_train3, header3 = nrrd.read(seg_3)\n",
    "y_train3 = np.transpose(y_train3)\n",
    "\n",
    "###############################################\n",
    "\n",
    "# # load the DICOM files\n",
    "# files4 = []\n",
    "# print('glob: {}'.format(vol_4))\n",
    "# for fname in sorted(glob.glob(vol_4+\"*.dcm\", recursive=False)):\n",
    "#     files4.append(pydicom.dcmread(fname))\n",
    "\n",
    "# print(\"file count: {}\".format(len(files4)))\n",
    "\n",
    "# # skip files with no SliceLocation (eg scout views)\n",
    "# slices = []\n",
    "# skipcount = 0\n",
    "# for f in files4:\n",
    "#     if hasattr(f, 'SliceLocation'):\n",
    "#         slices.append(f)\n",
    "#     else:\n",
    "#         skipcount = skipcount + 1\n",
    "\n",
    "# print(\"skipped, no SliceLocation: {}\".format(skipcount))\n",
    "\n",
    "\n",
    "# # ensure they are in the correct order\n",
    "# slices = sorted(slices, key=lambda s: s.SliceLocation)\n",
    "\n",
    "# for x in slices:\n",
    "# #     img = cv2.resize(x.pixel_array, (256, 256))\n",
    "#     x_train4.append(x.pixel_array)\n",
    "    \n",
    "\n",
    "# y_train4, header4 = nrrd.read(seg_4)\n",
    "# y_train4 = np.transpose(y_train4)\n",
    "\n",
    "################################################\n",
    "\n",
    "\n",
    "# # load the DICOM files\n",
    "# files12 = []\n",
    "# print('glob: {}'.format(vol_12))\n",
    "# for fname in sorted(glob.glob(vol_12+\"*.dcm\", recursive=False)):\n",
    "#     files12.append(pydicom.dcmread(fname))\n",
    "\n",
    "# print(\"file count: {}\".format(len(files12)))\n",
    "\n",
    "# # skip files with no SliceLocation (eg scout views)\n",
    "# slices = []\n",
    "# skipcount = 0\n",
    "# for f in files12:\n",
    "#     if hasattr(f, 'SliceLocation'):\n",
    "#         slices.append(f)\n",
    "#     else:\n",
    "#         skipcount = skipcount + 1\n",
    "\n",
    "# print(\"skipped, no SliceLocation: {}\".format(skipcount))\n",
    "\n",
    "\n",
    "# # ensure they are in the correct order\n",
    "# slices = sorted(slices, key=lambda s: s.SliceLocation)\n",
    "\n",
    "# for x in slices:\n",
    "# #     img = cv2.resize(x.pixel_array, (256, 256))\n",
    "#     x_train12.append(x.pixel_array)\n",
    "    \n",
    "\n",
    "# y_train12, header12 = nrrd.read(seg_12)\n",
    "# y_train12 = np.transpose(y_train12)\n",
    "\n",
    "\n",
    "###################################################\n",
    "\n",
    "# # load the DICOM files\n",
    "# files13 = []\n",
    "# print('glob: {}'.format(vol_13))\n",
    "# for fname in sorted(glob.glob(vol_13+\"*.dcm\", recursive=False)):\n",
    "#     files13.append(pydicom.dcmread(fname))\n",
    "\n",
    "# print(\"file count: {}\".format(len(files13)))\n",
    "\n",
    "# # skip files with no SliceLocation (eg scout views)\n",
    "# slices = []\n",
    "# skipcount = 0\n",
    "# for f in files13:\n",
    "#     if hasattr(f, 'SliceLocation'):\n",
    "#         slices.append(f)\n",
    "#     else:\n",
    "#         skipcount = skipcount + 1\n",
    "\n",
    "# print(\"skipped, no SliceLocation: {}\".format(skipcount))\n",
    "\n",
    "\n",
    "# # ensure they are in the correct order\n",
    "# slices = sorted(slices, key=lambda s: s.SliceLocation)\n",
    "\n",
    "# for x in slices:\n",
    "# #     img = cv2.resize(x.pixel_array, (256, 256))\n",
    "#     x_train13.append(x.pixel_array)\n",
    "    \n",
    "\n",
    "# y_train13, header13 = nrrd.read(seg_13)\n",
    "# x_train13 = np.swapaxes(x_train13, 1, 2)\n",
    "# y_train13 = np.transpose(y_train13)"
   ]
  },
  {
   "cell_type": "code",
   "execution_count": null,
   "metadata": {},
   "outputs": [],
   "source": []
  },
  {
   "cell_type": "code",
   "execution_count": 12,
   "metadata": {},
   "outputs": [
    {
     "name": "stdout",
     "output_type": "stream",
     "text": [
      "glob: /home/saacfb/Projects/Bladder/Autosegmentation/SUBJECT_18/SUB18_Original_DICOM/DICOM/1.3.6.1.4.1.18047.1.11.11599577220599/5/\n",
      "file count: 63\n",
      "skipped, no SliceLocation: 0\n"
     ]
    }
   ],
   "source": [
    "# load the DICOM files\n",
    "files18 = []\n",
    "print('glob: {}'.format(vol_18))\n",
    "for fname in sorted(glob.glob(vol_18+\"*.dcm\", recursive=False)):\n",
    "    files18.append(pydicom.dcmread(fname))\n",
    "\n",
    "print(\"file count: {}\".format(len(files18)))\n",
    "\n",
    "# skip files with no SliceLocation (eg scout views)\n",
    "slices = []\n",
    "skipcount = 0\n",
    "for f in files18:\n",
    "    if hasattr(f, 'SliceLocation'):\n",
    "        slices.append(f)\n",
    "    else:\n",
    "        skipcount = skipcount + 1\n",
    "\n",
    "print(\"skipped, no SliceLocation: {}\".format(skipcount))\n",
    "\n",
    "\n",
    "# ensure they are in the correct order\n",
    "slices = sorted(slices, key=lambda s: s.SliceLocation)\n",
    "\n",
    "for x in slices:\n",
    "    x_train18.append(x.pixel_array)\n",
    "    \n",
    "\n",
    "y_train18, header18 = nrrd.read(seg_18)\n",
    "y_train18 = np.transpose(y_train18)"
   ]
  },
  {
   "cell_type": "code",
   "execution_count": 13,
   "metadata": {},
   "outputs": [
    {
     "name": "stdout",
     "output_type": "stream",
     "text": [
      "glob: /home/saacfb/Projects/Bladder/Autosegmentation/SUBJECT_20/SUB20_Original_DICOM/DICOM/1.3.6.1.4.1.18047.1.11.11607956361266/2/\n",
      "file count: 63\n",
      "skipped, no SliceLocation: 0\n"
     ]
    }
   ],
   "source": [
    "# load the DICOM files\n",
    "files20 = []\n",
    "print('glob: {}'.format(vol_20))\n",
    "for fname in sorted(glob.glob(vol_20+\"*.dcm\", recursive=False)):\n",
    "    files20.append(pydicom.dcmread(fname))\n",
    "\n",
    "print(\"file count: {}\".format(len(files20)))\n",
    "\n",
    "# skip files with no SliceLocation (eg scout views)\n",
    "slices = []\n",
    "skipcount = 0\n",
    "for f in files20:\n",
    "    if hasattr(f, 'SliceLocation'):\n",
    "        slices.append(f)\n",
    "    else:\n",
    "        skipcount = skipcount + 1\n",
    "\n",
    "print(\"skipped, no SliceLocation: {}\".format(skipcount))\n",
    "\n",
    "\n",
    "# ensure they are in the correct order\n",
    "slices = sorted(slices, key=lambda s: s.SliceLocation)\n",
    "\n",
    "for x in slices:\n",
    "    x_train20.append(x.pixel_array)\n",
    "    \n",
    "\n",
    "y_train20, header20 = nrrd.read(seg_20)\n",
    "y_train20 = np.transpose(y_train20)"
   ]
  },
  {
   "cell_type": "code",
   "execution_count": null,
   "metadata": {},
   "outputs": [],
   "source": []
  },
  {
   "cell_type": "code",
   "execution_count": 14,
   "metadata": {},
   "outputs": [
    {
     "name": "stdout",
     "output_type": "stream",
     "text": [
      "glob: /home/saacfb/Projects/Bladder/Autosegmentation/subj 29 new/2 dicom/\n",
      "file count: 57\n",
      "skipped, no SliceLocation: 0\n"
     ]
    }
   ],
   "source": [
    "# load the DICOM files\n",
    "files29 = []\n",
    "print('glob: {}'.format(vol_29))\n",
    "for fname in sorted(glob.glob(vol_29+\"*.dcm\", recursive=False)):\n",
    "    files29.append(pydicom.dcmread(fname))\n",
    "\n",
    "print(\"file count: {}\".format(len(files29)))\n",
    "\n",
    "# skip files with no SliceLocation (eg scout views)\n",
    "slices = []\n",
    "skipcount = 0\n",
    "for f in files29:\n",
    "    if hasattr(f, 'SliceLocation'):\n",
    "        slices.append(f)\n",
    "    else:\n",
    "        skipcount = skipcount + 1\n",
    "\n",
    "print(\"skipped, no SliceLocation: {}\".format(skipcount))\n",
    "\n",
    "\n",
    "# ensure they are in the correct order\n",
    "slices = sorted(slices, key=lambda s: s.SliceLocation)\n",
    "\n",
    "# PNG = False\n",
    "index = 0\n",
    "for x in slices:\n",
    "    x_test29.append(x.pixel_array)\n",
    "#     plt.imsave('/home/saacfb/Projects/Bladder/Autosegmentation/subj 29 new/images/'+str(index)+'.png', x.pixel_array)\n",
    "#     index = index+1\n",
    "    \n",
    "\n",
    "    \n",
    "\n",
    "y_test29, header29 = nrrd.read(seg_29)\n",
    "y_test29 = np.transpose(y_test29)\n",
    "\n",
    "\n"
   ]
  },
  {
   "cell_type": "code",
   "execution_count": null,
   "metadata": {},
   "outputs": [],
   "source": [
    "# def get_names(path):\n",
    "#     names = []\n",
    "#     for root, dirnames, filenames in os.walk(path):\n",
    "#         for filename in filenames:\n",
    "#             _, ext = os.path.splitext(filename)\n",
    "#             if ext in ['.dcm']:\n",
    "#                 names.append(filename)\n",
    "    \n",
    "#     return names\n",
    "\n",
    "# def convert_dcm_jpg(name):\n",
    "    \n",
    "#     im = pydicom.dcmread('/home/saacfb/Projects/Bladder/Autosegmentation/subject 3/mri dicom/'+name)\n",
    "\n",
    "#     im = im.pixel_array.astype(float)\n",
    "\n",
    "#     rescaled_image = (np.maximum(im,0)/im.max())*255 # float pixels\n",
    "#     final_image = np.uint8(rescaled_image) # integers pixels\n",
    "\n",
    "#     final_image = Image.fromarray(final_image)\n",
    "\n",
    "#     return final_image"
   ]
  },
  {
   "cell_type": "code",
   "execution_count": null,
   "metadata": {},
   "outputs": [],
   "source": [
    "# names = get_names('/home/saacfb/Projects/Bladder/Autosegmentation/subject 3/mri dicom/')\n",
    "# for name in names:\n",
    "#     image = convert_dcm_jpg(name)\n",
    "#     image.save('/home/saacfb/Projects/Bladder/Autosegmentation/subject 3/images/'+name+'.png')"
   ]
  },
  {
   "cell_type": "code",
   "execution_count": null,
   "metadata": {},
   "outputs": [],
   "source": []
  },
  {
   "cell_type": "code",
   "execution_count": null,
   "metadata": {},
   "outputs": [],
   "source": []
  },
  {
   "cell_type": "markdown",
   "metadata": {},
   "source": [
    "### Loading, normalizing, and resizing the testing data"
   ]
  },
  {
   "cell_type": "markdown",
   "metadata": {},
   "source": [
    "### Converting the data lists into numpy arrays"
   ]
  },
  {
   "cell_type": "code",
   "execution_count": 15,
   "metadata": {},
   "outputs": [
    {
     "name": "stdout",
     "output_type": "stream",
     "text": [
      "60\n",
      "60\n",
      "(60, 256, 256)\n",
      "(60, 256, 256)\n",
      ".....subject 3.......\n",
      "\n",
      "\n",
      "63\n",
      "63\n",
      "(63, 256, 256)\n",
      "(63, 256, 256)\n",
      ".....subject 18.......\n",
      "\n",
      "\n",
      "63\n",
      "63\n",
      "(63, 256, 256)\n",
      "(63, 256, 256)\n",
      ".....subject 20.......\n",
      "\n",
      "\n",
      "57\n",
      "57\n",
      "(57, 256, 256)\n",
      "(57, 256, 256)\n",
      ".....subject 29 new.......\n"
     ]
    }
   ],
   "source": [
    "\n",
    "\n",
    "print(len(x_train3))\n",
    "print(len(y_train3))\n",
    "\n",
    "x_train3 = np.array(x_train3)\n",
    "y_train3 = np.array(y_train3)\n",
    "\n",
    "print(x_train3.shape)\n",
    "print(y_train3.shape)\n",
    "print('.....subject 3.......')\n",
    "print(\"\\n\")\n",
    "###################################\n",
    "\n",
    "# print(len(x_train4))\n",
    "# print(len(y_train4))\n",
    "\n",
    "# x_train4 = np.array(x_train4)\n",
    "# y_train4 = np.array(y_train4)\n",
    "\n",
    "# print(x_train4.shape)\n",
    "# print(y_train4.shape)\n",
    "# print('.....subject .......')\n",
    "# print(\"\\n\")\n",
    "###################################\n",
    "\n",
    "\n",
    "# print(len(x_train12))\n",
    "# print(len(y_train12))\n",
    "\n",
    "# x_train12 = np.array(x_train12)\n",
    "# y_train12 = np.array(y_train12)\n",
    "\n",
    "# print(x_train12.shape)\n",
    "# print(y_train12.shape)\n",
    "# print('.....subject 12.......')\n",
    "# print(\"\\n\")\n",
    "#####################################\n",
    "\n",
    "# print(len(x_train13))\n",
    "# print(len(y_train13))\n",
    "\n",
    "# x_train13 = np.array(x_train13)\n",
    "# y_train13 = np.array(y_train13)\n",
    "\n",
    "# print(x_train13.shape)\n",
    "# print(y_train13.shape)\n",
    "# print('.....subject 13.......')\n",
    "# print(\"\\n\")\n",
    "#####################################\n",
    "print(len(x_train18))\n",
    "print(len(y_train18))\n",
    "\n",
    "x_train18 = np.array(x_train18)\n",
    "y_train18 = np.array(y_train18)\n",
    "\n",
    "print(x_train18.shape)\n",
    "print(y_train18.shape)\n",
    "\n",
    "print('.....subject 18.......')\n",
    "print(\"\\n\")\n",
    "#####################################\n",
    "\n",
    "print(len(x_train20))\n",
    "print(len(y_train20))\n",
    "\n",
    "x_train20 = np.array(x_train20)\n",
    "y_train20 = np.array(y_train20)\n",
    "\n",
    "print(x_train20.shape)\n",
    "print(y_train20.shape)\n",
    "print('.....subject 20.......')\n",
    "print(\"\\n\")\n",
    "#######################################\n",
    "print(len(x_test29))\n",
    "print(len(y_test29))\n",
    "\n",
    "x_test29 = np.array(x_test29)\n",
    "y_test29 = np.array(y_test29)\n",
    "\n",
    "print(x_test29.shape)\n",
    "print(y_test29.shape)\n",
    "print('.....subject 29 new.......')"
   ]
  },
  {
   "cell_type": "code",
   "execution_count": null,
   "metadata": {},
   "outputs": [],
   "source": []
  },
  {
   "cell_type": "code",
   "execution_count": null,
   "metadata": {},
   "outputs": [],
   "source": []
  },
  {
   "cell_type": "code",
   "execution_count": null,
   "metadata": {},
   "outputs": [],
   "source": [
    "# y_train4[y_train4 < 3] = 0\n",
    "# y_train4[y_train4 == 3] = 1\n",
    "# y_train4[y_train4 > 3] = 0"
   ]
  },
  {
   "cell_type": "code",
   "execution_count": 16,
   "metadata": {},
   "outputs": [],
   "source": [
    "y_train3[y_train3 < 5] = 0\n",
    "y_train3[y_train3 == 5] = 1\n",
    "y_train3[y_train3 > 5] = 0"
   ]
  },
  {
   "cell_type": "code",
   "execution_count": 17,
   "metadata": {},
   "outputs": [],
   "source": [
    "y_train18[y_train18 < 2] = 0\n",
    "y_train18[y_train18 == 2] = 1\n",
    "y_train18[y_train18 > 2] = 0"
   ]
  },
  {
   "cell_type": "code",
   "execution_count": 18,
   "metadata": {},
   "outputs": [],
   "source": [
    "y_train20[y_train20 < 3] = 0\n",
    "y_train20[y_train20 == 3] = 1\n",
    "y_train20[y_train20 > 3] = 0\n"
   ]
  },
  {
   "cell_type": "code",
   "execution_count": 19,
   "metadata": {},
   "outputs": [],
   "source": [
    "y_test29[y_test29 < 3] = 0\n",
    "y_test29[y_test29 == 3] = 0\n",
    "y_test29[y_test29 == 4] = 1\n",
    "y_test29[y_test29 > 4] = 0\n",
    "\n",
    "\n"
   ]
  },
  {
   "cell_type": "code",
   "execution_count": null,
   "metadata": {},
   "outputs": [],
   "source": []
  },
  {
   "cell_type": "markdown",
   "metadata": {},
   "source": [
    "## Converting numpy to images"
   ]
  },
  {
   "cell_type": "code",
   "execution_count": null,
   "metadata": {},
   "outputs": [],
   "source": [
    "# def save_image_from_dicom(path, array, label=False):\n",
    "#     index = 0\n",
    "#     for x in array:\n",
    "# #         bw_mask = np.where(x > 0, 255, 0).astype(np.uint8)\n",
    "#         if label:\n",
    "#             bw_mask = np.where(x > 0, 255, 0).astype(np.uint8)\n",
    "#             plt.imsave(path+str(index)+'_seg.png', bw_mask, cmap='gray')\n",
    "#         index = index+1\n",
    "    \n",
    "#     return\n",
    "    "
   ]
  },
  {
   "cell_type": "code",
   "execution_count": null,
   "metadata": {},
   "outputs": [],
   "source": [
    "def save_image_from_dicom(path, array, label=False):\n",
    "    index = 0\n",
    "    for x in array:\n",
    "        if label:\n",
    "            bw_mask = np.where(x > 0, 255, 0).astype(np.uint8)\n",
    "            plt.imsave(path+str(index)+'_seg.png', bw_mask, cmap='gray')\n",
    "        else:\n",
    "            plt.imsave(path+str(index)+'.png', x)\n",
    "        index = index+1\n",
    "    \n",
    "    return\n",
    "    "
   ]
  },
  {
   "cell_type": "code",
   "execution_count": null,
   "metadata": {},
   "outputs": [],
   "source": [
    "save_image_from_dicom('/home/saacfb/Projects/Bladder/Autosegmentation/subject 3/images/', x_train3, label=False)"
   ]
  },
  {
   "cell_type": "code",
   "execution_count": null,
   "metadata": {},
   "outputs": [],
   "source": [
    "save_image_from_dicom('/home/saacfb/Projects/Bladder/Autosegmentation/subject 3/masks/', y_train3, label=True)"
   ]
  },
  {
   "cell_type": "code",
   "execution_count": null,
   "metadata": {},
   "outputs": [],
   "source": [
    "# index = 0\n",
    "# for x in y_train3:\n",
    "#     plt.imsave('/home/saacfb/Projects/Bladder/Autosegmentation/subject 3/masks/'+str(index)+'.png', x)\n",
    "#     index = index+1\n",
    "    "
   ]
  },
  {
   "cell_type": "code",
   "execution_count": null,
   "metadata": {},
   "outputs": [],
   "source": [
    "# plt.imsave('/home/saacfb/Projects/Bladder/Autosegmentation/subject 3/masks/30.png', y_test29[30])\n"
   ]
  },
  {
   "cell_type": "code",
   "execution_count": null,
   "metadata": {},
   "outputs": [],
   "source": []
  },
  {
   "cell_type": "markdown",
   "metadata": {},
   "source": [
    "### Concatenate subjects for training "
   ]
  },
  {
   "cell_type": "code",
   "execution_count": 20,
   "metadata": {},
   "outputs": [
    {
     "name": "stdout",
     "output_type": "stream",
     "text": [
      "(186, 256, 256)\n"
     ]
    }
   ],
   "source": [
    "x_train = np.concatenate((x_train3, x_train18, x_train20), axis=0)\n",
    "print(x_train.shape)"
   ]
  },
  {
   "cell_type": "code",
   "execution_count": 21,
   "metadata": {},
   "outputs": [
    {
     "name": "stdout",
     "output_type": "stream",
     "text": [
      "(186, 256, 256)\n"
     ]
    }
   ],
   "source": [
    "y_train = np.concatenate((y_train3, y_train18, y_train20), axis=0)\n",
    "print(y_train.shape)"
   ]
  },
  {
   "cell_type": "code",
   "execution_count": null,
   "metadata": {},
   "outputs": [],
   "source": []
  },
  {
   "cell_type": "code",
   "execution_count": null,
   "metadata": {},
   "outputs": [],
   "source": []
  },
  {
   "cell_type": "code",
   "execution_count": null,
   "metadata": {},
   "outputs": [],
   "source": [
    "# # Normalize the augnmented images (in-case of intesity changes):\n",
    "# for s in range(x_train.shape[0]):\n",
    "#     x_train[s] = norm(x_train[s])"
   ]
  },
  {
   "cell_type": "code",
   "execution_count": null,
   "metadata": {},
   "outputs": [],
   "source": []
  },
  {
   "cell_type": "code",
   "execution_count": null,
   "metadata": {},
   "outputs": [],
   "source": []
  },
  {
   "cell_type": "code",
   "execution_count": 22,
   "metadata": {},
   "outputs": [
    {
     "data": {
      "text/plain": [
       "{0: 3914074, 1: 18086}"
      ]
     },
     "execution_count": 22,
     "metadata": {},
     "output_type": "execute_result"
    }
   ],
   "source": [
    "unique, counts = np.unique(y_train3, return_counts=True)\n",
    "\n",
    "dict(zip(unique, counts))"
   ]
  },
  {
   "cell_type": "code",
   "execution_count": 23,
   "metadata": {},
   "outputs": [
    {
     "data": {
      "text/plain": [
       "{0: 4125854, 1: 2914}"
      ]
     },
     "execution_count": 23,
     "metadata": {},
     "output_type": "execute_result"
    }
   ],
   "source": [
    "unique, counts = np.unique(y_train18, return_counts=True)\n",
    "\n",
    "dict(zip(unique, counts))"
   ]
  },
  {
   "cell_type": "code",
   "execution_count": 24,
   "metadata": {},
   "outputs": [
    {
     "data": {
      "text/plain": [
       "{0: 4118594, 1: 10174}"
      ]
     },
     "execution_count": 24,
     "metadata": {},
     "output_type": "execute_result"
    }
   ],
   "source": [
    "unique, counts = np.unique(y_train20, return_counts=True)\n",
    "\n",
    "dict(zip(unique, counts))"
   ]
  },
  {
   "cell_type": "code",
   "execution_count": 25,
   "metadata": {},
   "outputs": [
    {
     "data": {
      "text/plain": [
       "{0: 3731451, 1: 4101}"
      ]
     },
     "execution_count": 25,
     "metadata": {},
     "output_type": "execute_result"
    }
   ],
   "source": [
    "unique, counts = np.unique(y_test29, return_counts=True)\n",
    "\n",
    "dict(zip(unique, counts))"
   ]
  },
  {
   "cell_type": "code",
   "execution_count": 26,
   "metadata": {},
   "outputs": [
    {
     "data": {
      "image/png": "[encoded data removed]",
      "text/plain": [
       "<Figure size 432x288 with 1 Axes>"
      ]
     },
     "metadata": {
      "needs_background": "light"
     },
     "output_type": "display_data"
    }
   ],
   "source": [
    "plt.imshow(y_train3[27])#, cmap='gray')\n",
    "plt.show()\n"
   ]
  },
  {
   "cell_type": "code",
   "execution_count": null,
   "metadata": {},
   "outputs": [],
   "source": [
    "import matplotlib\n",
    "# colors = ['black','green','blue','purple', 'red','white', 'yellow', 'brown', 'silver', 'gold']\n",
    "plt.rcParams['figure.figsize'] = [20, 10]\n",
    "# plt.imshow(slices[20].pixel_array, cmap='gray')\n",
    "# plt.imshow(slices[30].pixel_array, cmap='gray')\n",
    "plt.imshow(x_train3[25])\n",
    "\n",
    "plt.imshow(y_train3[25], alpha =0.1)\n",
    "plt.show()"
   ]
  },
  {
   "cell_type": "code",
   "execution_count": null,
   "metadata": {},
   "outputs": [],
   "source": [
    "# # ensure they are in the correct order\n",
    "# slices = sorted(slices, key=lambda s: s.SliceLocation)\n",
    "\n",
    "# # pixel aspects, assuming all slices are the same\n",
    "# ps = slices[0].PixelSpacing\n",
    "# ss = slices[0].SliceThickness\n",
    "# ax_aspect = ps[1]/ps[0]\n",
    "# sag_aspect = ps[1]/ss\n",
    "# cor_aspect = ss/ps[0]\n",
    "\n",
    "# # create 3D array\n",
    "# img_shape = list(slices[0].pixel_array.shape)\n",
    "# img_shape.append(len(slices))\n",
    "# img3d=np.zeros(img_shape)\n",
    "\n",
    "# # fill 3D array with the images from the files\n",
    "# for i, s in enumerate(slices):\n",
    "#     img2d = s.pixel_array\n",
    "#     img3d[:,:,i] = img2d\n",
    "\n",
    "# print(img3d.shape)\n",
    "# # plot 3 orthogonal slices\n",
    "# a1 = plt.subplot(2,2,1)\n",
    "# plt.imshow(img3d[:,:,0])\n",
    "# a1.set_aspect(ax_aspect)\n",
    "\n",
    "# a2 = plt.subplot(2,2,2)\n",
    "# plt.imshow(img3d[:,img_shape[1]//2,:])\n",
    "# a2.set_aspect(sag_aspect)\n",
    "\n",
    "# a3 = plt.subplot(2,2,3)\n",
    "# plt.imshow(img3d[img_shape[0]//2,:,:].T)\n",
    "# a3.set_aspect(cor_aspect)\n",
    "\n",
    "# plt.show()"
   ]
  },
  {
   "cell_type": "code",
   "execution_count": null,
   "metadata": {},
   "outputs": [],
   "source": []
  },
  {
   "cell_type": "code",
   "execution_count": null,
   "metadata": {},
   "outputs": [],
   "source": [
    "# # Convert the Image Orientation Patient tag cosine values into a text string of the plane.\n",
    "# # This represents the plane the image is 'closest to' .. it does not explain any obliqueness\n",
    "# def get_image_plane(loc):\n",
    "\n",
    "#     row_x = round(loc[0])\n",
    "#     row_y = round(loc[1])\n",
    "#     row_z = round(loc[2])\n",
    "#     col_x = round(loc[3])\n",
    "#     col_y = round(loc[4])\n",
    "#     col_z = round(loc[5])\n",
    "\n",
    "#     if row_x == 1 and row_y == 0 and col_x == 0 and col_y == 0:\n",
    "#         return \"Coronal\"\n",
    "\n",
    "#     if row_x == 0 and row_y == 1 and col_x == 0 and col_y == 0:\n",
    "#         return \"Sagittal\"\n",
    "\n",
    "#     if row_x == 1 and row_y == 0 and col_x == 0 and col_y == 1:\n",
    "#         return \"Axial\"\n",
    "\n",
    "#     return \"Unknown\"\n",
    "\n",
    "# # Display images and their plane\n",
    "# def plot_images(images):\n",
    "    \n",
    "#     for img in images:\n",
    "#         fig = plt.figure(figsize=(5, 5))\n",
    "#         image = img\n",
    "#         image_orientation_patient = image[0x0020,0x0037]\n",
    "#         plane = get_image_plane(image_orientation_patient)\n",
    "#         plt.title(\" - \" + plane)\n",
    "#         plt.imshow(image.pixel_array, cmap='gray')"
   ]
  },
  {
   "cell_type": "code",
   "execution_count": null,
   "metadata": {},
   "outputs": [],
   "source": [
    "# # ID / Directory name of the study we want to get\n",
    "# plot_images(files12[31:33])\n",
    "# # plot_images(seg_12[31:33])"
   ]
  },
  {
   "cell_type": "code",
   "execution_count": null,
   "metadata": {},
   "outputs": [],
   "source": []
  },
  {
   "cell_type": "code",
   "execution_count": null,
   "metadata": {},
   "outputs": [],
   "source": []
  },
  {
   "cell_type": "code",
   "execution_count": null,
   "metadata": {},
   "outputs": [],
   "source": [
    "# for x in range (y_train3.shape[0]):\n",
    "#     unique, counts = np.unique(y_train3[x], return_counts=True)\n",
    "#     print(dict(zip(unique, counts)))"
   ]
  },
  {
   "cell_type": "markdown",
   "metadata": {},
   "source": [
    "### Normalize testing subject"
   ]
  },
  {
   "cell_type": "code",
   "execution_count": 27,
   "metadata": {},
   "outputs": [],
   "source": [
    "# Normalize the augnmented images (in-case of intesity changes):\n",
    "for s in range(y_test29.shape[0]):\n",
    "    y_test29[s] = norm(y_test29[s])"
   ]
  },
  {
   "cell_type": "code",
   "execution_count": null,
   "metadata": {},
   "outputs": [],
   "source": []
  },
  {
   "cell_type": "code",
   "execution_count": null,
   "metadata": {},
   "outputs": [],
   "source": []
  },
  {
   "cell_type": "markdown",
   "metadata": {},
   "source": [
    "### Changing the labels into categorical using the number of classes"
   ]
  },
  {
   "cell_type": "code",
   "execution_count": 28,
   "metadata": {},
   "outputs": [
    {
     "name": "stdout",
     "output_type": "stream",
     "text": [
      "(186, 256, 256)\n",
      "(57, 256, 256)\n"
     ]
    }
   ],
   "source": [
    "print(y_train.shape)\n",
    "print(y_test29.shape)"
   ]
  },
  {
   "cell_type": "code",
   "execution_count": 29,
   "metadata": {},
   "outputs": [
    {
     "name": "stdout",
     "output_type": "stream",
     "text": [
      "(186, 256, 256)\n",
      "(186, 256, 256)\n",
      "(57, 256, 256)\n",
      "(57, 256, 256)\n",
      "\n",
      "(36, 256, 256)\n",
      "(36, 256, 256)\n",
      "(9, 256, 256)\n",
      "(9, 256, 256)\n"
     ]
    }
   ],
   "source": [
    "# Remove Non-bladder Slices:\n",
    "X_train_2 = []\n",
    "y_train_2 = []\n",
    "X_test_2 = []\n",
    "y_test_2 = []\n",
    "\n",
    "for i in range(y_train.shape[0]):\n",
    "    if np.any(y_train[i]) :\n",
    "        X_train_2.append(x_train[i])\n",
    "        y_train_2.append(y_train[i])\n",
    "\n",
    "for i in range(y_test29.shape[0]):\n",
    "    if np.any(y_test29[i]):\n",
    "        X_test_2.append(x_test29[i])\n",
    "        y_test_2.append(y_test29[i])\n",
    "\n",
    "\n",
    "X_train_2 = np.array(X_train_2)\n",
    "y_train_2 = np.array(y_train_2)\n",
    "X_test_2 = np.array(X_test_2)\n",
    "y_test_2 = np.array(y_test_2)\n",
    "\n",
    "\n",
    "print(x_train.shape)\n",
    "print(y_train.shape)\n",
    "print(x_test29.shape)\n",
    "print(y_test29.shape)\n",
    "print()\n",
    "print(X_train_2.shape)\n",
    "print(y_train_2.shape)\n",
    "print(X_test_2.shape)\n",
    "print(y_test_2.shape)"
   ]
  },
  {
   "cell_type": "code",
   "execution_count": null,
   "metadata": {},
   "outputs": [],
   "source": [
    "# unique, counts = np.unique(y_train_2, return_counts=True)\n",
    "\n",
    "# dict(zip(unique, counts))"
   ]
  },
  {
   "cell_type": "code",
   "execution_count": null,
   "metadata": {},
   "outputs": [],
   "source": []
  },
  {
   "cell_type": "code",
   "execution_count": null,
   "metadata": {},
   "outputs": [],
   "source": []
  },
  {
   "cell_type": "code",
   "execution_count": null,
   "metadata": {},
   "outputs": [],
   "source": []
  },
  {
   "cell_type": "code",
   "execution_count": null,
   "metadata": {},
   "outputs": [],
   "source": []
  },
  {
   "cell_type": "markdown",
   "metadata": {},
   "source": [
    "### Apply Data Augmentation"
   ]
  },
  {
   "cell_type": "code",
   "execution_count": 30,
   "metadata": {},
   "outputs": [],
   "source": [
    "def augment_data(ct_vol_train, seg_vol_train, ct_vol_test, seg_vol_test):\n",
    "    \n",
    "\n",
    "    ct_vol_test = np.array(ct_vol_test, dtype='float32')\n",
    "    \n",
    "    seg_vol_test = np.array(seg_vol_test, dtype='float32')\n",
    "\n",
    "    # Augmentation:\n",
    "    image_list = []\n",
    "    label_list = []\n",
    "\n",
    "    \n",
    "    for x in range(0, len(ct_vol_train)):\n",
    "        # append original to new lists\n",
    "        image_list.append(ct_vol_train[x])\n",
    "        label_list.append(seg_vol_train[x])\n",
    "\n",
    "    for x in range(0, len(image_list)):\n",
    "\n",
    "        image = image_list[x] \n",
    "        label = label_list[x]        \n",
    "        \n",
    "        if np.any(label):\n",
    "            \n",
    "            # Image flipping :\n",
    "            flipped_img = np.fliplr(image)\n",
    "            flipped_lbl = np.fliplr(label)\n",
    "            image_list.append(flipped_img)\n",
    "            label_list.append(flipped_lbl)\n",
    "\n",
    "            # Image flipping :\n",
    "            flipp_img = np.flipud(image)\n",
    "            flipp_lbl = np.flipud(label)\n",
    "            image_list.append(flipp_img)\n",
    "            label_list.append(flipp_lbl)\n",
    "\n",
    "            # Plurring Images\n",
    "            plurred_img = ndimage.gaussian_filter(image, sigma=0.5)\n",
    "            image_list.append(plurred_img)\n",
    "            label_list.append(label)\n",
    "\n",
    "\n",
    "            # Image Sharpining;\n",
    "            zoomeed = ndimage.gaussian_filter(image, sigma=0.5)\n",
    "            filter_blurred_f = ndimage.gaussian_filter(zoomeed, 0.5)\n",
    "            list_l = [10,15,20,25,30]\n",
    "            alpha = random.choice(list_l)\n",
    "            sharpened = zoomeed + alpha * (zoomeed - filter_blurred_f)\n",
    "            image_list.append(sharpened)\n",
    "            label_list.append(label)\n",
    "\n",
    "\n",
    "    #print(image_list)\n",
    "    image_list = np.array(image_list, dtype='float32')\n",
    "    label_list = np.array(label_list, dtype='float32')\n",
    "#     image_list = np.expand_dims(image_list, axis=-1)\n",
    "\n",
    "    \n",
    "    # Normalize the augnmented images (in-case of intesity changes):\n",
    "#     for s in range(image_list.shape[0]):\n",
    "#         image_list[s] = norm(image_list[s])\n",
    "    \n",
    "    return image_list, label_list, ct_vol_test, seg_vol_test"
   ]
  },
  {
   "cell_type": "code",
   "execution_count": null,
   "metadata": {},
   "outputs": [],
   "source": []
  },
  {
   "cell_type": "markdown",
   "metadata": {},
   "source": [
    "### Calling Data_Augmentation"
   ]
  },
  {
   "cell_type": "code",
   "execution_count": 31,
   "metadata": {},
   "outputs": [
    {
     "name": "stdout",
     "output_type": "stream",
     "text": [
      "[]\n",
      "(180, 256, 256)\n",
      "[]\n",
      "(9, 256, 256)\n"
     ]
    }
   ],
   "source": [
    "X_train, Y_train, X_test, Y_test  = augment_data(X_train_2, y_train_2, X_test_2, y_test_2)\n",
    "\n",
    "print(np.argwhere(np.isnan(X_train)))\n",
    "print(X_train.shape)\n",
    "print(np.argwhere(np.isnan(X_test)))\n",
    "print(X_test.shape)"
   ]
  },
  {
   "cell_type": "code",
   "execution_count": 32,
   "metadata": {},
   "outputs": [],
   "source": [
    "# Normalize the augnmented images (in-case of intesity changes):\n",
    "for s in range(X_train.shape[0]):\n",
    "        X_train[s] = norm(X_train[s])"
   ]
  },
  {
   "cell_type": "code",
   "execution_count": 33,
   "metadata": {},
   "outputs": [],
   "source": [
    "# Normalize the augnmented images (in-case of intesity changes):\n",
    "for s in range(X_test.shape[0]):\n",
    "        X_test[s] = norm(X_test[s])"
   ]
  },
  {
   "cell_type": "code",
   "execution_count": 34,
   "metadata": {},
   "outputs": [
    {
     "name": "stdout",
     "output_type": "stream",
     "text": [
      "(180, 256, 256, 1)\n",
      "(9, 256, 256, 1)\n"
     ]
    }
   ],
   "source": [
    "X_train = np.expand_dims(X_train, axis=-1)\n",
    "\n",
    "X_test = np.expand_dims(X_test, axis=-1)\n",
    "\n",
    "print(X_train.shape)\n",
    "print(X_test.shape)"
   ]
  },
  {
   "cell_type": "code",
   "execution_count": 35,
   "metadata": {},
   "outputs": [],
   "source": [
    "Y_train = np.expand_dims(Y_train, axis=-1)\n",
    "\n",
    "Y_test = np.expand_dims(Y_test, axis=-1)"
   ]
  },
  {
   "cell_type": "markdown",
   "metadata": {},
   "source": [
    "### Check the Data shapes and values:"
   ]
  },
  {
   "cell_type": "code",
   "execution_count": 36,
   "metadata": {},
   "outputs": [
    {
     "name": "stdout",
     "output_type": "stream",
     "text": [
      "X_train- (180, 256, 256, 1)\n",
      "y_train- (180, 256, 256, 1)\n",
      "X_test- (9, 256, 256, 1)\n",
      "y_test- (9, 256, 256, 1)\n"
     ]
    }
   ],
   "source": [
    "print(\"X_train-\", X_train.shape)\n",
    "print(\"y_train-\", Y_train.shape)\n",
    "print(\"X_test-\", X_test.shape)\n",
    "print(\"y_test-\", Y_test.shape)"
   ]
  },
  {
   "cell_type": "code",
   "execution_count": 37,
   "metadata": {},
   "outputs": [
    {
     "name": "stdout",
     "output_type": "stream",
     "text": [
      "1.0\n",
      "0.0\n",
      "1.0\n",
      "0.0\n"
     ]
    }
   ],
   "source": [
    "print(np.amax(Y_train))\n",
    "print(np.amin(Y_train))\n",
    "\n",
    "print(np.amax(Y_test))\n",
    "print(np.amin(Y_test))"
   ]
  },
  {
   "cell_type": "code",
   "execution_count": 38,
   "metadata": {},
   "outputs": [
    {
     "name": "stdout",
     "output_type": "stream",
     "text": [
      "1.0\n",
      "0.0\n",
      "1.0\n",
      "0.0\n"
     ]
    }
   ],
   "source": [
    "print(np.amax(X_train[:]))\n",
    "print(np.amin(Y_train[:]))\n",
    "\n",
    "print(np.amax(X_test[:]))\n",
    "print(np.amin(Y_test[:]))"
   ]
  },
  {
   "cell_type": "markdown",
   "metadata": {},
   "source": [
    "### Visualizing some of the Testing/Training Data\n",
    "#### [0, 1, 2] represent the Classes [Background, Non-Carcinoma, Carcinoma]"
   ]
  },
  {
   "cell_type": "code",
   "execution_count": 39,
   "metadata": {},
   "outputs": [
    {
     "data": {
      "image/png": "[encoded data removed]",
      "text/plain": [
       "<Figure size 432x288 with 1 Axes>"
      ]
     },
     "metadata": {
      "needs_background": "light"
     },
     "output_type": "display_data"
    },
    {
     "data": {
      "image/png": "[encoded data removed]",
      "text/plain": [
       "<Figure size 432x288 with 1 Axes>"
      ]
     },
     "metadata": {
      "needs_background": "light"
     },
     "output_type": "display_data"
    }
   ],
   "source": [
    "y = 60\n",
    "plt.imshow(X_train[y], cmap=\"gray\")\n",
    "plt.show()\n",
    "plt.imshow(Y_train[y], cmap=\"gray\")\n",
    "plt.show()"
   ]
  },
  {
   "cell_type": "code",
   "execution_count": 40,
   "metadata": {},
   "outputs": [
    {
     "data": {
      "image/png": "[encoded data removed]",
      "text/plain": [
       "<Figure size 1440x720 with 10 Axes>"
      ]
     },
     "metadata": {
      "needs_background": "light"
     },
     "output_type": "display_data"
    }
   ],
   "source": [
    "y = 24\n",
    "# colors = ['black','green','blue','purple', 'red','white', 'yellow', 'brown', 'silver', 'gold']\n",
    "\n",
    "plt.rcParams['figure.figsize'] = [20, 10]\n",
    "\n",
    "a1 = plt.subplot(2, 5, 1)\n",
    "plt.imshow(y_train20[y], cmap='gray')\n",
    "# plt.imshow(readdata[x,:,:], alpha=0.35)\n",
    "\n",
    "a2 = plt.subplot(2, 5, 2)\n",
    "plt.imshow(y_train20[y+1], cmap='gray')\n",
    "# plt.imshow(readdata[x+10,:,:], alpha=0.53)\n",
    "\n",
    "a2 = plt.subplot(2, 5, 3)\n",
    "plt.imshow(y_train20[y+2], cmap='gray')\n",
    "# plt.imshow(readdata[x+15,:,:],  alpha=0.53)\n",
    "\n",
    "a2 = plt.subplot(2, 5, 4)\n",
    "plt.imshow(y_train20[y+3], cmap='gray')\n",
    "# plt.imshow(readdata[x,:,:], alpha=0.35)\n",
    "\n",
    "a2 = plt.subplot(2, 5, 5)\n",
    "plt.imshow(y_train20[y+4], cmap='gray')\n",
    "# plt.imshow(readdata[x+40,:,:], alpha=0.53)\n",
    "\n",
    "a2 = plt.subplot(2, 5, 6)\n",
    "plt.imshow(y_train20[y+5], cmap='gray')\n",
    "# plt.imshow(readdata[x+5,:,:], alpha=0.5)\n",
    "\n",
    "a2 = plt.subplot(2, 5, 7)\n",
    "plt.imshow(y_train20[y+5], cmap='gray')\n",
    "# plt.imshow(readdata[x+6,:,:], alpha=0.35)\n",
    "\n",
    "a2 = plt.subplot(2, 5, 8)\n",
    "plt.imshow(y_train20[y+6], cmap='gray')\n",
    "# plt.imshow(readdata[x+7,:,:], alpha=0.35)\n",
    "\n",
    "a2 = plt.subplot(2, 5, 9)\n",
    "plt.imshow(y_train20[y+7], cmap='gray')\n",
    "# plt.imshow(readdata[x+8,:,:], alpha=0.35)\n",
    "\n",
    "a2 = plt.subplot(2, 5,10)\n",
    "plt.imshow(y_train20[y+8], cmap='gray')\n",
    "# plt.imshow(readdata[x+20,:,:], alpha=0.35)\n",
    "\n",
    "plt.show()"
   ]
  },
  {
   "cell_type": "markdown",
   "metadata": {},
   "source": [
    "## Model Building & Compilation"
   ]
  },
  {
   "cell_type": "code",
   "execution_count": null,
   "metadata": {},
   "outputs": [],
   "source": []
  },
  {
   "cell_type": "code",
   "execution_count": null,
   "metadata": {},
   "outputs": [],
   "source": [
    "input_img = tf.keras.Input((256, 256, 1), name='img1')\n",
    "\n",
    "\n",
    "model = UNet_Seg(input_img, n_filters =32, dropout = 0.5, batchnorm = True)\n",
    "\n",
    "model.compile(optimizer=tf.keras.optimizers.Adam(3e-4),\n",
    "              loss= weighted_bce_dice_loss,\n",
    "              metrics=[dice_acc,jacard_acc])\n",
    "\n",
    "model.summary()"
   ]
  },
  {
   "cell_type": "code",
   "execution_count": null,
   "metadata": {},
   "outputs": [],
   "source": []
  },
  {
   "cell_type": "markdown",
   "metadata": {},
   "source": [
    "## Transfer Model"
   ]
  },
  {
   "cell_type": "code",
   "execution_count": null,
   "metadata": {},
   "outputs": [],
   "source": []
  },
  {
   "cell_type": "code",
   "execution_count": 50,
   "metadata": {},
   "outputs": [],
   "source": [
    "from tensorflow.keras.applications import MobileNetV2, EfficientNetB5, EfficientNetB7, VGG19, VGG16, ResNet152V2"
   ]
  },
  {
   "cell_type": "code",
   "execution_count": 51,
   "metadata": {},
   "outputs": [],
   "source": [
    "\n",
    "  \n",
    "\n",
    "def build_VGG19_unet(input_shape, n_filters=32, dropout=0.2):\n",
    "    \n",
    "    encoder =  VGG19(input_tensor=input_shape, weights=None, include_top=False)\n",
    "#     encoder.summary()\n",
    "    \n",
    "    \n",
    "    c40 = encoder.get_layer(index=20).output\n",
    "    c41 = conv2d_block(c40, n_filters * 8)  #32*32\n",
    "    c42 = Dropout(dropout)(c41)\n",
    "\n",
    "\n",
    "    # Decoder path\n",
    "    u6 = layers.UpSampling2D(size=(2, 2))(c42) # 64*64\n",
    "    u62 = layers.Concatenate()([u6, encoder.get_layer(index=15).output])\n",
    "    u63 = conv2d_block(u62, n_filters * 6)\n",
    "    d65 = Dropout(dropout)(u63)\n",
    "\n",
    "    \n",
    "    u7 = layers.UpSampling2D(size=(2, 2))(d65) # 128*128\n",
    "    u72 = layers.Concatenate()([u7, encoder.get_layer(index=10).output])\n",
    "    u73 = conv2d_block(u72, n_filters * 4)\n",
    "    d75 = Dropout(dropout)(u73)\n",
    "\n",
    "    \n",
    "    u8 = layers.UpSampling2D(size=(2, 2))(d75)\n",
    "    u82 = layers.Concatenate()([u8,  encoder.get_layer(index=5).output])\n",
    "    u83 = conv2d_block(u82, n_filters * 2)\n",
    "    d85 = Dropout(dropout)(u83)\n",
    "    \n",
    "    \n",
    "    u9 = layers.UpSampling2D(size=(2, 2))(d85) # 512*512\n",
    "    u92 = layers.Concatenate()([u9,  encoder.get_layer(index=2).output])\n",
    "    u93 = conv2d_block(u92, n_filters * 1)\n",
    "    d95 = Dropout(dropout)(u93)\n",
    "    \n",
    "\n",
    "    outputs = Conv2D(1, (1, 1), padding='same', activation='sigmoid', name=\"out1\")(d95)\n",
    "\n",
    "    \n",
    "    model = tf.keras.Model(input_shape, outputs)\n",
    "    \n",
    "    return model"
   ]
  },
  {
   "cell_type": "code",
   "execution_count": 45,
   "metadata": {},
   "outputs": [],
   "source": [
    "from tensorflow.keras.applications import MobileNetV2, EfficientNetB5, EfficientNetB7, VGG19, VGG16, ResNet152V2\n",
    "  \n",
    "\n",
    "def build_MobileNet_unet(input_shape, n_filters=32, dropout=0.5):\n",
    "    \n",
    "    encoder =  MobileNetV2(input_tensor=input_shape, weights=None, include_top=False)\n",
    "#     encoder.summary()\n",
    "    \n",
    "    \n",
    "    c40 = encoder.get_layer(index=118).output\n",
    "    c41 = conv2d_block(c40, n_filters * 8)  #32*32\n",
    "    c42 = Dropout(dropout)(c41)\n",
    "\n",
    "\n",
    "    # Decoder path\n",
    "    u6 = layers.UpSampling2D(size=(2, 2))(c42) # 64*64\n",
    "    u62 = layers.Concatenate()([u6, encoder.get_layer(index=56).output])\n",
    "    u63 = conv2d_block(u62, n_filters * 6)\n",
    "    d65 = Dropout(dropout)(u63)\n",
    "\n",
    "    \n",
    "    u7 = layers.UpSampling2D(size=(2, 2))(d65) # 128*128\n",
    "    u72 = layers.Concatenate()([u7, encoder.get_layer(index=29).output])\n",
    "    u73 = conv2d_block(u72, n_filters * 4)\n",
    "    d75 = Dropout(dropout)(u73)\n",
    "\n",
    "    \n",
    "    u8 = layers.UpSampling2D(size=(2, 2))(d75)\n",
    "    u82 = layers.Concatenate()([u8,  encoder.get_layer(index=11).output])\n",
    "    u83 = conv2d_block(u82, n_filters * 2)\n",
    "    d85 = Dropout(dropout)(u83)\n",
    "    \n",
    "    \n",
    "    u9 = layers.UpSampling2D(size=(2, 2))(d85) # 512*512\n",
    "    u92 = layers.Concatenate()([u9,  encoder.get_layer(index=0).output])\n",
    "    u93 = conv2d_block(u92, n_filters * 1)\n",
    "    d95 = Dropout(dropout)(u93)\n",
    "    \n",
    "    print(d95.shape)\n",
    "    \n",
    "    outputs = Conv2D(1, (1, 1), padding='same', activation='sigmoid', name=\"out1\")(d95)\n",
    "\n",
    "    \n",
    "    model = tf.keras.Model(input_shape, outputs)\n",
    "    \n",
    "    return model"
   ]
  },
  {
   "cell_type": "code",
   "execution_count": 52,
   "metadata": {},
   "outputs": [
    {
     "name": "stdout",
     "output_type": "stream",
     "text": [
      "Model: \"model_1\"\n",
      "__________________________________________________________________________________________________\n",
      "Layer (type)                    Output Shape         Param #     Connected to                     \n",
      "==================================================================================================\n",
      "ORCA (InputLayer)               [(None, 256, 256, 1) 0                                            \n",
      "__________________________________________________________________________________________________\n",
      "block1_conv1 (Conv2D)           (None, 256, 256, 64) 640         ORCA[0][0]                       \n",
      "__________________________________________________________________________________________________\n",
      "block1_conv2 (Conv2D)           (None, 256, 256, 64) 36928       block1_conv1[0][0]               \n",
      "__________________________________________________________________________________________________\n",
      "block1_pool (MaxPooling2D)      (None, 128, 128, 64) 0           block1_conv2[0][0]               \n",
      "__________________________________________________________________________________________________\n",
      "block2_conv1 (Conv2D)           (None, 128, 128, 128 73856       block1_pool[0][0]                \n",
      "__________________________________________________________________________________________________\n",
      "block2_conv2 (Conv2D)           (None, 128, 128, 128 147584      block2_conv1[0][0]               \n",
      "__________________________________________________________________________________________________\n",
      "block2_pool (MaxPooling2D)      (None, 64, 64, 128)  0           block2_conv2[0][0]               \n",
      "__________________________________________________________________________________________________\n",
      "block3_conv1 (Conv2D)           (None, 64, 64, 256)  295168      block2_pool[0][0]                \n",
      "__________________________________________________________________________________________________\n",
      "block3_conv2 (Conv2D)           (None, 64, 64, 256)  590080      block3_conv1[0][0]               \n",
      "__________________________________________________________________________________________________\n",
      "block3_conv3 (Conv2D)           (None, 64, 64, 256)  590080      block3_conv2[0][0]               \n",
      "__________________________________________________________________________________________________\n",
      "block3_conv4 (Conv2D)           (None, 64, 64, 256)  590080      block3_conv3[0][0]               \n",
      "__________________________________________________________________________________________________\n",
      "block3_pool (MaxPooling2D)      (None, 32, 32, 256)  0           block3_conv4[0][0]               \n",
      "__________________________________________________________________________________________________\n",
      "block4_conv1 (Conv2D)           (None, 32, 32, 512)  1180160     block3_pool[0][0]                \n",
      "__________________________________________________________________________________________________\n",
      "block4_conv2 (Conv2D)           (None, 32, 32, 512)  2359808     block4_conv1[0][0]               \n",
      "__________________________________________________________________________________________________\n",
      "block4_conv3 (Conv2D)           (None, 32, 32, 512)  2359808     block4_conv2[0][0]               \n",
      "__________________________________________________________________________________________________\n",
      "block4_conv4 (Conv2D)           (None, 32, 32, 512)  2359808     block4_conv3[0][0]               \n",
      "__________________________________________________________________________________________________\n",
      "block4_pool (MaxPooling2D)      (None, 16, 16, 512)  0           block4_conv4[0][0]               \n",
      "__________________________________________________________________________________________________\n",
      "block5_conv1 (Conv2D)           (None, 16, 16, 512)  2359808     block4_pool[0][0]                \n",
      "__________________________________________________________________________________________________\n",
      "block5_conv2 (Conv2D)           (None, 16, 16, 512)  2359808     block5_conv1[0][0]               \n",
      "__________________________________________________________________________________________________\n",
      "block5_conv3 (Conv2D)           (None, 16, 16, 512)  2359808     block5_conv2[0][0]               \n",
      "__________________________________________________________________________________________________\n",
      "block5_conv4 (Conv2D)           (None, 16, 16, 512)  2359808     block5_conv3[0][0]               \n",
      "__________________________________________________________________________________________________\n",
      "conv2d_10 (Conv2D)              (None, 16, 16, 128)  589952      block5_conv4[0][0]               \n",
      "__________________________________________________________________________________________________\n",
      "batch_normalization_10 (BatchNo (None, 16, 16, 128)  512         conv2d_10[0][0]                  \n",
      "__________________________________________________________________________________________________\n",
      "activation_10 (Activation)      (None, 16, 16, 128)  0           batch_normalization_10[0][0]     \n",
      "__________________________________________________________________________________________________\n",
      "conv2d_11 (Conv2D)              (None, 16, 16, 128)  147584      activation_10[0][0]              \n",
      "__________________________________________________________________________________________________\n",
      "batch_normalization_11 (BatchNo (None, 16, 16, 128)  512         conv2d_11[0][0]                  \n",
      "__________________________________________________________________________________________________\n",
      "activation_11 (Activation)      (None, 16, 16, 128)  0           batch_normalization_11[0][0]     \n",
      "__________________________________________________________________________________________________\n",
      "global_average_pooling2d_5 (Glo (None, 128)          0           activation_11[0][0]              \n",
      "__________________________________________________________________________________________________\n",
      "dense_10 (Dense)                (None, 4)            516         global_average_pooling2d_5[0][0] \n",
      "__________________________________________________________________________________________________\n",
      "dense_11 (Dense)                (None, 128)          640         dense_10[0][0]                   \n",
      "__________________________________________________________________________________________________\n",
      "multiply_5 (Multiply)           (None, 16, 16, 128)  0           activation_11[0][0]              \n",
      "                                                                 dense_11[0][0]                   \n",
      "__________________________________________________________________________________________________\n",
      "dropout_5 (Dropout)             (None, 16, 16, 128)  0           multiply_5[0][0]                 \n",
      "__________________________________________________________________________________________________\n",
      "up_sampling2d_4 (UpSampling2D)  (None, 32, 32, 128)  0           dropout_5[0][0]                  \n",
      "__________________________________________________________________________________________________\n",
      "concatenate_4 (Concatenate)     (None, 32, 32, 640)  0           up_sampling2d_4[0][0]            \n",
      "                                                                 block4_conv4[0][0]               \n",
      "__________________________________________________________________________________________________\n",
      "conv2d_12 (Conv2D)              (None, 32, 32, 96)   553056      concatenate_4[0][0]              \n",
      "__________________________________________________________________________________________________\n",
      "batch_normalization_12 (BatchNo (None, 32, 32, 96)   384         conv2d_12[0][0]                  \n",
      "__________________________________________________________________________________________________\n",
      "activation_12 (Activation)      (None, 32, 32, 96)   0           batch_normalization_12[0][0]     \n",
      "__________________________________________________________________________________________________\n",
      "conv2d_13 (Conv2D)              (None, 32, 32, 96)   83040       activation_12[0][0]              \n",
      "__________________________________________________________________________________________________\n",
      "batch_normalization_13 (BatchNo (None, 32, 32, 96)   384         conv2d_13[0][0]                  \n",
      "__________________________________________________________________________________________________\n",
      "activation_13 (Activation)      (None, 32, 32, 96)   0           batch_normalization_13[0][0]     \n",
      "__________________________________________________________________________________________________\n",
      "global_average_pooling2d_6 (Glo (None, 96)           0           activation_13[0][0]              \n",
      "__________________________________________________________________________________________________\n",
      "dense_12 (Dense)                (None, 4)            388         global_average_pooling2d_6[0][0] \n",
      "__________________________________________________________________________________________________\n",
      "dense_13 (Dense)                (None, 96)           480         dense_12[0][0]                   \n",
      "__________________________________________________________________________________________________\n",
      "multiply_6 (Multiply)           (None, 32, 32, 96)   0           activation_13[0][0]              \n",
      "                                                                 dense_13[0][0]                   \n",
      "__________________________________________________________________________________________________\n",
      "dropout_6 (Dropout)             (None, 32, 32, 96)   0           multiply_6[0][0]                 \n",
      "__________________________________________________________________________________________________\n",
      "up_sampling2d_5 (UpSampling2D)  (None, 64, 64, 96)   0           dropout_6[0][0]                  \n",
      "__________________________________________________________________________________________________\n",
      "concatenate_5 (Concatenate)     (None, 64, 64, 352)  0           up_sampling2d_5[0][0]            \n",
      "                                                                 block3_conv4[0][0]               \n",
      "__________________________________________________________________________________________________\n",
      "conv2d_14 (Conv2D)              (None, 64, 64, 64)   202816      concatenate_5[0][0]              \n",
      "__________________________________________________________________________________________________\n",
      "batch_normalization_14 (BatchNo (None, 64, 64, 64)   256         conv2d_14[0][0]                  \n",
      "__________________________________________________________________________________________________\n",
      "activation_14 (Activation)      (None, 64, 64, 64)   0           batch_normalization_14[0][0]     \n",
      "__________________________________________________________________________________________________\n",
      "conv2d_15 (Conv2D)              (None, 64, 64, 64)   36928       activation_14[0][0]              \n",
      "__________________________________________________________________________________________________\n",
      "batch_normalization_15 (BatchNo (None, 64, 64, 64)   256         conv2d_15[0][0]                  \n",
      "__________________________________________________________________________________________________\n",
      "activation_15 (Activation)      (None, 64, 64, 64)   0           batch_normalization_15[0][0]     \n",
      "__________________________________________________________________________________________________\n",
      "global_average_pooling2d_7 (Glo (None, 64)           0           activation_15[0][0]              \n",
      "__________________________________________________________________________________________________\n",
      "dense_14 (Dense)                (None, 4)            260         global_average_pooling2d_7[0][0] \n",
      "__________________________________________________________________________________________________\n",
      "dense_15 (Dense)                (None, 64)           320         dense_14[0][0]                   \n",
      "__________________________________________________________________________________________________\n",
      "multiply_7 (Multiply)           (None, 64, 64, 64)   0           activation_15[0][0]              \n",
      "                                                                 dense_15[0][0]                   \n",
      "__________________________________________________________________________________________________\n",
      "dropout_7 (Dropout)             (None, 64, 64, 64)   0           multiply_7[0][0]                 \n",
      "__________________________________________________________________________________________________\n",
      "up_sampling2d_6 (UpSampling2D)  (None, 128, 128, 64) 0           dropout_7[0][0]                  \n",
      "__________________________________________________________________________________________________\n",
      "concatenate_6 (Concatenate)     (None, 128, 128, 192 0           up_sampling2d_6[0][0]            \n",
      "                                                                 block2_conv2[0][0]               \n",
      "__________________________________________________________________________________________________\n",
      "conv2d_16 (Conv2D)              (None, 128, 128, 32) 55328       concatenate_6[0][0]              \n",
      "__________________________________________________________________________________________________\n",
      "batch_normalization_16 (BatchNo (None, 128, 128, 32) 128         conv2d_16[0][0]                  \n",
      "__________________________________________________________________________________________________\n",
      "activation_16 (Activation)      (None, 128, 128, 32) 0           batch_normalization_16[0][0]     \n",
      "__________________________________________________________________________________________________\n",
      "conv2d_17 (Conv2D)              (None, 128, 128, 32) 9248        activation_16[0][0]              \n",
      "__________________________________________________________________________________________________\n",
      "batch_normalization_17 (BatchNo (None, 128, 128, 32) 128         conv2d_17[0][0]                  \n",
      "__________________________________________________________________________________________________\n",
      "activation_17 (Activation)      (None, 128, 128, 32) 0           batch_normalization_17[0][0]     \n",
      "__________________________________________________________________________________________________\n",
      "global_average_pooling2d_8 (Glo (None, 32)           0           activation_17[0][0]              \n",
      "__________________________________________________________________________________________________\n",
      "dense_16 (Dense)                (None, 4)            132         global_average_pooling2d_8[0][0] \n",
      "__________________________________________________________________________________________________\n",
      "dense_17 (Dense)                (None, 32)           160         dense_16[0][0]                   \n",
      "__________________________________________________________________________________________________\n",
      "multiply_8 (Multiply)           (None, 128, 128, 32) 0           activation_17[0][0]              \n",
      "                                                                 dense_17[0][0]                   \n",
      "__________________________________________________________________________________________________\n",
      "dropout_8 (Dropout)             (None, 128, 128, 32) 0           multiply_8[0][0]                 \n",
      "__________________________________________________________________________________________________\n",
      "up_sampling2d_7 (UpSampling2D)  (None, 256, 256, 32) 0           dropout_8[0][0]                  \n",
      "__________________________________________________________________________________________________\n",
      "concatenate_7 (Concatenate)     (None, 256, 256, 96) 0           up_sampling2d_7[0][0]            \n",
      "                                                                 block1_conv2[0][0]               \n",
      "__________________________________________________________________________________________________\n",
      "conv2d_18 (Conv2D)              (None, 256, 256, 16) 13840       concatenate_7[0][0]              \n",
      "__________________________________________________________________________________________________\n",
      "batch_normalization_18 (BatchNo (None, 256, 256, 16) 64          conv2d_18[0][0]                  \n",
      "__________________________________________________________________________________________________\n",
      "activation_18 (Activation)      (None, 256, 256, 16) 0           batch_normalization_18[0][0]     \n",
      "__________________________________________________________________________________________________\n",
      "conv2d_19 (Conv2D)              (None, 256, 256, 16) 2320        activation_18[0][0]              \n",
      "__________________________________________________________________________________________________\n",
      "batch_normalization_19 (BatchNo (None, 256, 256, 16) 64          conv2d_19[0][0]                  \n",
      "__________________________________________________________________________________________________\n",
      "activation_19 (Activation)      (None, 256, 256, 16) 0           batch_normalization_19[0][0]     \n",
      "__________________________________________________________________________________________________\n",
      "global_average_pooling2d_9 (Glo (None, 16)           0           activation_19[0][0]              \n",
      "__________________________________________________________________________________________________\n",
      "dense_18 (Dense)                (None, 4)            68          global_average_pooling2d_9[0][0] \n",
      "__________________________________________________________________________________________________\n",
      "dense_19 (Dense)                (None, 16)           80          dense_18[0][0]                   \n",
      "__________________________________________________________________________________________________\n",
      "multiply_9 (Multiply)           (None, 256, 256, 16) 0           activation_19[0][0]              \n",
      "                                                                 dense_19[0][0]                   \n",
      "__________________________________________________________________________________________________\n",
      "dropout_9 (Dropout)             (None, 256, 256, 16) 0           multiply_9[0][0]                 \n",
      "__________________________________________________________________________________________________\n",
      "out1 (Conv2D)                   (None, 256, 256, 1)  17          dropout_9[0][0]                  \n",
      "==================================================================================================\n",
      "Total params: 21,723,093\n",
      "Trainable params: 21,721,749\n",
      "Non-trainable params: 1,344\n",
      "__________________________________________________________________________________________________\n"
     ]
    }
   ],
   "source": [
    "# input_img = tf.keras.Input((512, 512, 1), name='img1')\n",
    "\n",
    "# model = build_MobileNet_unet(input_img, n_filters=16, dropout=0.5)\n",
    "\n",
    "# model.summary()\n",
    "\n",
    "\n",
    "# Defint the model input shape\n",
    "input_img = tf.keras.Input((256, 256, 1), name='ORCA')\n",
    "\n",
    "# Call U-Net method to build the model\n",
    "# model = UNet_model(input_img, n_filters=16, dropout=0.5)\n",
    "# model = build_MobileNet_unet(input_img, n_filters=16, dropout=0.5)\n",
    "model = build_VGG19_unet(input_img, n_filters=16, dropout=0.5)\n",
    "\n",
    "# Print model summary\n",
    "model.summary()\n",
    "\n",
    "\n",
    "# Model compilation step\n",
    "model.compile(optimizer=tf.keras.optimizers.Adam(3e-4),\n",
    "              loss= weighted_bce_dice_loss,\n",
    "              metrics=[dice_acc, jacard_acc])\n",
    "\n"
   ]
  },
  {
   "cell_type": "code",
   "execution_count": null,
   "metadata": {},
   "outputs": [],
   "source": [
    "index = 0\n",
    "for layer in model.layers:\n",
    "    print(str(index), \" - \", layer.output.shape)\n",
    "    index += 1"
   ]
  },
  {
   "cell_type": "code",
   "execution_count": null,
   "metadata": {},
   "outputs": [],
   "source": [
    "!pip install model_profiler"
   ]
  },
  {
   "cell_type": "code",
   "execution_count": 53,
   "metadata": {},
   "outputs": [
    {
     "name": "stdout",
     "output_type": "stream",
     "text": [
      "Epoch 1/200\n",
      "23/23 [==============================] - 9s 250ms/step - loss: 1.7034 - dice_acc: 0.0283 - jacard_acc: 0.0144 - val_loss: 1.2455 - val_dice_acc: 0.0013 - val_jacard_acc: 6.9444e-04\n",
      "Epoch 2/200\n",
      "23/23 [==============================] - 4s 163ms/step - loss: 1.5857 - dice_acc: 0.0379 - jacard_acc: 0.0193 - val_loss: 1.6133 - val_dice_acc: 0.0092 - val_jacard_acc: 0.0046\n",
      "Epoch 3/200\n",
      "23/23 [==============================] - 4s 172ms/step - loss: 1.4968 - dice_acc: 0.0354 - jacard_acc: 0.0180 - val_loss: 1.5280 - val_dice_acc: 0.0089 - val_jacard_acc: 0.0045\n",
      "Epoch 4/200\n",
      "23/23 [==============================] - 4s 159ms/step - loss: 1.4709 - dice_acc: 0.0350 - jacard_acc: 0.0178 - val_loss: 1.5603 - val_dice_acc: 0.0163 - val_jacard_acc: 0.0082\n",
      "Epoch 5/200\n",
      "23/23 [==============================] - 4s 168ms/step - loss: 1.4215 - dice_acc: 0.0388 - jacard_acc: 0.0198 - val_loss: 10.3565 - val_dice_acc: 0.0094 - val_jacard_acc: 0.0047\n",
      "Epoch 6/200\n",
      "23/23 [==============================] - 4s 167ms/step - loss: 1.3951 - dice_acc: 0.0400 - jacard_acc: 0.0204 - val_loss: 1.4694 - val_dice_acc: 0.0134 - val_jacard_acc: 0.0068\n",
      "Epoch 7/200\n",
      "23/23 [==============================] - 4s 161ms/step - loss: 1.3678 - dice_acc: 0.0471 - jacard_acc: 0.0241 - val_loss: 1.3837 - val_dice_acc: 0.0076 - val_jacard_acc: 0.0038\n",
      "Epoch 8/200\n",
      "23/23 [==============================] - 4s 163ms/step - loss: 1.3497 - dice_acc: 0.0424 - jacard_acc: 0.0217 - val_loss: 1.4147 - val_dice_acc: 0.0180 - val_jacard_acc: 0.0091\n",
      "Epoch 9/200\n",
      "23/23 [==============================] - 4s 166ms/step - loss: 1.3404 - dice_acc: 0.0471 - jacard_acc: 0.0242 - val_loss: 1.3378 - val_dice_acc: 0.0075 - val_jacard_acc: 0.0038\n",
      "Epoch 10/200\n",
      "23/23 [==============================] - 4s 161ms/step - loss: 1.3129 - dice_acc: 0.0512 - jacard_acc: 0.0263 - val_loss: 1.5595 - val_dice_acc: 0.0234 - val_jacard_acc: 0.0120\n",
      "Epoch 11/200\n",
      "23/23 [==============================] - 4s 169ms/step - loss: 1.2929 - dice_acc: 0.0550 - jacard_acc: 0.0283 - val_loss: 2.4852 - val_dice_acc: 0.0214 - val_jacard_acc: 0.0109\n",
      "Epoch 12/200\n",
      "23/23 [==============================] - 4s 163ms/step - loss: 1.2736 - dice_acc: 0.0625 - jacard_acc: 0.0323 - val_loss: 1.2723 - val_dice_acc: 0.0079 - val_jacard_acc: 0.0040\n",
      "Epoch 13/200\n",
      "23/23 [==============================] - 4s 169ms/step - loss: 1.2658 - dice_acc: 0.0584 - jacard_acc: 0.0301 - val_loss: 1.2464 - val_dice_acc: 0.0074 - val_jacard_acc: 0.0037\n",
      "Epoch 14/200\n",
      "23/23 [==============================] - 4s 169ms/step - loss: 1.2362 - dice_acc: 0.0737 - jacard_acc: 0.0383 - val_loss: 1.2404 - val_dice_acc: 0.0121 - val_jacard_acc: 0.0061\n",
      "\n",
      "Epoch 00014: ReduceLROnPlateau reducing learning rate to 3.000000142492354e-05.\n",
      "Epoch 15/200\n",
      "23/23 [==============================] - 4s 161ms/step - loss: 1.2271 - dice_acc: 0.0714 - jacard_acc: 0.0371 - val_loss: 1.2249 - val_dice_acc: 0.0073 - val_jacard_acc: 0.0037\n",
      "Epoch 16/200\n",
      "23/23 [==============================] - 4s 164ms/step - loss: 1.2146 - dice_acc: 0.0801 - jacard_acc: 0.0418 - val_loss: 1.2245 - val_dice_acc: 0.0073 - val_jacard_acc: 0.0037\n",
      "Epoch 17/200\n",
      "23/23 [==============================] - 4s 176ms/step - loss: 1.2171 - dice_acc: 0.0730 - jacard_acc: 0.0380 - val_loss: 1.2193 - val_dice_acc: 0.0073 - val_jacard_acc: 0.0037\n",
      "Epoch 18/200\n",
      "23/23 [==============================] - 4s 162ms/step - loss: 1.2133 - dice_acc: 0.0753 - jacard_acc: 0.0393 - val_loss: 1.2181 - val_dice_acc: 0.0072 - val_jacard_acc: 0.0037\n",
      "Epoch 19/200\n",
      "23/23 [==============================] - 4s 170ms/step - loss: 1.2130 - dice_acc: 0.0765 - jacard_acc: 0.0399 - val_loss: 1.2128 - val_dice_acc: 0.0074 - val_jacard_acc: 0.0037\n",
      "Epoch 20/200\n",
      "23/23 [==============================] - 4s 163ms/step - loss: 1.2048 - dice_acc: 0.0831 - jacard_acc: 0.0434 - val_loss: 1.2188 - val_dice_acc: 0.0071 - val_jacard_acc: 0.0036\n",
      "\n",
      "Epoch 00020: ReduceLROnPlateau reducing learning rate to 3.000000106112566e-06.\n",
      "Epoch 21/200\n",
      "23/23 [==============================] - 4s 160ms/step - loss: 1.2101 - dice_acc: 0.0769 - jacard_acc: 0.0402 - val_loss: 1.2167 - val_dice_acc: 0.0072 - val_jacard_acc: 0.0036\n",
      "Epoch 22/200\n",
      "23/23 [==============================] - 4s 164ms/step - loss: 1.2114 - dice_acc: 0.0746 - jacard_acc: 0.0388 - val_loss: 1.2148 - val_dice_acc: 0.0072 - val_jacard_acc: 0.0036\n",
      "Restoring model weights from the end of the best epoch.\n",
      "Epoch 00022: early stopping\n",
      "\n",
      "Model took 89.04 seconds to train\n",
      "Model took 1.48 minutes to train\n",
      "\n",
      "1/1 [==============================] - 1s 792ms/step\n",
      "=====================================\n",
      "| Model Profile                    | Value   | Unit    |\n",
      "|----------------------------------|---------|---------|\n",
      "| Selected GPUs                    | ['0']   | GPU IDs |\n",
      "| No. of FLOPs                     | 0.5868  | BFLOPs  |\n",
      "| GPU Memory Requirement           | 1.5828  | GB      |\n",
      "| Model Parameters                 | 21.7231 | Million |\n",
      "| Memory Required by Model Weights | 82.867  | MB      |\n",
      "=====================================\n"
     ]
    },
    {
     "name": "stderr",
     "output_type": "stream",
     "text": [
      "2023-06-13 16:55:32.976617: I tensorflow/core/common_runtime/gpu/gpu_device.cc:1720] Found device 0 with properties: \n",
      "pciBusID: 0000:21:00.0 name: Quadro RTX 5000 computeCapability: 7.5\n",
      "coreClock: 1.815GHz coreCount: 48 deviceMemorySize: 15.74GiB deviceMemoryBandwidth: 417.29GiB/s\n",
      "2023-06-13 16:55:32.976716: I tensorflow/stream_executor/platform/default/dso_loader.cc:49] Successfully opened dynamic library libcudart.so.10.1\n",
      "2023-06-13 16:55:32.976760: I tensorflow/stream_executor/platform/default/dso_loader.cc:49] Successfully opened dynamic library libcublas.so.10\n",
      "2023-06-13 16:55:32.976788: I tensorflow/stream_executor/platform/default/dso_loader.cc:49] Successfully opened dynamic library libcublasLt.so.10\n",
      "2023-06-13 16:55:32.976815: I tensorflow/stream_executor/platform/default/dso_loader.cc:49] Successfully opened dynamic library libcufft.so.10\n",
      "2023-06-13 16:55:32.976841: I tensorflow/stream_executor/platform/default/dso_loader.cc:49] Successfully opened dynamic library libcurand.so.10\n",
      "2023-06-13 16:55:32.976868: I tensorflow/stream_executor/platform/default/dso_loader.cc:49] Successfully opened dynamic library libcusolver.so.10\n",
      "2023-06-13 16:55:32.976895: I tensorflow/stream_executor/platform/default/dso_loader.cc:49] Successfully opened dynamic library libcusparse.so.10\n",
      "2023-06-13 16:55:32.976922: I tensorflow/stream_executor/platform/default/dso_loader.cc:49] Successfully opened dynamic library libcudnn.so.7\n",
      "2023-06-13 16:55:32.977923: I tensorflow/core/common_runtime/gpu/gpu_device.cc:1862] Adding visible gpu devices: 0\n",
      "2023-06-13 16:55:32.977962: I tensorflow/core/common_runtime/gpu/gpu_device.cc:1261] Device interconnect StreamExecutor with strength 1 edge matrix:\n",
      "2023-06-13 16:55:32.977972: I tensorflow/core/common_runtime/gpu/gpu_device.cc:1267]      0 \n",
      "2023-06-13 16:55:32.977981: I tensorflow/core/common_runtime/gpu/gpu_device.cc:1280] 0:   N \n",
      "2023-06-13 16:55:32.978988: I tensorflow/core/common_runtime/gpu/gpu_device.cc:1406] Created TensorFlow device (/device:GPU:0 with 14384 MB memory) -> physical GPU (device: 0, name: Quadro RTX 5000, pci bus id: 0000:21:00.0, compute capability: 7.5)\n",
      "2023-06-13 16:55:32.979016: I tensorflow/compiler/jit/xla_gpu_device.cc:99] Not creating XLA devices, tf_xla_enable_xla_devices not set\n"
     ]
    }
   ],
   "source": [
    "from model_profiler import model_profiler\n",
    "\n",
    "# Using some callbacks techniques to monitor the training\n",
    "\n",
    "# Early stop to stop model training if no improvement.\n",
    "earlystop = tf.keras.callbacks.EarlyStopping(monitor='val_dice_acc', patience=12, verbose=1, mode='max', restore_best_weights=True)\n",
    "\n",
    "# ReduceLROnPlateau to reduce the learning rate if no improvement.\n",
    "ReduceLROnPlat = tf.keras.callbacks.ReduceLROnPlateau(monitor='val_dice_acc', factor=0.1, patience=4, cooldown=3, min_lr=0, verbose=1,min_delta=0.0001, mode='max')\n",
    "\n",
    "# Start Rec. Training Time\n",
    "start = time()\n",
    "\n",
    "# Fit the model\n",
    "history = model.fit(X_train, Y_train, epochs=200, batch_size=8, verbose=1, shuffle=True,\n",
    "                    callbacks=[earlystop, ReduceLROnPlat], validation_data=(X_test, Y_test))\n",
    "\n",
    "# End of Training Time\n",
    "end = time()\n",
    "\n",
    "print(\"\")\n",
    "print('Model took %0.2f seconds to train' % (end - start))\n",
    "print('Model took %0.2f minutes to train' % ((end - start)/60))\n",
    "print(\"\")\n",
    "\n",
    "# Get model prediction on the test data\n",
    "results = model.predict(X_test,  verbose=1)\n",
    "\n",
    "# Make a copy of the Y_test & Y_pred(results)\n",
    "pred_m = copy.deepcopy(results)\n",
    "act = copy.deepcopy(Y_test)\n",
    "\n",
    "\n",
    "# Print the model profile\n",
    "Batch_size = 8\n",
    "profile = model_profiler(model, Batch_size)\n",
    "print(\"=====================================\")\n",
    "print(profile)\n",
    "print(\"=====================================\")"
   ]
  },
  {
   "cell_type": "code",
   "execution_count": null,
   "metadata": {},
   "outputs": [],
   "source": []
  },
  {
   "cell_type": "markdown",
   "metadata": {},
   "source": [
    "## End of TF"
   ]
  },
  {
   "cell_type": "code",
   "execution_count": null,
   "metadata": {},
   "outputs": [],
   "source": []
  },
  {
   "cell_type": "code",
   "execution_count": null,
   "metadata": {},
   "outputs": [],
   "source": [
    "# input_img = tf.keras.Input((256, 256, 1), name='img1')\n",
    "\n",
    "\n",
    "# model = UNet_Seg(input_img, n_filters = 32, dropout = 0.5, batchnorm = True)\n",
    "\n",
    "# model.compile(optimizer=tf.keras.optimizers.Adam(3e-4),\n",
    "#               loss= tf.keras.losses.BinaryFocalCrossentropy(),\n",
    "#               metrics=[dice_acc,jacard_acc])\n",
    "\n",
    "# model.summary()"
   ]
  },
  {
   "cell_type": "markdown",
   "metadata": {},
   "source": [
    "### Model Training"
   ]
  },
  {
   "cell_type": "code",
   "execution_count": null,
   "metadata": {
    "scrolled": false
   },
   "outputs": [],
   "source": [
    "earlystop = tf.keras.callbacks.EarlyStopping(monitor='val_dice_acc', patience=12, verbose=1, mode='max', restore_best_weights=True)\n",
    "ReduceLROnPlat = tf.keras.callbacks.ReduceLROnPlateau(monitor='val_dice_acc', factor=0.1, patience=8, cooldown=4, min_lr=0, verbose=1,min_delta=0.0001, mode='max')\n",
    "\n",
    "# Start Rec. Training Time\n",
    "start = time()\n",
    "\n",
    "# Fit the model\n",
    "history = model.fit(X_train, Y_train, epochs=200, batch_size=16, verbose=1, shuffle=True,\n",
    "                    callbacks=[earlystop, ReduceLROnPlat],validation_data=(X_test, Y_test))\n",
    "\n",
    "# End of Training Time\n",
    "end = time()\n",
    "print(\"\")\n",
    "print('Model took %0.2f seconds to train' % (end - start))\n",
    "print('Model took %0.2f minutes to train' % ((end - start)/60))\n",
    "print(\"\")\n",
    "\n",
    "# just for Conf_M:\n",
    "results = model.predict(X_test,  verbose=1)\n",
    "\n",
    "\n",
    "pred_m = copy.deepcopy(results)\n",
    "act = copy.deepcopy(Y_test)"
   ]
  },
  {
   "cell_type": "code",
   "execution_count": 54,
   "metadata": {},
   "outputs": [
    {
     "name": "stdout",
     "output_type": "stream",
     "text": [
      "(9, 256, 256, 1)\n"
     ]
    }
   ],
   "source": [
    "import copy\n",
    "pred_m = copy.deepcopy(results)\n",
    "act = copy.deepcopy(Y_test)\n",
    "\n",
    "x = 0.5\n",
    "\n",
    "pred_m[pred_m >= x] = 1\n",
    "pred_m[pred_m < x] = 0\n",
    "\n",
    "act[act >= x] = 1\n",
    "act[act < x] = 0\n",
    "\n",
    "\n",
    "print(pred_m.shape)"
   ]
  },
  {
   "cell_type": "code",
   "execution_count": 55,
   "metadata": {},
   "outputs": [
    {
     "name": "stdout",
     "output_type": "stream",
     "text": [
      "Dice =  [0.9611653929308104, 0.15774897103511945]\n",
      "IoU =  0.0856283799302612\n",
      "Sensitivity =  1.0\n",
      "Specificity =  0.9252342830996905\n",
      "Precision =  0.0856283799302612\n",
      "Accuracy =  0.9257541232638888\n"
     ]
    }
   ],
   "source": [
    "print(\"Dice = \", calc_DSC(act, pred_m, 2))\n",
    "print(\"IoU = \", calc_IoU(act, pred_m, 2))\n",
    "\n",
    "print(\"Sensitivity = \", calc_Sensitivity(act, pred_m, 2))\n",
    "print(\"Specificity = \", calc_Specificity(act, pred_m, 2))\n",
    "\n",
    "print(\"Precision = \", calc_Precision(act, pred_m, 2))\n",
    "print(\"Accuracy = \", calc_Accuracy(act, pred_m, 2))"
   ]
  },
  {
   "cell_type": "code",
   "execution_count": null,
   "metadata": {},
   "outputs": [],
   "source": []
  },
  {
   "cell_type": "markdown",
   "metadata": {},
   "source": [
    "### Saving the model:"
   ]
  },
  {
   "cell_type": "code",
   "execution_count": null,
   "metadata": {
    "scrolled": true
   },
   "outputs": [],
   "source": [
    "# s_path = \"/home/aa8w2/Projects/Oral_Cancer/ORCA/Results/\"\n",
    "# model.save(s_path+'MyModel_mDice_8384', include_optimizer=True)"
   ]
  },
  {
   "cell_type": "code",
   "execution_count": null,
   "metadata": {},
   "outputs": [],
   "source": [
    "# model_path = \"/home/aa8w2/Projects/Oral_Cancer/ORCA/Results/MobileNetV2_3_NewDecoderSK_mDice_8666/\"\n",
    "\n",
    "# model_2 = tf.keras.models.load_model(model_path, custom_objects={'dice_acc':dice_acc,'jacard_acc':jacard_acc})"
   ]
  },
  {
   "cell_type": "markdown",
   "metadata": {},
   "source": [
    "### Calculate Dice Score for Multiclass:"
   ]
  },
  {
   "cell_type": "code",
   "execution_count": null,
   "metadata": {},
   "outputs": [],
   "source": [
    "def dice_coef(y_true, y_pred):\n",
    "    y_true_f = y_true.flatten()\n",
    "    y_pred_f = y_pred.flatten()\n",
    "    intersection = np.sum(y_true_f * y_pred_f)\n",
    "    smooth = 0.0001\n",
    "    return (2. * intersection + smooth) / (np.sum(y_true_f) + np.sum(y_pred_f) + smooth)\n",
    "\n",
    "def dice_coef_multilabel(y_true, y_pred, numLabels):\n",
    "    dice=0\n",
    "    for index in range(numLabels):\n",
    "#         dice += dice_coef(y_true[:,:,:,index], y_pred[:,:,:,index])\n",
    "        print(\"Dice Class: \", str(index),\" = \", dice_coef(y_true[:,:,:,index], y_pred[:,:,:,index]))\n",
    "    return dice/numLabels # taking average"
   ]
  },
  {
   "cell_type": "code",
   "execution_count": null,
   "metadata": {},
   "outputs": [],
   "source": [
    "dice_score = dice_coef_multilabel(act, pred_m, 2)"
   ]
  },
  {
   "cell_type": "markdown",
   "metadata": {},
   "source": [
    "### Thresholding (Binarization) the output of Sigmoid Method "
   ]
  },
  {
   "cell_type": "code",
   "execution_count": null,
   "metadata": {},
   "outputs": [],
   "source": [
    "th = 0.5\n",
    "\n",
    "pred_m[:,:,:,0][pred_m[:,:,:,0] >= th] = 1\n",
    "pred_m[:,:,:,0][pred_m[:,:,:,0] < th] = 0\n",
    "\n",
    "pred_m[:,:,:,1][pred_m[:,:,:,1] >= th] = 1\n",
    "pred_m[:,:,:,1][pred_m[:,:,:,1] < th] = 0\n",
    "\n",
    "pred_m[:,:,:,2][pred_m[:,:,:,2] >= th] = 1\n",
    "pred_m[:,:,:,2][pred_m[:,:,:,2] < th] = 0"
   ]
  },
  {
   "cell_type": "code",
   "execution_count": null,
   "metadata": {},
   "outputs": [],
   "source": [
    "# Labesl shold have been already thresholded (Binarized)\n",
    "th = 0.5\n",
    "\n",
    "act[:,:,:,0][act[:,:,:,0] >= th] = 1\n",
    "act[:,:,:,0][act[:,:,:,0] < th] = 0\n",
    "\n",
    "act[:,:,:,1][act[:,:,:,1] >= th] = 1\n",
    "act[:,:,:,1][act[:,:,:,1] < th] = 0\n",
    "\n",
    "act[:,:,:,2][act[:,:,:,2] >= th] = 1\n",
    "act[:,:,:,2][act[:,:,:,2] < th] = 0"
   ]
  },
  {
   "cell_type": "code",
   "execution_count": null,
   "metadata": {},
   "outputs": [],
   "source": [
    "# Geting Dice score after thresholding\n",
    "dice_score = dice_coef_multilabel(act, pred_m, 3)"
   ]
  },
  {
   "cell_type": "markdown",
   "metadata": {},
   "source": [
    "### Getting a detailed metrics at image level"
   ]
  },
  {
   "cell_type": "markdown",
   "metadata": {},
   "source": [
    "### Calculating Dice, IoU, Accuracy at Dataset level"
   ]
  },
  {
   "cell_type": "code",
   "execution_count": null,
   "metadata": {
    "scrolled": true
   },
   "outputs": [],
   "source": [
    "dice_1 = []\n",
    "dice_2 = []\n",
    "dice_3 = []\n",
    "acc_1 = []\n",
    "acc_2 = []\n",
    "acc_3 = []\n",
    "iou_1 = []\n",
    "iou_2 = []\n",
    "iou_3 = []\n",
    "\n",
    "for i in range(act.shape[0]):\n",
    "    metrics1 = sg.write_metrics(labels=[1],gdth_img=act[i,:,:,0],pred_img=pred_m[i,:,:,0],TPTNFPFN=True,\n",
    "                               metrics=['dice', 'jaccard']) \n",
    "    tp, tn, fp, fn = metrics1[0]['TP'][0], metrics1[0]['TN'][0], metrics1[0]['FP'][0], metrics1[0]['FN'][0]\n",
    "    accuracy = (tp + tn)/(tp + tn + fp + fn)\n",
    "    iou = metrics1[0][\"jaccard\"][0]\n",
    "    dice = metrics1[0][\"dice\"][0]\n",
    "    dice_1.append(dice)\n",
    "    iou_1.append(iou)\n",
    "    acc_1.append(accuracy)\n",
    "    \n",
    "    metrics2 = sg.write_metrics(labels=[1],gdth_img=act[i,:,:,1],pred_img=pred_m[i,:,:,1],TPTNFPFN=True,\n",
    "                               metrics=['dice', 'jaccard'])\n",
    "    tp, tn, fp, fn = metrics2[0]['TP'][0], metrics2[0]['TN'][0], metrics2[0]['FP'][0], metrics2[0]['FN'][0]\n",
    "    accuracy = (tp + tn)/(tp + tn + fp + fn)\n",
    "    iou = metrics2[0][\"jaccard\"][0]\n",
    "    dice = metrics2[0][\"dice\"][0]\n",
    "    dice_2.append(dice)\n",
    "    iou_2.append(iou)\n",
    "    acc_2.append(accuracy)\n",
    "    \n",
    "    \n",
    "    metrics3 = sg.write_metrics(labels=[1],gdth_img=act[i,:,:,2],pred_img=pred_m[i,:,:,2],TPTNFPFN=True,\n",
    "                               metrics=['dice', 'jaccard']) \n",
    "    tp, tn, fp, fn = metrics3[0]['TP'][0], metrics3[0]['TN'][0], metrics3[0]['FP'][0], metrics3[0]['FN'][0]\n",
    "    accuracy = (tp + tn)/(tp + tn + fp + fn)\n",
    "    iou = metrics3[0][\"jaccard\"][0]\n",
    "    dice = metrics3[0][\"dice\"][0]\n",
    "    dice_3.append(dice)\n",
    "    iou_3.append(iou)\n",
    "    acc_3.append(accuracy)"
   ]
  },
  {
   "cell_type": "code",
   "execution_count": null,
   "metadata": {},
   "outputs": [],
   "source": [
    "mean_dice1 = sum(dice_1)/len(dice_1)\n",
    "mean_dice2 = sum(dice_2)/len(dice_2)\n",
    "mean_dice3 = sum(dice_3)/len(dice_3)\n",
    "\n",
    "mean_iou1 = sum(iou_1)/len(iou_1)\n",
    "mean_iou2 = sum(iou_2)/len(iou_2)\n",
    "mean_iou3 = sum(iou_3)/len(iou_3)\n",
    "\n",
    "mean_acc1 = sum(acc_1)/len(acc_1)\n",
    "mean_acc2 = sum(acc_2)/len(acc_2)\n",
    "mean_acc3 = sum(acc_3)/len(acc_3)\n",
    "\n",
    "\n",
    "print(\"<><><> Dice <><><>\")\n",
    "print(\"Dice-1 = \", round(mean_dice1,4))\n",
    "print(\"Dice-2 = \", round(mean_dice2,4))\n",
    "print(\"Dice-3 = \", round(mean_dice3,4))\n",
    "print(\"mDice = \",round( sum([mean_dice1, mean_dice2, mean_dice3])/3,4))\n",
    "print()\n",
    "print(\"<><><> IoU <><><>\")\n",
    "print(\"IoU-1 = \", round(mean_iou1,4))\n",
    "print(\"IoU-2 = \", round(mean_iou2,4))\n",
    "print(\"Iou-3 = \",round( mean_iou3,4))\n",
    "print(\"mIoU = \",round( sum([mean_iou1, mean_iou2, mean_iou3])/3,4))\n",
    "print()\n",
    "print(\"<><><> ACC <><><>\")\n",
    "print(\"ACC-1 = \", round(mean_acc1,4))\n",
    "print(\"ACC-2 = \", round(mean_acc2,4))\n",
    "print(\"ACC-3 = \",round( mean_acc3,4))\n",
    "print(\"mACC = \",round( sum([mean_acc1, mean_acc2, mean_acc3])/3,4))"
   ]
  },
  {
   "cell_type": "markdown",
   "metadata": {},
   "source": [
    "### Method to combined the 3 channels of the labels into one channel\n",
    "#### Needed for visualization and comparisons"
   ]
  },
  {
   "cell_type": "code",
   "execution_count": null,
   "metadata": {},
   "outputs": [],
   "source": [
    "color_table = [0, 128, 255]\n",
    "\n",
    "def color_image(result, n_classes, color_table):\n",
    "    result = result.reshape((256, 256, n_classes)).argmax(axis=2)\n",
    "    new_image = np.zeros((256, 256))\n",
    "    for i in range(0, 256):\n",
    "        for j in range(0, 256):\n",
    "            if result[i, j] == 1:\n",
    "                new_image[i, j] = 128\n",
    "            elif result[i, j] == 2:\n",
    "                new_image[i, j] = 255\n",
    "            else:\n",
    "                pass\n",
    "    return new_image"
   ]
  },
  {
   "cell_type": "code",
   "execution_count": null,
   "metadata": {},
   "outputs": [],
   "source": [
    "colored_image = color_image(Y_test[18], 3, color_table)\n",
    "plt.imshow(colored_image)"
   ]
  },
  {
   "cell_type": "code",
   "execution_count": null,
   "metadata": {},
   "outputs": [],
   "source": [
    "m_img = color_image(pred_m[20], 3, color_table)\n",
    "plt.imshow(m_img)"
   ]
  },
  {
   "cell_type": "code",
   "execution_count": null,
   "metadata": {},
   "outputs": [],
   "source": [
    "# create figure\n",
    "fig = plt.figure(figsize=(15, 5))\n",
    "  \n",
    "# setting values to rows and column variables\n",
    "rows = 2\n",
    "columns = 5\n",
    "x = 0\n",
    "\n",
    "# Adds a subplot at the 1st position\n",
    "fig.add_subplot(rows, columns, 1)\n",
    "  \n",
    "# showing image\n",
    "plt.imshow(color_image(Y_test[5], 3, color_table))\n",
    "plt.axis('off')\n",
    "plt.title(\"GT-Test-0\")\n",
    "  \n",
    "# Adds a subplot at the 2nd position\n",
    "fig.add_subplot(rows, columns, 2)\n",
    "  \n",
    "# showing image\n",
    "plt.imshow(color_image(Y_test[6], 3, color_table))\n",
    "plt.axis('off')\n",
    "plt.title(\"GT-Test-1\")\n",
    "  \n",
    "# Adds a subplot at the 3rd position\n",
    "fig.add_subplot(rows, columns, 3)\n",
    "  \n",
    "# showing image\n",
    "plt.imshow(color_image(Y_test[14], 3, color_table))\n",
    "plt.axis('off')\n",
    "plt.title(\"GT-Test-2\")\n",
    "\n",
    "# Adds a subplot at the 3rd position\n",
    "fig.add_subplot(rows, columns, 4)\n",
    "  \n",
    "# showing image\n",
    "plt.imshow(color_image(Y_test[15], 3, color_table))\n",
    "plt.axis('off')\n",
    "plt.title(\"GT-Test-3\")\n",
    "\n",
    "# Adds a subplot at the 3rd position\n",
    "fig.add_subplot(rows, columns, 5)\n",
    "  \n",
    "# showing image\n",
    "plt.imshow(color_image(Y_test[16], 3, color_table))\n",
    "plt.axis('off')\n",
    "plt.title(\"GT-Test-4\")\n",
    "\n",
    "\n",
    "# Adds a subplot at the 4th position\n",
    "fig.add_subplot(rows, columns, 6)\n",
    "  \n",
    "# showing image\n",
    "plt.imshow(color_image(pred_m[5], 3, color_table))\n",
    "plt.axis('off')\n",
    "plt.title(\"Model-Test-0\")\n",
    "\n",
    "# Adds a subplot at the 4th position\n",
    "fig.add_subplot(rows, columns, 7)\n",
    "  \n",
    "# showing image\n",
    "plt.imshow(color_image(pred_m[6], 3, color_table))\n",
    "plt.axis('off')\n",
    "plt.title(\"Model-Test-1\")\n",
    "\n",
    "# Adds a subplot at the 4th position\n",
    "fig.add_subplot(rows, columns, 8)\n",
    "  \n",
    "# showing image\n",
    "plt.imshow(color_image(pred_m[14], 3, color_table))\n",
    "plt.axis('off')\n",
    "plt.title(\"Model-Test-2\")\n",
    "\n",
    "# Adds a subplot at the 4th position\n",
    "fig.add_subplot(rows, columns, 9)\n",
    "  \n",
    "# showing image\n",
    "plt.imshow(color_image(pred_m[15], 3, color_table))\n",
    "plt.axis('off')\n",
    "plt.title(\"Model-Test-3\")\n",
    "\n",
    "# Adds a subplot at the 4th position\n",
    "fig.add_subplot(rows, columns, 10)\n",
    "  \n",
    "# showing image\n",
    "plt.imshow(color_image(pred_m[16], 3, color_table))\n",
    "plt.axis('off')\n",
    "plt.title(\"Model-Test-4\")"
   ]
  },
  {
   "cell_type": "code",
   "execution_count": null,
   "metadata": {},
   "outputs": [],
   "source": [
    "# create figure\n",
    "fig = plt.figure(figsize=(15, 5))\n",
    "  \n",
    "# setting values to rows and column variables\n",
    "rows = 2\n",
    "columns = 5\n",
    "x = 0\n",
    "\n",
    "# Adds a subplot at the 1st position\n",
    "fig.add_subplot(rows, columns, 1)\n",
    "  \n",
    "# showing image\n",
    "plt.imshow(color_image(Y_test[5], 3, color_table))\n",
    "plt.axis('off')\n",
    "plt.title(\"GT-Test-0\")\n",
    "  \n",
    "# Adds a subplot at the 2nd position\n",
    "fig.add_subplot(rows, columns, 2)\n",
    "  \n",
    "# showing image\n",
    "plt.imshow(color_image(Y_test[6], 3, color_table))\n",
    "plt.axis('off')\n",
    "plt.title(\"GT-Test-1\")\n",
    "  \n",
    "# Adds a subplot at the 3rd position\n",
    "fig.add_subplot(rows, columns, 3)\n",
    "  \n",
    "# showing image\n",
    "plt.imshow(color_image(Y_test[7], 3, color_table))\n",
    "plt.axis('off')\n",
    "plt.title(\"GT-Test-2\")\n",
    "\n",
    "# Adds a subplot at the 3rd position\n",
    "fig.add_subplot(rows, columns, 4)\n",
    "  \n",
    "# showing image\n",
    "plt.imshow(color_image(Y_test[8], 3, color_table))\n",
    "plt.axis('off')\n",
    "plt.title(\"GT-Test-3\")\n",
    "\n",
    "# Adds a subplot at the 3rd position\n",
    "fig.add_subplot(rows, columns, 5)\n",
    "  \n",
    "# showing image\n",
    "plt.imshow(color_image(Y_test[9], 3, color_table))\n",
    "plt.axis('off')\n",
    "plt.title(\"GT-Test-4\")\n",
    "\n",
    "\n",
    "# Adds a subplot at the 4th position\n",
    "fig.add_subplot(rows, columns, 6)\n",
    "  \n",
    "# showing image\n",
    "plt.imshow(color_image(pred_m[5], 3, color_table))\n",
    "plt.axis('off')\n",
    "plt.title(\"Model-Test-0\")\n",
    "\n",
    "# Adds a subplot at the 4th position\n",
    "fig.add_subplot(rows, columns, 7)\n",
    "  \n",
    "# showing image\n",
    "plt.imshow(color_image(pred_m[6], 3, color_table))\n",
    "plt.axis('off')\n",
    "plt.title(\"Model-Test-1\")\n",
    "\n",
    "# Adds a subplot at the 4th position\n",
    "fig.add_subplot(rows, columns, 8)\n",
    "  \n",
    "# showing image\n",
    "plt.imshow(color_image(pred_m[7], 3, color_table))\n",
    "plt.axis('off')\n",
    "plt.title(\"Model-Test-2\")\n",
    "\n",
    "# Adds a subplot at the 4th position\n",
    "fig.add_subplot(rows, columns, 9)\n",
    "  \n",
    "# showing image\n",
    "plt.imshow(color_image(pred_m[8], 3, color_table))\n",
    "plt.axis('off')\n",
    "plt.title(\"Model-Test-3\")\n",
    "\n",
    "# Adds a subplot at the 4th position\n",
    "fig.add_subplot(rows, columns, 10)\n",
    "  \n",
    "# showing image\n",
    "plt.imshow(color_image(pred_m[9], 3, color_table))\n",
    "plt.axis('off')\n",
    "plt.title(\"Model-Test-4\")"
   ]
  },
  {
   "cell_type": "markdown",
   "metadata": {},
   "source": [
    "### Simple visualization for Each Class:"
   ]
  },
  {
   "cell_type": "code",
   "execution_count": null,
   "metadata": {},
   "outputs": [],
   "source": [
    "# create figure\n",
    "fig = plt.figure(figsize=(10, 7))\n",
    "  \n",
    "# setting values to rows and column variables\n",
    "rows = 2\n",
    "columns = 3\n",
    "x = 20\n",
    "\n",
    "# Adds a subplot at the 1st position\n",
    "fig.add_subplot(rows, columns, 1)\n",
    "  \n",
    "# showing image\n",
    "plt.imshow(act[x, :, :, 0], cmap='gray')\n",
    "plt.axis('off')\n",
    "plt.title(\"GT-Class #1\")\n",
    "  \n",
    "# Adds a subplot at the 2nd position\n",
    "fig.add_subplot(rows, columns, 2)\n",
    "  \n",
    "# showing image\n",
    "plt.imshow(act[x, :, :, 1], cmap='gray')\n",
    "plt.axis('off')\n",
    "plt.title(\"GT-Class #2\")\n",
    "  \n",
    "# Adds a subplot at the 3rd position\n",
    "fig.add_subplot(rows, columns, 3)\n",
    "  \n",
    "# showing image\n",
    "plt.imshow(act[x, :, :, 2], cmap='gray')\n",
    "plt.axis('off')\n",
    "plt.title(\"GT-Class #3\")\n",
    "  \n",
    "# Adds a subplot at the 4th position\n",
    "fig.add_subplot(rows, columns, 4)\n",
    "  \n",
    "# showing image\n",
    "plt.imshow(pred_m[x, :, :, 0], cmap='gray')\n",
    "plt.axis('off')\n",
    "plt.title(\"Model-Class #1\")\n",
    "\n",
    "# Adds a subplot at the 4th position\n",
    "fig.add_subplot(rows, columns, 5)\n",
    "  \n",
    "# showing image\n",
    "plt.imshow(pred_m[x, :, :, 1], cmap='gray')\n",
    "plt.axis('off')\n",
    "plt.title(\"Model-Class #2\")\n",
    "\n",
    "# Adds a subplot at the 4th position\n",
    "fig.add_subplot(rows, columns, 6)\n",
    "  \n",
    "# showing image\n",
    "plt.imshow(pred_m[x, :, :, 2], cmap='gray')\n",
    "plt.axis('off')\n",
    "plt.title(\"Model-Class #3\")"
   ]
  },
  {
   "cell_type": "code",
   "execution_count": null,
   "metadata": {},
   "outputs": [],
   "source": []
  }
 ],
 "metadata": {
  "accelerator": "GPU",
  "colab": {
   "name": "Macenko_VGG16.ipynb",
   "provenance": []
  },
  "kernelspec": {
   "display_name": "Python 3 (ipykernel)",
   "language": "python",
   "name": "python3"
  },
  "language_info": {
   "codemirror_mode": {
    "name": "ipython",
    "version": 3
   },
   "file_extension": ".py",
   "mimetype": "text/x-python",
   "name": "python",
   "nbconvert_exporter": "python",
   "pygments_lexer": "ipython3",
   "version": "3.9.7"
  }
 },
 "nbformat": 4,
 "nbformat_minor": 1
}
