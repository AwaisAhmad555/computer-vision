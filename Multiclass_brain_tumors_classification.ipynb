{
  "cells": [
    {
      "cell_type": "markdown",
      "metadata": {
        "id": "view-in-github",
        "colab_type": "text"
      },
      "source": [
        "<a href=\"https://colab.research.google.com/github/AwaisAhmad555/computer-vision/blob/master/Multiclass_brain_tumors_classification.ipynb\" target=\"_parent\"><img src=\"https://colab.research.google.com/assets/colab-badge.svg\" alt=\"Open In Colab\"/></a>"
      ]
    },
    {
      "cell_type": "code",
      "execution_count": null,
      "metadata": {
        "id": "pa5hdsSVIsFh"
      },
      "outputs": [],
      "source": [
        "import numpy as np\n",
        "import nibabel as nib\n",
        "import glob\n",
        "from tensorflow.keras.utils import to_categorical\n",
        "import matplotlib.pyplot as plt\n",
        "from tifffile import imsave\n",
        "import tensorflow as tf\n",
        "import cv2\n",
        "import os\n",
        "from PIL import Image\n",
        "from sklearn.model_selection import train_test_split\n",
        "\n",
        "import matplotlib.pyplot as plt\n",
        "\n",
        "from sklearn.preprocessing import MinMaxScaler\n",
        "scaler = MinMaxScaler()\n",
        "\n",
        "from keras.models import Model, Sequential\n",
        "from keras.layers import Input, Conv2D, MaxPooling2D, Activation, Dropout, Dense, Flatten"
      ]
    },
    {
      "cell_type": "code",
      "execution_count": null,
      "metadata": {
        "colab": {
          "base_uri": "https://localhost:8080/"
        },
        "id": "2WpuxfPgZnEH",
        "outputId": "c4340022-6a44-480c-e5bb-17c2a1c6c165"
      },
      "outputs": [
        {
          "output_type": "stream",
          "name": "stdout",
          "text": [
            "Mounted at /content/drive/\n"
          ]
        }
      ],
      "source": [
        "from google.colab import drive\n",
        "\n",
        "drive.mount('/content/drive/')"
      ]
    },
    {
      "cell_type": "code",
      "execution_count": null,
      "metadata": {
        "colab": {
          "base_uri": "https://localhost:8080/",
          "height": 53
        },
        "id": "cqglofy9Zqds",
        "outputId": "44cb7942-3943-452a-c16d-be2ed1f898b3"
      },
      "outputs": [
        {
          "output_type": "stream",
          "name": "stdout",
          "text": [
            "Number of GPUs available :  1\n"
          ]
        },
        {
          "output_type": "execute_result",
          "data": {
            "text/plain": [
              "'/device:GPU:0'"
            ],
            "application/vnd.google.colaboratory.intrinsic+json": {
              "type": "string"
            }
          },
          "metadata": {},
          "execution_count": 3
        }
      ],
      "source": [
        "print(\"Number of GPUs available : \", len(tf.config.list_physical_devices('GPU')))\n",
        "\n",
        "tf.test.gpu_device_name()"
      ]
    },
    {
      "cell_type": "markdown",
      "source": [
        "### ***Loading Images and performing preprocessing steps***"
      ],
      "metadata": {
        "id": "BOlcXNCXPEOe"
      }
    },
    {
      "cell_type": "code",
      "execution_count": null,
      "metadata": {
        "id": "5GzYmGnZaQb7"
      },
      "outputs": [],
      "source": [
        "\n",
        "glioma_images_path = '/content/drive/MyDrive/brain tumor dataset/Training/glioma_tumor'\n",
        "\n",
        "meningioma_images_path = '/content/drive/MyDrive/brain tumor dataset/Training/meningioma_tumor'\n",
        "\n",
        "pituitary_images_path = '/content/drive/MyDrive/brain tumor dataset/Training/pituitary_tumor'\n",
        "\n",
        "normal_images_path = '/content/drive/MyDrive/brain tumor dataset/Training/no_tumor'\n",
        "\n",
        "#print(len(os.listdir(normal_images_path)))\n",
        "\n",
        "training_images = []\n",
        "training_labels = []\n",
        "\n",
        "##################################\n",
        "\n",
        "glioma_images_list = os.listdir(glioma_images_path)\n",
        "\n",
        "meningioma_images_list = os.listdir(meningioma_images_path)\n",
        "\n",
        "pituitary_images_list = os.listdir(pituitary_images_path)\n",
        "\n",
        "normal_images_list = os.listdir(normal_images_path)\n",
        "\n",
        "##################################\n",
        "\n",
        "\n",
        "\n",
        "############################## loading Glioma Tumor images #####################################\n",
        "\n",
        "\n",
        "for glioma_image_name in glioma_images_list:\n",
        "\n",
        "  #creating full path\n",
        "\n",
        "  glioma_image_path = os.path.join(glioma_images_path,glioma_image_name)\n",
        "\n",
        "\n",
        "  #reading image\n",
        "\n",
        "  glioma_image = cv2.imread(glioma_image_path)\n",
        "\n",
        "\n",
        "  #resizing image\n",
        "\n",
        "  glioma_image = Image.fromarray(glioma_image,'RGB')\n",
        "\n",
        "  glioma_image = glioma_image.resize((256,256))\n",
        "\n",
        "  glioma_image = np.array(glioma_image)\n",
        "\n",
        "\n",
        "  # NORMALIZATION of image \n",
        "\n",
        "  glioma_image = scaler.fit_transform(glioma_image.reshape(-1, glioma_image.shape[-1])).reshape(glioma_image.shape)\n",
        "\n",
        "  #storing glioma images in training list\n",
        "  training_images.append(glioma_image)\n",
        "  training_labels.append(to_categorical(1,num_classes=4))\n",
        "\n",
        "  pass\n",
        "\n",
        "\n",
        "\n",
        "############################## loading Meningioma Tumor images #####################################\n",
        "\n",
        "\n",
        "for meningioma_image_name in meningioma_images_list:\n",
        "\n",
        "  #creating full path\n",
        "\n",
        "  meningioma_image_path = os.path.join(meningioma_images_path,meningioma_image_name)\n",
        "\n",
        "\n",
        "  #reading image\n",
        "\n",
        "  meningioma_image = cv2.imread(meningioma_image_path)\n",
        "\n",
        "\n",
        "  #resizing image\n",
        "\n",
        "  meningioma_image = Image.fromarray(meningioma_image,'RGB')\n",
        "\n",
        "  meningioma_image = meningioma_image.resize((256,256))\n",
        "\n",
        "  meningioma_image = np.array(meningioma_image)\n",
        "\n",
        "\n",
        "  # NORMALIZATION of image \n",
        "\n",
        "  meningioma_image = scaler.fit_transform(meningioma_image.reshape(-1, meningioma_image.shape[-1])).reshape(meningioma_image.shape)\n",
        "\n",
        "  #storing meningioma images in training list\n",
        "  training_images.append(meningioma_image)\n",
        "  training_labels.append(to_categorical(2,num_classes=4))\n",
        "\n",
        "  pass\n",
        "\n",
        "\n",
        "\n",
        "############################## loading Pituitary Tumor images #####################################\n",
        "\n",
        "\n",
        "for pituitary_image_name in pituitary_images_list:\n",
        "\n",
        "  #creating full path\n",
        "\n",
        "  pituitary_image_path = os.path.join(pituitary_images_path,pituitary_image_name)\n",
        "\n",
        "\n",
        "  #reading image\n",
        "\n",
        "  pituitary_image = cv2.imread(pituitary_image_path)\n",
        "\n",
        "\n",
        "  #resizing image\n",
        "\n",
        "  pituitary_image = Image.fromarray(pituitary_image,'RGB')\n",
        "\n",
        "  pituitary_image = pituitary_image.resize((256,256))\n",
        "\n",
        "  pituitary_image = np.array(pituitary_image)\n",
        "\n",
        "\n",
        "  # NORMALIZATION of image \n",
        "\n",
        "  pituitary_image = scaler.fit_transform(pituitary_image.reshape(-1, pituitary_image.shape[-1])).reshape(pituitary_image.shape)\n",
        "\n",
        "  #storing pituitary images in training list\n",
        "  training_images.append(pituitary_image)\n",
        "  training_labels.append(to_categorical(3,num_classes=4))\n",
        "\n",
        "  pass\n",
        "\n",
        "\n",
        "\n",
        "############################## loading Normal Brain images #####################################\n",
        "\n",
        "\n",
        "for normal_image_name in normal_images_list:\n",
        "\n",
        "  #creating full path\n",
        "\n",
        "  normal_image_path = os.path.join(normal_images_path,normal_image_name)\n",
        "\n",
        "\n",
        "  #reading image\n",
        "\n",
        "  normal_image = cv2.imread(normal_image_path)\n",
        "\n",
        "\n",
        "  #resizing image\n",
        "\n",
        "  normal_image = Image.fromarray(normal_image,'RGB')\n",
        "\n",
        "  normal_image = normal_image.resize((256,256))\n",
        "\n",
        "  normal_image = np.array(normal_image)\n",
        "\n",
        "\n",
        "  # NORMALIZATION of image \n",
        "\n",
        "  normal_image = scaler.fit_transform(normal_image.reshape(-1, normal_image.shape[-1])).reshape(normal_image.shape)\n",
        "\n",
        "  #storing glioma images in training list\n",
        "  training_images.append(normal_image)\n",
        "  training_labels.append(to_categorical(0,num_classes=4))\n",
        "\n",
        "  pass\n",
        "\n",
        "\n"
      ]
    },
    {
      "cell_type": "code",
      "execution_count": null,
      "metadata": {
        "colab": {
          "base_uri": "https://localhost:8080/"
        },
        "id": "Isal8p0QjH1z",
        "outputId": "ad1f23a7-6fe0-4001-8d66-569163796124"
      },
      "outputs": [
        {
          "name": "stdout",
          "output_type": "stream",
          "text": [
            "(2876, 256, 256, 3)\n",
            "(2876, 4)\n"
          ]
        }
      ],
      "source": [
        "training_images = np.array(training_images)\n",
        "print(training_images.shape)\n",
        "\n",
        "training_labels = np.array(training_labels)\n",
        "print(training_labels.shape)"
      ]
    },
    {
      "cell_type": "markdown",
      "source": [
        "### ***Save this images preprocessed data into npz file in order to save time of loading dataset again for future.***"
      ],
      "metadata": {
        "id": "rty7BrvdObvi"
      }
    },
    {
      "cell_type": "code",
      "execution_count": null,
      "metadata": {
        "id": "o9HYGUD3xwXh"
      },
      "outputs": [],
      "source": [
        "np.savez_compressed('/content/drive/MyDrive/brain tumor dataset/training.npz', a=training_images,b=training_labels)"
      ]
    },
    {
      "cell_type": "markdown",
      "source": [
        "### ***LOAD npz file instead of repeating the process of preprocessing***"
      ],
      "metadata": {
        "id": "yy4piKAKOveT"
      }
    },
    {
      "cell_type": "code",
      "execution_count": null,
      "metadata": {
        "colab": {
          "base_uri": "https://localhost:8080/"
        },
        "id": "6BvFwbsD1E8u",
        "outputId": "647aa7ab-c866-4f8b-fc94-2dc3da8738d9"
      },
      "outputs": [
        {
          "output_type": "stream",
          "name": "stdout",
          "text": [
            "(2876, 256, 256, 3)\n",
            "(2876, 4)\n"
          ]
        }
      ],
      "source": [
        "path = '/content/drive/MyDrive/brain_tumor_dataset/training.npz'\n",
        "\n",
        "tumor_dataset = np.load(path)\n",
        "\n",
        "X = tumor_dataset['a']\n",
        "print(X.shape)\n",
        "\n",
        "Y = tumor_dataset['b']\n",
        "print(Y.shape)\n",
        "\n",
        "del tumor_dataset"
      ]
    },
    {
      "cell_type": "code",
      "execution_count": null,
      "metadata": {
        "id": "8nIu3P1p2jui"
      },
      "outputs": [],
      "source": [
        "X_train , X_test, y_train, y_test = train_test_split(X , Y , test_size = 0.2, random_state = 42)\n",
        "\n",
        "del X,Y"
      ]
    },
    {
      "cell_type": "code",
      "execution_count": null,
      "metadata": {
        "colab": {
          "base_uri": "https://localhost:8080/"
        },
        "id": "yLXSETo44VQM",
        "outputId": "2450d71a-85d4-4b6f-f920-f31b030cc327"
      },
      "outputs": [
        {
          "output_type": "stream",
          "name": "stdout",
          "text": [
            "(2300, 256, 256, 3)\n",
            "(576, 256, 256, 3)\n",
            "(2300, 4)\n",
            "(576, 4)\n"
          ]
        }
      ],
      "source": [
        "print(X_train.shape)\n",
        "print(X_test.shape)\n",
        "print(y_train.shape)\n",
        "print(y_test.shape)"
      ]
    },
    {
      "cell_type": "code",
      "execution_count": null,
      "metadata": {
        "id": "4ksB8M2ii740"
      },
      "outputs": [],
      "source": [
        "\"\"\"image_width = 256\n",
        "image_height = 256\n",
        "\n",
        "training_images_path = '/content/drive/MyDrive/brain tumor dataset/Training'\n",
        "validation_images_path = '/content/drive/MyDrive/brain tumor dataset/Testing'\n",
        "\n",
        "print(os.listdir(training_images_path))\n",
        "print(os.listdir(validation_images_path))\"\"\"\n",
        "\n"
      ]
    },
    {
      "cell_type": "markdown",
      "metadata": {
        "id": "OIZV4zxAu2vo"
      },
      "source": [
        "# ***Keras Image Data generator***"
      ]
    },
    {
      "cell_type": "code",
      "execution_count": null,
      "metadata": {
        "id": "Y1pLjSXbuEm4"
      },
      "outputs": [],
      "source": [
        "from keras.preprocessing.image import ImageDataGenerator\n"
      ]
    },
    {
      "cell_type": "code",
      "execution_count": null,
      "metadata": {
        "id": "QGJhpU0ixibX"
      },
      "outputs": [],
      "source": [
        "training_samples = X_train.shape[0]\n",
        "validation_samples = X_test.shape[0]\n",
        "\n",
        "epochs = 50\n",
        "\n",
        "batch_size = 16\n",
        "\n",
        "\n",
        "training_steps_per_epoch = training_samples//batch_size\n",
        "\n",
        "validation_steps_per_epoch = validation_samples//batch_size"
      ]
    },
    {
      "cell_type": "code",
      "execution_count": null,
      "metadata": {
        "id": "PYq3Lg1au2Xt"
      },
      "outputs": [],
      "source": [
        "#Image data generator with image augumentation\n",
        "\n",
        "\"\"\"Training_image_DataGenerator = ImageDataGenerator(rescale=1./255,\n",
        "                                                  rotation_range=40,\n",
        "                                                  width_shift_range=0.2,\n",
        "                                                  height_shift_range=0.2,\n",
        "                                                  shear_range=0.2,\n",
        "                                                  zoom_range=0.2,\n",
        "                                                  horizontal_flip=True,\n",
        "                                                  fill_mode='nearest'\n",
        "                                                  )\"\"\"\n",
        "\n",
        "\n",
        "Training_image_DataGenerator = ImageDataGenerator(rescale=1./255,\n",
        "                                                  rotation_range=0,\n",
        "                                                  width_shift_range=0,\n",
        "                                                  height_shift_range=0,\n",
        "                                                  shear_range=0,\n",
        "                                                  zoom_range=0,\n",
        "                                                  horizontal_flip=False)\n",
        "                                                  #fill_mode='nearest'\n",
        "                                                  #)\n",
        "\n",
        "#Validation_image_DataGenerator = ImageDataGenerator(rescale=1./255)\n",
        "\n",
        "\"\"\"Validation_image_DataGenerator = ImageDataGenerator(rescale=1./255,\n",
        "                                                  rotation_range=40,\n",
        "                                                  width_shift_range=0.2,\n",
        "                                                  height_shift_range=0.2,\n",
        "                                                  shear_range=0.2,\n",
        "                                                  zoom_range=0.2,\n",
        "                                                  horizontal_flip=True,\n",
        "                                                  fill_mode='nearest')\"\"\"\n",
        "\n",
        "\n",
        "Validation_image_DataGenerator = ImageDataGenerator(rescale=1./255,\n",
        "                                                  rotation_range=0,\n",
        "                                                  width_shift_range=0,\n",
        "                                                  height_shift_range=0,\n",
        "                                                  shear_range=0,\n",
        "                                                  zoom_range=0,\n",
        "                                                  horizontal_flip=False)\n",
        "                                                  #fill_mode='nearest')"
      ]
    },
    {
      "cell_type": "code",
      "execution_count": null,
      "metadata": {
        "colab": {
          "base_uri": "https://localhost:8080/"
        },
        "id": "qQ3B8pVOyGrv",
        "outputId": "fa2f8991-0add-49cc-eb58-c57b0ea7dfb8"
      },
      "outputs": [
        {
          "name": "stdout",
          "output_type": "stream",
          "text": [
            "Found 2876 images belonging to 4 classes.\n",
            "Found 394 images belonging to 4 classes.\n"
          ]
        }
      ],
      "source": [
        "\"\"\"Training_DataGenerator = Training_image_DataGenerator.flow_from_directory(directory=training_images_path,\n",
        "                                                                          target_size=(image_width,image_height),\n",
        "                                                                          batch_size=batch_size,\n",
        "                                                                          class_mode='categorical'\n",
        "                                                                          )\n",
        "\n",
        "Validation_DataGenerator = Validation_image_DataGenerator.flow_from_directory(directory=validation_images_path,\n",
        "                                                                          target_size=(image_width,image_height),\n",
        "                                                                          batch_size=batch_size,\n",
        "                                                                          class_mode='categorical'\n",
        "                                                                          )\"\"\""
      ]
    },
    {
      "cell_type": "code",
      "execution_count": null,
      "metadata": {
        "id": "sIb5nWlm6HDW"
      },
      "outputs": [],
      "source": [
        "Training_DataGenerator = Training_image_DataGenerator.flow(X_train,y_train,batch_size = batch_size)\n",
        "\n",
        "Validation_DataGenerator = Validation_image_DataGenerator.flow(X_test,y_test,batch_size = batch_size)"
      ]
    },
    {
      "cell_type": "code",
      "execution_count": null,
      "metadata": {
        "id": "FSGyVMvt7K_Y"
      },
      "outputs": [],
      "source": [
        "image_width = 256\n",
        "image_height = 256"
      ]
    },
    {
      "cell_type": "markdown",
      "metadata": {
        "id": "Yb_7lT2FzggL"
      },
      "source": [
        "# ***CUSTOM CNN MODEL***"
      ]
    },
    {
      "cell_type": "code",
      "execution_count": null,
      "metadata": {
        "id": "_yOYDi85zGPk"
      },
      "outputs": [],
      "source": [
        "from tensorflow.keras.optimizers import Adam\n",
        "input_shape = (image_width,image_height,3)"
      ]
    },
    {
      "cell_type": "code",
      "execution_count": null,
      "metadata": {
        "id": "AX6uyYkFzXvo"
      },
      "outputs": [],
      "source": [
        "def custom_CNN_model(IMG_HEIGHT=512,IMG_WIDTH=512,IMG_CHANNELS=3,n_classes=4):\n",
        "\n",
        "  inputs = Input((IMG_HEIGHT, IMG_WIDTH, IMG_CHANNELS))\n",
        "\n",
        "  input_layer = inputs\n",
        "\n",
        "\n",
        "  Conv_layer_1 = Conv2D(64,(3,3),activation='relu',kernel_initializer='he_uniform', padding='same')(input_layer)\n",
        "  \n",
        "  Pooling_layer_1 = MaxPooling2D(pool_size=(2,2),strides=(2,2))(Conv_layer_1)\n",
        "\n",
        "  Conv_layer_2 = Conv2D(128,(3,3),activation='relu',kernel_initializer='he_uniform', padding='same')(Pooling_layer_1)\n",
        "  \n",
        "  Pooling_layer_2 = MaxPooling2D(pool_size=(2,2),strides=(2,2))(Conv_layer_2)\n",
        "\n",
        "  Conv_layer_3 = Conv2D(128,(3,3),activation='relu',kernel_initializer='he_uniform', padding='same')(Pooling_layer_2)\n",
        "  \n",
        "  Pooling_layer_3 = MaxPooling2D(pool_size=(2,2),strides=(2,2))(Conv_layer_3)\n",
        "\n",
        "  Conv_layer_4 = Conv2D(128,(3,3),activation='relu',kernel_initializer='he_uniform', padding='same')(Pooling_layer_3)\n",
        "  \n",
        "  Pooling_layer_4 = MaxPooling2D(pool_size=(2,2),strides=(2,2))(Conv_layer_4)\n",
        "\n",
        "\n",
        "  Conv_layer_5 = Conv2D(256,(3,3),activation='relu',kernel_initializer='he_uniform', padding='same')(Pooling_layer_4)\n",
        "  \n",
        "  Pooling_layer_5 = MaxPooling2D(pool_size=(2,2),strides=(2,2))(Conv_layer_5)\n",
        "\n",
        "\n",
        "\n",
        "  flatten_layer = Flatten()(Pooling_layer_5)\n",
        "\n",
        "  dense_layer_1 = Dense(128,activation='relu',kernel_initializer='he_uniform')(flatten_layer)\n",
        "\n",
        "  dense_layer_2 = Dense(64,activation='relu',kernel_initializer='he_uniform')(dense_layer_1)\n",
        "\n",
        "  outputs = Dense(n_classes,activation='softmax')(dense_layer_2)\n",
        "\n",
        "  model = Model(inputs=[inputs], outputs=[outputs])\n",
        "\n",
        "\n",
        "\n",
        "  return model\n",
        "  pass"
      ]
    },
    {
      "cell_type": "code",
      "execution_count": null,
      "metadata": {
        "colab": {
          "base_uri": "https://localhost:8080/"
        },
        "id": "Ao7XSkP35xQ2",
        "outputId": "3d36c113-b50c-41d0-c7ce-07872f628551"
      },
      "outputs": [
        {
          "output_type": "stream",
          "name": "stderr",
          "text": [
            "/usr/local/lib/python3.7/dist-packages/keras/optimizer_v2/adam.py:105: UserWarning: The `lr` argument is deprecated, use `learning_rate` instead.\n",
            "  super(Adam, self).__init__(name, **kwargs)\n"
          ]
        },
        {
          "output_type": "stream",
          "name": "stdout",
          "text": [
            "Model: \"model\"\n",
            "_________________________________________________________________\n",
            " Layer (type)                Output Shape              Param #   \n",
            "=================================================================\n",
            " input_1 (InputLayer)        [(None, 256, 256, 3)]     0         \n",
            "                                                                 \n",
            " conv2d (Conv2D)             (None, 256, 256, 64)      1792      \n",
            "                                                                 \n",
            " max_pooling2d (MaxPooling2D  (None, 128, 128, 64)     0         \n",
            " )                                                               \n",
            "                                                                 \n",
            " conv2d_1 (Conv2D)           (None, 128, 128, 128)     73856     \n",
            "                                                                 \n",
            " max_pooling2d_1 (MaxPooling  (None, 64, 64, 128)      0         \n",
            " 2D)                                                             \n",
            "                                                                 \n",
            " conv2d_2 (Conv2D)           (None, 64, 64, 128)       147584    \n",
            "                                                                 \n",
            " max_pooling2d_2 (MaxPooling  (None, 32, 32, 128)      0         \n",
            " 2D)                                                             \n",
            "                                                                 \n",
            " conv2d_3 (Conv2D)           (None, 32, 32, 128)       147584    \n",
            "                                                                 \n",
            " max_pooling2d_3 (MaxPooling  (None, 16, 16, 128)      0         \n",
            " 2D)                                                             \n",
            "                                                                 \n",
            " conv2d_4 (Conv2D)           (None, 16, 16, 256)       295168    \n",
            "                                                                 \n",
            " max_pooling2d_4 (MaxPooling  (None, 8, 8, 256)        0         \n",
            " 2D)                                                             \n",
            "                                                                 \n",
            " flatten (Flatten)           (None, 16384)             0         \n",
            "                                                                 \n",
            " dense (Dense)               (None, 128)               2097280   \n",
            "                                                                 \n",
            " dense_1 (Dense)             (None, 64)                8256      \n",
            "                                                                 \n",
            " dense_2 (Dense)             (None, 4)                 260       \n",
            "                                                                 \n",
            "=================================================================\n",
            "Total params: 2,771,780\n",
            "Trainable params: 2,771,780\n",
            "Non-trainable params: 0\n",
            "_________________________________________________________________\n",
            "None\n"
          ]
        }
      ],
      "source": [
        "optimizer = Adam(lr=0.001, beta_1=0.9, beta_2=0.999)\n",
        "\n",
        "#optimizer = Adam(lr=0.001)\n",
        "\n",
        "model = custom_CNN_model(IMG_HEIGHT=image_height,IMG_WIDTH=image_width,IMG_CHANNELS=3,n_classes=4)\n",
        "\n",
        "\n",
        "model.compile(optimizer=optimizer, loss='categorical_crossentropy', metrics=['accuracy'])\n",
        "\n",
        "\n",
        "print(model.summary())"
      ]
    },
    {
      "cell_type": "code",
      "execution_count": null,
      "metadata": {
        "colab": {
          "base_uri": "https://localhost:8080/"
        },
        "id": "9RdxLBqZ6Y1b",
        "outputId": "963962f6-3b9a-4f3a-e0b9-26e271a16ca8"
      },
      "outputs": [
        {
          "output_type": "stream",
          "name": "stderr",
          "text": [
            "/usr/local/lib/python3.7/dist-packages/ipykernel_launcher.py:5: UserWarning: `Model.fit_generator` is deprecated and will be removed in a future version. Please use `Model.fit`, which supports generators.\n",
            "  \"\"\"\n"
          ]
        },
        {
          "output_type": "stream",
          "name": "stdout",
          "text": [
            "Epoch 1/50\n",
            "115/115 [==============================] - 25s 95ms/step - loss: 1.2724 - accuracy: 0.3874 - val_loss: 1.0978 - val_accuracy: 0.5643\n",
            "Epoch 2/50\n",
            "115/115 [==============================] - 11s 93ms/step - loss: 0.7980 - accuracy: 0.6570 - val_loss: 0.9199 - val_accuracy: 0.5875\n",
            "Epoch 3/50\n",
            "115/115 [==============================] - 11s 93ms/step - loss: 0.6430 - accuracy: 0.7252 - val_loss: 0.6296 - val_accuracy: 0.7339\n",
            "Epoch 4/50\n",
            "115/115 [==============================] - 11s 94ms/step - loss: 0.4965 - accuracy: 0.8022 - val_loss: 0.5997 - val_accuracy: 0.7321\n",
            "Epoch 5/50\n",
            "115/115 [==============================] - 11s 94ms/step - loss: 0.3676 - accuracy: 0.8570 - val_loss: 0.5067 - val_accuracy: 0.8143\n",
            "Epoch 6/50\n",
            "115/115 [==============================] - 11s 94ms/step - loss: 0.2640 - accuracy: 0.8996 - val_loss: 0.4612 - val_accuracy: 0.8107\n",
            "Epoch 7/50\n",
            "115/115 [==============================] - 11s 94ms/step - loss: 0.1929 - accuracy: 0.9243 - val_loss: 0.5951 - val_accuracy: 0.8000\n",
            "Epoch 8/50\n",
            "115/115 [==============================] - 11s 94ms/step - loss: 0.1932 - accuracy: 0.9265 - val_loss: 0.5199 - val_accuracy: 0.8571\n",
            "Epoch 9/50\n",
            "115/115 [==============================] - 11s 93ms/step - loss: 0.1139 - accuracy: 0.9578 - val_loss: 0.4990 - val_accuracy: 0.8661\n",
            "Epoch 10/50\n",
            "115/115 [==============================] - 11s 94ms/step - loss: 0.1163 - accuracy: 0.9561 - val_loss: 0.7628 - val_accuracy: 0.8125\n",
            "Epoch 11/50\n",
            "115/115 [==============================] - 11s 94ms/step - loss: 0.0746 - accuracy: 0.9761 - val_loss: 0.5090 - val_accuracy: 0.8875\n",
            "Epoch 12/50\n",
            "115/115 [==============================] - 11s 94ms/step - loss: 0.0267 - accuracy: 0.9917 - val_loss: 0.6668 - val_accuracy: 0.8536\n",
            "Epoch 13/50\n",
            "115/115 [==============================] - 11s 94ms/step - loss: 0.0566 - accuracy: 0.9835 - val_loss: 0.7737 - val_accuracy: 0.8018\n",
            "Epoch 14/50\n",
            "115/115 [==============================] - 11s 93ms/step - loss: 0.0602 - accuracy: 0.9813 - val_loss: 0.5790 - val_accuracy: 0.8768\n",
            "Epoch 15/50\n",
            "115/115 [==============================] - 11s 94ms/step - loss: 0.0116 - accuracy: 0.9974 - val_loss: 0.6575 - val_accuracy: 0.8714\n",
            "Epoch 16/50\n",
            "115/115 [==============================] - 11s 94ms/step - loss: 0.0482 - accuracy: 0.9826 - val_loss: 0.6583 - val_accuracy: 0.8786\n",
            "Epoch 17/50\n",
            "115/115 [==============================] - 11s 94ms/step - loss: 0.0250 - accuracy: 0.9917 - val_loss: 0.5167 - val_accuracy: 0.8804\n",
            "Epoch 18/50\n",
            "115/115 [==============================] - 11s 96ms/step - loss: 0.0319 - accuracy: 0.9887 - val_loss: 0.7961 - val_accuracy: 0.8304\n",
            "Epoch 19/50\n",
            "115/115 [==============================] - 11s 93ms/step - loss: 0.0630 - accuracy: 0.9800 - val_loss: 0.7641 - val_accuracy: 0.8696\n",
            "Epoch 20/50\n",
            "115/115 [==============================] - 11s 94ms/step - loss: 0.0472 - accuracy: 0.9826 - val_loss: 0.6229 - val_accuracy: 0.8821\n",
            "Epoch 21/50\n",
            "115/115 [==============================] - 11s 94ms/step - loss: 0.0213 - accuracy: 0.9922 - val_loss: 0.7758 - val_accuracy: 0.8518\n",
            "Epoch 22/50\n",
            "115/115 [==============================] - 11s 93ms/step - loss: 0.0496 - accuracy: 0.9843 - val_loss: 0.5911 - val_accuracy: 0.8875\n",
            "Epoch 23/50\n",
            "115/115 [==============================] - 11s 93ms/step - loss: 0.0033 - accuracy: 0.9996 - val_loss: 0.6437 - val_accuracy: 0.8964\n",
            "Epoch 24/50\n",
            "115/115 [==============================] - 11s 94ms/step - loss: 2.8435e-04 - accuracy: 1.0000 - val_loss: 0.6686 - val_accuracy: 0.8946\n",
            "Epoch 25/50\n",
            "115/115 [==============================] - 11s 93ms/step - loss: 1.6092e-04 - accuracy: 1.0000 - val_loss: 0.6664 - val_accuracy: 0.9000\n",
            "Epoch 26/50\n",
            "115/115 [==============================] - 11s 94ms/step - loss: 1.1793e-04 - accuracy: 1.0000 - val_loss: 0.6841 - val_accuracy: 0.8982\n",
            "Epoch 27/50\n",
            "115/115 [==============================] - 11s 93ms/step - loss: 9.1469e-05 - accuracy: 1.0000 - val_loss: 0.7169 - val_accuracy: 0.8946\n",
            "Epoch 28/50\n",
            "115/115 [==============================] - 11s 94ms/step - loss: 7.3596e-05 - accuracy: 1.0000 - val_loss: 0.7214 - val_accuracy: 0.8964\n",
            "Epoch 29/50\n",
            "115/115 [==============================] - 11s 94ms/step - loss: 6.0251e-05 - accuracy: 1.0000 - val_loss: 0.7193 - val_accuracy: 0.8946\n",
            "Epoch 30/50\n",
            "115/115 [==============================] - 11s 94ms/step - loss: 5.0385e-05 - accuracy: 1.0000 - val_loss: 0.7467 - val_accuracy: 0.8929\n",
            "Epoch 31/50\n",
            "115/115 [==============================] - 11s 94ms/step - loss: 4.2517e-05 - accuracy: 1.0000 - val_loss: 0.7421 - val_accuracy: 0.8946\n",
            "Epoch 32/50\n",
            "115/115 [==============================] - 11s 94ms/step - loss: 3.6267e-05 - accuracy: 1.0000 - val_loss: 0.7127 - val_accuracy: 0.8982\n",
            "Epoch 33/50\n",
            "115/115 [==============================] - 11s 94ms/step - loss: 3.1005e-05 - accuracy: 1.0000 - val_loss: 0.7712 - val_accuracy: 0.8929\n",
            "Epoch 34/50\n",
            "115/115 [==============================] - 11s 94ms/step - loss: 2.6985e-05 - accuracy: 1.0000 - val_loss: 0.7790 - val_accuracy: 0.8946\n",
            "Epoch 35/50\n",
            "115/115 [==============================] - 11s 94ms/step - loss: 2.3569e-05 - accuracy: 1.0000 - val_loss: 0.6738 - val_accuracy: 0.9036\n",
            "Epoch 36/50\n",
            "115/115 [==============================] - 11s 94ms/step - loss: 2.0697e-05 - accuracy: 1.0000 - val_loss: 0.7632 - val_accuracy: 0.9000\n",
            "Epoch 37/50\n",
            "115/115 [==============================] - 11s 94ms/step - loss: 1.8063e-05 - accuracy: 1.0000 - val_loss: 0.7977 - val_accuracy: 0.8946\n",
            "Epoch 38/50\n",
            "115/115 [==============================] - 11s 94ms/step - loss: 1.5999e-05 - accuracy: 1.0000 - val_loss: 0.7980 - val_accuracy: 0.8964\n",
            "Epoch 39/50\n",
            "115/115 [==============================] - 11s 93ms/step - loss: 1.4254e-05 - accuracy: 1.0000 - val_loss: 0.7876 - val_accuracy: 0.8964\n",
            "Epoch 40/50\n",
            "115/115 [==============================] - 11s 94ms/step - loss: 1.2593e-05 - accuracy: 1.0000 - val_loss: 0.7748 - val_accuracy: 0.8982\n",
            "Epoch 41/50\n",
            "115/115 [==============================] - 11s 93ms/step - loss: 1.1253e-05 - accuracy: 1.0000 - val_loss: 0.8192 - val_accuracy: 0.8929\n",
            "Epoch 42/50\n",
            "115/115 [==============================] - 11s 94ms/step - loss: 1.0085e-05 - accuracy: 1.0000 - val_loss: 0.8149 - val_accuracy: 0.8964\n",
            "Epoch 43/50\n",
            "115/115 [==============================] - 11s 93ms/step - loss: 9.0596e-06 - accuracy: 1.0000 - val_loss: 0.8039 - val_accuracy: 0.8964\n",
            "Epoch 44/50\n",
            "115/115 [==============================] - 11s 94ms/step - loss: 8.1581e-06 - accuracy: 1.0000 - val_loss: 0.8270 - val_accuracy: 0.8911\n",
            "Epoch 45/50\n",
            "115/115 [==============================] - 11s 94ms/step - loss: 7.3585e-06 - accuracy: 1.0000 - val_loss: 0.8179 - val_accuracy: 0.8911\n",
            "Epoch 46/50\n",
            "115/115 [==============================] - 11s 96ms/step - loss: 6.6235e-06 - accuracy: 1.0000 - val_loss: 0.8422 - val_accuracy: 0.8911\n",
            "Epoch 47/50\n",
            "115/115 [==============================] - 11s 93ms/step - loss: 5.9933e-06 - accuracy: 1.0000 - val_loss: 0.8462 - val_accuracy: 0.8911\n",
            "Epoch 48/50\n",
            "115/115 [==============================] - 11s 93ms/step - loss: 5.4625e-06 - accuracy: 1.0000 - val_loss: 0.8475 - val_accuracy: 0.8929\n",
            "Epoch 49/50\n",
            "115/115 [==============================] - 11s 94ms/step - loss: 4.9856e-06 - accuracy: 1.0000 - val_loss: 0.8028 - val_accuracy: 0.8946\n",
            "Epoch 50/50\n",
            "115/115 [==============================] - 11s 94ms/step - loss: 4.5390e-06 - accuracy: 1.0000 - val_loss: 0.8167 - val_accuracy: 0.8982\n"
          ]
        }
      ],
      "source": [
        "history = model.fit_generator(generator=Training_DataGenerator,\n",
        "                    steps_per_epoch=training_steps_per_epoch,\n",
        "                    epochs=epochs,\n",
        "                    validation_data=Validation_DataGenerator,\n",
        "                    validation_steps=validation_steps_per_epoch)\n",
        "\n",
        "model.save('/content/drive/MyDrive/brain_tumor_dataset/multi_class_brain_tumor_classification.hdf5')"
      ]
    },
    {
      "cell_type": "markdown",
      "metadata": {
        "id": "fR0fzMEIG4bU"
      },
      "source": [
        "### ***Training History Visualization***"
      ]
    },
    {
      "cell_type": "code",
      "execution_count": null,
      "metadata": {
        "id": "2-A8viEfGzRa",
        "colab": {
          "base_uri": "https://localhost:8080/",
          "height": 573
        },
        "outputId": "6185f871-9945-4c44-b288-2456e4a35294"
      },
      "outputs": [
        {
          "output_type": "display_data",
          "data": {
            "text/plain": [
              "<Figure size 432x288 with 1 Axes>"
            ],
            "image/png": "[encoded data removed]"
          },
          "metadata": {
            "needs_background": "light"
          }
        },
        {
          "output_type": "display_data",
          "data": {
            "text/plain": [
              "<Figure size 432x288 with 1 Axes>"
            ],
            "image/png": "[encoded data removed]"
          },
          "metadata": {
            "needs_background": "light"
          }
        }
      ],
      "source": [
        "del X_train , X_test, y_train, y_test\n",
        "\n",
        "##################################################################\n",
        "\n",
        "\n",
        "#plot the training and validation IoU and loss at each epoch\n",
        "loss = history.history['loss']\n",
        "val_loss = history.history['val_loss']\n",
        "epochs = range(1, len(loss) + 1)\n",
        "plt.plot(epochs, loss, 'y', label='Training loss')\n",
        "plt.plot(epochs, val_loss, 'r', label='Validation loss')\n",
        "plt.title('Training and validation loss')\n",
        "plt.xlabel('Epochs')\n",
        "plt.ylabel('Loss')\n",
        "plt.legend()\n",
        "plt.show()\n",
        "\n",
        "acc = history.history['accuracy']\n",
        "val_acc = history.history['val_accuracy']\n",
        "\n",
        "plt.plot(epochs, acc, 'y', label='Training accuracy')\n",
        "plt.plot(epochs, val_acc, 'r', label='Validation accuracy')\n",
        "plt.title('Training and validation accuracy')\n",
        "plt.xlabel('Epochs')\n",
        "plt.ylabel('Accuracy')\n",
        "plt.legend()\n",
        "plt.show()\n",
        "#################################################"
      ]
    },
    {
      "cell_type": "markdown",
      "metadata": {
        "id": "EwR-ZtPiHH5K"
      },
      "source": [
        "# ***RESNET50 Model Evaluation on Multi class Brain tumor dataset***"
      ]
    },
    {
      "cell_type": "code",
      "execution_count": null,
      "metadata": {
        "id": "fWnPFOw8HKOS"
      },
      "outputs": [],
      "source": [
        "from keras.models import Sequential\n",
        "from tensorflow.keras.optimizers import Adam"
      ]
    },
    {
      "cell_type": "code",
      "execution_count": null,
      "metadata": {
        "id": "kR7GGRxVH2Yt"
      },
      "outputs": [],
      "source": [
        "resnet_model = Sequential()\n",
        "\n",
        "pretrained_model= tf.keras.applications.ResNet50(include_top=False,\n",
        "                   input_shape=(512,512,3),\n",
        "                   pooling='avg',classes=2,\n",
        "                   weights='imagenet')\n",
        "\n",
        "for layer in pretrained_model.layers:\n",
        "        layer.trainable=False\n",
        "\n",
        "resnet_model.add(pretrained_model)\n",
        "resnet_model.add(Flatten())\n",
        "resnet_model.add(Dense(512, activation='relu', kernel_initializer='he_uniform'))\n",
        "resnet_model.add(Dense(128, activation='relu', kernel_initializer='he_uniform'))\n",
        "resnet_model.add(Dense(4, activation='softmax'))\n",
        "\n",
        "\n"
      ]
    },
    {
      "cell_type": "code",
      "execution_count": null,
      "metadata": {
        "colab": {
          "base_uri": "https://localhost:8080/"
        },
        "id": "4Z8l082tIO32",
        "outputId": "74f12e0b-0957-44fd-9930-273c68c39382"
      },
      "outputs": [
        {
          "output_type": "stream",
          "name": "stdout",
          "text": [
            "Model: \"sequential_1\"\n",
            "_________________________________________________________________\n",
            " Layer (type)                Output Shape              Param #   \n",
            "=================================================================\n",
            " resnet50 (Functional)       (None, 2048)              23587712  \n",
            "                                                                 \n",
            " flatten_1 (Flatten)         (None, 2048)              0         \n",
            "                                                                 \n",
            " dense_3 (Dense)             (None, 512)               1049088   \n",
            "                                                                 \n",
            " dense_4 (Dense)             (None, 128)               65664     \n",
            "                                                                 \n",
            " dense_5 (Dense)             (None, 4)                 516       \n",
            "                                                                 \n",
            "=================================================================\n",
            "Total params: 24,702,980\n",
            "Trainable params: 1,115,268\n",
            "Non-trainable params: 23,587,712\n",
            "_________________________________________________________________\n",
            "None\n"
          ]
        }
      ],
      "source": [
        "print(resnet_model.summary())"
      ]
    },
    {
      "cell_type": "code",
      "source": [
        "optimizer = Adam(lr=0.001, beta_1=0.9, beta_2=0.999)"
      ],
      "metadata": {
        "colab": {
          "base_uri": "https://localhost:8080/"
        },
        "id": "KMOb3OrZHDQE",
        "outputId": "071c6a07-1d3f-4018-9c13-0d8da21d5295"
      },
      "execution_count": null,
      "outputs": [
        {
          "output_type": "stream",
          "name": "stderr",
          "text": [
            "/usr/local/lib/python3.7/dist-packages/keras/optimizer_v2/adam.py:105: UserWarning: The `lr` argument is deprecated, use `learning_rate` instead.\n",
            "  super(Adam, self).__init__(name, **kwargs)\n"
          ]
        }
      ]
    },
    {
      "cell_type": "code",
      "execution_count": null,
      "metadata": {
        "colab": {
          "base_uri": "https://localhost:8080/"
        },
        "id": "O5cToVViITAi",
        "outputId": "0fc4966f-2a25-4dc5-a7dc-a0563d6a5441"
      },
      "outputs": [
        {
          "metadata": {
            "tags": null
          },
          "name": "stderr",
          "output_type": "stream",
          "text": [
            "/usr/local/lib/python3.7/dist-packages/ipykernel_launcher.py:7: UserWarning: `Model.fit_generator` is deprecated and will be removed in a future version. Please use `Model.fit`, which supports generators.\n",
            "  import sys\n"
          ]
        },
        {
          "output_type": "stream",
          "name": "stdout",
          "text": [
            "Epoch 1/50\n",
            "143/143 [==============================] - 17s 98ms/step - loss: 1.4916 - accuracy: 0.2806 - val_loss: 1.3421 - val_accuracy: 0.3073\n",
            "Epoch 2/50\n",
            "143/143 [==============================] - 13s 92ms/step - loss: 1.3592 - accuracy: 0.2837 - val_loss: 1.3435 - val_accuracy: 0.2656\n",
            "Epoch 3/50\n",
            "143/143 [==============================] - 13s 92ms/step - loss: 1.3592 - accuracy: 0.2815 - val_loss: 1.3550 - val_accuracy: 0.2656\n",
            "Epoch 4/50\n",
            "143/143 [==============================] - 13s 93ms/step - loss: 1.3549 - accuracy: 0.2806 - val_loss: 1.3445 - val_accuracy: 0.2656\n",
            "Epoch 5/50\n",
            "143/143 [==============================] - 13s 92ms/step - loss: 1.3557 - accuracy: 0.2750 - val_loss: 1.3510 - val_accuracy: 0.2656\n",
            "Epoch 6/50\n",
            "143/143 [==============================] - 13s 92ms/step - loss: 1.3526 - accuracy: 0.3030 - val_loss: 1.3576 - val_accuracy: 0.2656\n",
            "Epoch 7/50\n",
            "143/143 [==============================] - 13s 92ms/step - loss: 1.3555 - accuracy: 0.2916 - val_loss: 1.3487 - val_accuracy: 0.2656\n",
            "Epoch 8/50\n",
            "143/143 [==============================] - 13s 92ms/step - loss: 1.3528 - accuracy: 0.2811 - val_loss: 1.3502 - val_accuracy: 0.3073\n",
            "Epoch 9/50\n",
            "143/143 [==============================] - 13s 92ms/step - loss: 1.3533 - accuracy: 0.2907 - val_loss: 1.3393 - val_accuracy: 0.3073\n",
            "Epoch 10/50\n",
            "143/143 [==============================] - 13s 92ms/step - loss: 1.3559 - accuracy: 0.2855 - val_loss: 1.3456 - val_accuracy: 0.2656\n",
            "Epoch 11/50\n",
            "143/143 [==============================] - 13s 93ms/step - loss: 1.3540 - accuracy: 0.2828 - val_loss: 1.3425 - val_accuracy: 0.2656\n",
            "Epoch 12/50\n",
            "143/143 [==============================] - 13s 92ms/step - loss: 1.3528 - accuracy: 0.2771 - val_loss: 1.3390 - val_accuracy: 0.3073\n",
            "Epoch 13/50\n",
            "143/143 [==============================] - 13s 92ms/step - loss: 1.3537 - accuracy: 0.2850 - val_loss: 1.3420 - val_accuracy: 0.2656\n",
            "Epoch 14/50\n",
            "143/143 [==============================] - 13s 92ms/step - loss: 1.3520 - accuracy: 0.2951 - val_loss: 1.3406 - val_accuracy: 0.2656\n",
            "Epoch 15/50\n",
            "143/143 [==============================] - 13s 92ms/step - loss: 1.3521 - accuracy: 0.2671 - val_loss: 1.3399 - val_accuracy: 0.3073\n",
            "Epoch 16/50\n",
            "143/143 [==============================] - 13s 92ms/step - loss: 1.3519 - accuracy: 0.2916 - val_loss: 1.3460 - val_accuracy: 0.2656\n",
            "Epoch 17/50\n",
            "143/143 [==============================] - 13s 93ms/step - loss: 1.3516 - accuracy: 0.2898 - val_loss: 1.3434 - val_accuracy: 0.2656\n",
            "Epoch 18/50\n",
            "143/143 [==============================] - 13s 92ms/step - loss: 1.3516 - accuracy: 0.2912 - val_loss: 1.3405 - val_accuracy: 0.3073\n",
            "Epoch 19/50\n",
            "143/143 [==============================] - 13s 92ms/step - loss: 1.3516 - accuracy: 0.2960 - val_loss: 1.3385 - val_accuracy: 0.3073\n",
            "Epoch 20/50\n",
            "143/143 [==============================] - 13s 92ms/step - loss: 1.3519 - accuracy: 0.2881 - val_loss: 1.3423 - val_accuracy: 0.2656\n",
            "Epoch 21/50\n",
            "143/143 [==============================] - 13s 92ms/step - loss: 1.3515 - accuracy: 0.2951 - val_loss: 1.3422 - val_accuracy: 0.2656\n",
            "Epoch 22/50\n",
            "143/143 [==============================] - 13s 92ms/step - loss: 1.3514 - accuracy: 0.2903 - val_loss: 1.3431 - val_accuracy: 0.2656\n",
            "Epoch 23/50\n",
            "143/143 [==============================] - 13s 92ms/step - loss: 1.3517 - accuracy: 0.2933 - val_loss: 1.3450 - val_accuracy: 0.2656\n",
            "Epoch 24/50\n",
            "143/143 [==============================] - 13s 92ms/step - loss: 1.3506 - accuracy: 0.2964 - val_loss: 1.3410 - val_accuracy: 0.2656\n",
            "Epoch 25/50\n",
            "143/143 [==============================] - 13s 93ms/step - loss: 1.3500 - accuracy: 0.2964 - val_loss: 1.3409 - val_accuracy: 0.2656\n",
            "Epoch 26/50\n",
            "143/143 [==============================] - 13s 93ms/step - loss: 1.3497 - accuracy: 0.2902 - val_loss: 1.3406 - val_accuracy: 0.2656\n",
            "Epoch 27/50\n",
            "143/143 [==============================] - 13s 92ms/step - loss: 1.3506 - accuracy: 0.2894 - val_loss: 1.3414 - val_accuracy: 0.2656\n",
            "Epoch 28/50\n",
            "143/143 [==============================] - 13s 91ms/step - loss: 1.3500 - accuracy: 0.2964 - val_loss: 1.3406 - val_accuracy: 0.2656\n",
            "Epoch 29/50\n",
            "143/143 [==============================] - 13s 92ms/step - loss: 1.3501 - accuracy: 0.2955 - val_loss: 1.3405 - val_accuracy: 0.2656\n",
            "Epoch 30/50\n",
            "143/143 [==============================] - 13s 93ms/step - loss: 1.3509 - accuracy: 0.2719 - val_loss: 1.3412 - val_accuracy: 0.2656\n",
            "Epoch 31/50\n",
            "143/143 [==============================] - 13s 93ms/step - loss: 1.3502 - accuracy: 0.2960 - val_loss: 1.3408 - val_accuracy: 0.2656\n",
            "Epoch 32/50\n",
            "143/143 [==============================] - 13s 93ms/step - loss: 1.3498 - accuracy: 0.2894 - val_loss: 1.3408 - val_accuracy: 0.2656\n",
            "Epoch 33/50\n",
            "143/143 [==============================] - 13s 93ms/step - loss: 1.3506 - accuracy: 0.2968 - val_loss: 1.3403 - val_accuracy: 0.2656\n",
            "Epoch 34/50\n",
            "143/143 [==============================] - 13s 94ms/step - loss: 1.3504 - accuracy: 0.2955 - val_loss: 1.3406 - val_accuracy: 0.2656\n",
            "Epoch 35/50\n",
            "143/143 [==============================] - 13s 94ms/step - loss: 1.3503 - accuracy: 0.2955 - val_loss: 1.3400 - val_accuracy: 0.2656\n",
            "Epoch 36/50\n",
            "143/143 [==============================] - 13s 93ms/step - loss: 1.3499 - accuracy: 0.2815 - val_loss: 1.3409 - val_accuracy: 0.2656\n",
            "Epoch 37/50\n",
            "143/143 [==============================] - 13s 93ms/step - loss: 1.3513 - accuracy: 0.2955 - val_loss: 1.3408 - val_accuracy: 0.2656\n",
            "Epoch 38/50\n",
            "143/143 [==============================] - 13s 94ms/step - loss: 1.3506 - accuracy: 0.2955 - val_loss: 1.3412 - val_accuracy: 0.2656\n",
            "Epoch 39/50\n",
            "143/143 [==============================] - 13s 93ms/step - loss: 1.3505 - accuracy: 0.2955 - val_loss: 1.3407 - val_accuracy: 0.2656\n",
            "Epoch 40/50\n",
            "143/143 [==============================] - 13s 94ms/step - loss: 1.3507 - accuracy: 0.2955 - val_loss: 1.3407 - val_accuracy: 0.2656\n",
            "Epoch 41/50\n",
            "143/143 [==============================] - 13s 93ms/step - loss: 1.3509 - accuracy: 0.2894 - val_loss: 1.3412 - val_accuracy: 0.2656\n",
            "Epoch 42/50\n",
            "143/143 [==============================] - 13s 94ms/step - loss: 1.3512 - accuracy: 0.2947 - val_loss: 1.3408 - val_accuracy: 0.2656\n",
            "Epoch 43/50\n",
            "143/143 [==============================] - 13s 93ms/step - loss: 1.3506 - accuracy: 0.2960 - val_loss: 1.3405 - val_accuracy: 0.2656\n",
            "Epoch 44/50\n",
            "143/143 [==============================] - 13s 93ms/step - loss: 1.3504 - accuracy: 0.2960 - val_loss: 1.3410 - val_accuracy: 0.2656\n",
            "Epoch 45/50\n",
            "143/143 [==============================] - 13s 93ms/step - loss: 1.3497 - accuracy: 0.2960 - val_loss: 1.3408 - val_accuracy: 0.2656\n",
            "Epoch 46/50\n",
            "143/143 [==============================] - 13s 93ms/step - loss: 1.3502 - accuracy: 0.2955 - val_loss: 1.3404 - val_accuracy: 0.2656\n",
            "Epoch 47/50\n",
            "143/143 [==============================] - 13s 94ms/step - loss: 1.3511 - accuracy: 0.2855 - val_loss: 1.3402 - val_accuracy: 0.2656\n",
            "Epoch 48/50\n",
            "143/143 [==============================] - 13s 93ms/step - loss: 1.3501 - accuracy: 0.2938 - val_loss: 1.3400 - val_accuracy: 0.2656\n",
            "Epoch 49/50\n",
            "143/143 [==============================] - 13s 93ms/step - loss: 1.3511 - accuracy: 0.2960 - val_loss: 1.3400 - val_accuracy: 0.2656\n"
          ]
        }
      ],
      "source": [
        "resnet_model.compile(optimizer=optimizer,loss='categorical_crossentropy',metrics=['accuracy'])\n",
        "\n",
        "resNet_history = resnet_model.fit_generator(generator=Training_DataGenerator,\n",
        "                    steps_per_epoch=training_steps_per_epoch,\n",
        "                    epochs=epochs,\n",
        "                    validation_data=Validation_DataGenerator,\n",
        "                    validation_steps=validation_steps_per_epoch)\n",
        "\n",
        "\n",
        "resnet_model.save('/content/drive/MyDrive/brain_tumor_dataset/ResNet50_multi_class_tumor_classification.hdf5')"
      ]
    },
    {
      "cell_type": "code",
      "execution_count": null,
      "metadata": {
        "id": "YG7u__CbMIsw",
        "colab": {
          "base_uri": "https://localhost:8080/",
          "height": 573
        },
        "outputId": "40d42614-d10c-4682-9120-11b91065de98"
      },
      "outputs": [
        {
          "output_type": "display_data",
          "data": {
            "text/plain": [
              "<Figure size 432x288 with 1 Axes>"
            ],
            "image/png": "[encoded data removed]"
          },
          "metadata": {
            "needs_background": "light"
          }
        },
        {
          "output_type": "display_data",
          "data": {
            "text/plain": [
              "<Figure size 432x288 with 1 Axes>"
            ],
            "image/png": "[encoded data removed]"
          },
          "metadata": {
            "needs_background": "light"
          }
        }
      ],
      "source": [
        "del X_train , X_test, y_train, y_test\n",
        "##################################################################\n",
        "\n",
        "\n",
        "#plot the training and validation IoU and loss at each epoch\n",
        "loss = resNet_history.history['loss']\n",
        "val_loss = resNet_history.history['val_loss']\n",
        "epochs = range(1, len(loss) + 1)\n",
        "plt.plot(epochs, loss, 'y', label='Training loss')\n",
        "plt.plot(epochs, val_loss, 'r', label='Validation loss')\n",
        "plt.title('Training and validation loss')\n",
        "plt.xlabel('Epochs')\n",
        "plt.ylabel('Loss')\n",
        "plt.legend()\n",
        "plt.show()\n",
        "\n",
        "acc = resNet_history.history['accuracy']\n",
        "val_acc = resNet_history.history['val_accuracy']\n",
        "\n",
        "plt.plot(epochs, acc, 'y', label='Training accuracy')\n",
        "plt.plot(epochs, val_acc, 'r', label='Validation accuracy')\n",
        "plt.title('Training and validation accuracy')\n",
        "plt.xlabel('Epochs')\n",
        "plt.ylabel('Accuracy')\n",
        "plt.legend()\n",
        "plt.show()"
      ]
    },
    {
      "cell_type": "code",
      "execution_count": null,
      "metadata": {
        "id": "UAM_b-QXNDIw"
      },
      "outputs": [],
      "source": [
        "\"\"\"for i in range(6):\n",
        "\t# define subplot\n",
        "\tplt.subplot(330 + 1 + i)\n",
        "\t\n",
        "\t# plot raw pixel data\n",
        "\tplt.plot(epochs, acc, 'y', label='title')\n",
        "  plt.set_title(\" \" + str(i))\n",
        "# show the figure\n",
        "plt.show()\"\"\""
      ]
    },
    {
      "cell_type": "markdown",
      "metadata": {
        "id": "2AsLpnbRO5by"
      },
      "source": [
        "# ***InceptionV3 Model Evaluation on Multi Class Brain tumor dataset***"
      ]
    },
    {
      "cell_type": "code",
      "execution_count": null,
      "metadata": {
        "id": "zUZXcyy9O073",
        "colab": {
          "base_uri": "https://localhost:8080/"
        },
        "outputId": "e9be94ca-5abd-4dd5-f7b5-9a408e898f76"
      },
      "outputs": [
        {
          "output_type": "stream",
          "name": "stdout",
          "text": [
            "Model: \"sequential_1\"\n",
            "_________________________________________________________________\n",
            " Layer (type)                Output Shape              Param #   \n",
            "=================================================================\n",
            " inception_v3 (Functional)   (None, 2048)              21802784  \n",
            "                                                                 \n",
            " flatten_1 (Flatten)         (None, 2048)              0         \n",
            "                                                                 \n",
            " dense_3 (Dense)             (None, 512)               1049088   \n",
            "                                                                 \n",
            " dense_4 (Dense)             (None, 128)               65664     \n",
            "                                                                 \n",
            " dense_5 (Dense)             (None, 4)                 516       \n",
            "                                                                 \n",
            "=================================================================\n",
            "Total params: 22,918,052\n",
            "Trainable params: 1,115,268\n",
            "Non-trainable params: 21,802,784\n",
            "_________________________________________________________________\n",
            "None\n"
          ]
        }
      ],
      "source": [
        "pretrained_model = tf.keras.applications.InceptionV3(\n",
        "    include_top=False,\n",
        "    weights=\"imagenet\",\n",
        "    input_shape=(512,512,3),\n",
        "    pooling='avg',\n",
        "    classes=2,\n",
        ")\n",
        "\n",
        "\n",
        "\n",
        "for layer in pretrained_model.layers:\n",
        "        layer.trainable=False\n",
        "\n",
        "InceptionV3_model = Sequential()\n",
        "\n",
        "InceptionV3_model.add(pretrained_model)\n",
        "InceptionV3_model.add(Flatten())\n",
        "InceptionV3_model.add(Dense(512, activation='relu', kernel_initializer='he_uniform'))\n",
        "InceptionV3_model.add(Dense(128, activation='relu', kernel_initializer='he_uniform'))\n",
        "InceptionV3_model.add(Dense(4, activation='softmax'))\n",
        "\n",
        "print(InceptionV3_model.summary())"
      ]
    },
    {
      "cell_type": "code",
      "execution_count": null,
      "metadata": {
        "id": "625dPRBJPNsE",
        "colab": {
          "base_uri": "https://localhost:8080/"
        },
        "outputId": "532769b8-de1f-40cc-d7e7-cf81bb8c53f0"
      },
      "outputs": [
        {
          "output_type": "stream",
          "name": "stderr",
          "text": [
            "/usr/local/lib/python3.7/dist-packages/ipykernel_launcher.py:7: UserWarning: `Model.fit_generator` is deprecated and will be removed in a future version. Please use `Model.fit`, which supports generators.\n",
            "  import sys\n"
          ]
        },
        {
          "output_type": "stream",
          "name": "stdout",
          "text": [
            "Epoch 1/50\n",
            "143/143 [==============================] - 28s 84ms/step - loss: 1.1965 - accuracy: 0.4514 - val_loss: 1.0725 - val_accuracy: 0.5295\n",
            "Epoch 2/50\n",
            "143/143 [==============================] - 10s 69ms/step - loss: 0.9725 - accuracy: 0.5665 - val_loss: 0.9691 - val_accuracy: 0.5278\n",
            "Epoch 3/50\n",
            "143/143 [==============================] - 10s 69ms/step - loss: 0.8865 - accuracy: 0.6086 - val_loss: 0.9062 - val_accuracy: 0.5799\n",
            "Epoch 4/50\n",
            "143/143 [==============================] - 11s 74ms/step - loss: 0.8557 - accuracy: 0.6239 - val_loss: 0.9312 - val_accuracy: 0.5625\n",
            "Epoch 5/50\n",
            "143/143 [==============================] - 10s 70ms/step - loss: 0.8045 - accuracy: 0.6384 - val_loss: 0.9750 - val_accuracy: 0.5573\n",
            "Epoch 6/50\n",
            "143/143 [==============================] - 10s 70ms/step - loss: 0.7565 - accuracy: 0.6813 - val_loss: 0.7790 - val_accuracy: 0.6580\n",
            "Epoch 7/50\n",
            "143/143 [==============================] - 10s 69ms/step - loss: 0.7311 - accuracy: 0.6878 - val_loss: 0.7913 - val_accuracy: 0.6406\n",
            "Epoch 8/50\n",
            "143/143 [==============================] - 10s 69ms/step - loss: 0.7145 - accuracy: 0.6865 - val_loss: 0.7682 - val_accuracy: 0.6510\n",
            "Epoch 9/50\n",
            "143/143 [==============================] - 10s 70ms/step - loss: 0.7568 - accuracy: 0.6747 - val_loss: 0.7483 - val_accuracy: 0.6667\n",
            "Epoch 10/50\n",
            "143/143 [==============================] - 10s 70ms/step - loss: 0.6959 - accuracy: 0.6966 - val_loss: 0.7102 - val_accuracy: 0.6927\n",
            "Epoch 11/50\n",
            "143/143 [==============================] - 10s 70ms/step - loss: 0.6473 - accuracy: 0.7307 - val_loss: 0.8253 - val_accuracy: 0.6215\n",
            "Epoch 12/50\n",
            "143/143 [==============================] - 10s 71ms/step - loss: 0.6852 - accuracy: 0.6926 - val_loss: 0.7094 - val_accuracy: 0.6910\n",
            "Epoch 13/50\n",
            "143/143 [==============================] - 10s 70ms/step - loss: 0.6059 - accuracy: 0.7434 - val_loss: 0.6590 - val_accuracy: 0.7292\n",
            "Epoch 14/50\n",
            "143/143 [==============================] - 10s 71ms/step - loss: 0.6209 - accuracy: 0.7334 - val_loss: 0.6598 - val_accuracy: 0.7083\n",
            "Epoch 15/50\n",
            "143/143 [==============================] - 10s 70ms/step - loss: 0.6127 - accuracy: 0.7281 - val_loss: 0.6554 - val_accuracy: 0.7170\n",
            "Epoch 16/50\n",
            "143/143 [==============================] - 10s 71ms/step - loss: 0.6067 - accuracy: 0.7399 - val_loss: 0.8399 - val_accuracy: 0.5972\n",
            "Epoch 17/50\n",
            "143/143 [==============================] - 10s 71ms/step - loss: 0.5830 - accuracy: 0.7496 - val_loss: 0.6483 - val_accuracy: 0.7153\n",
            "Epoch 18/50\n",
            "143/143 [==============================] - 10s 71ms/step - loss: 0.5522 - accuracy: 0.7592 - val_loss: 0.6099 - val_accuracy: 0.7396\n",
            "Epoch 19/50\n",
            "143/143 [==============================] - 10s 71ms/step - loss: 0.5651 - accuracy: 0.7614 - val_loss: 0.6549 - val_accuracy: 0.7153\n",
            "Epoch 20/50\n",
            "143/143 [==============================] - 10s 71ms/step - loss: 0.5600 - accuracy: 0.7518 - val_loss: 0.6299 - val_accuracy: 0.7257\n",
            "Epoch 21/50\n",
            "143/143 [==============================] - 10s 72ms/step - loss: 0.5587 - accuracy: 0.7583 - val_loss: 0.7237 - val_accuracy: 0.6771\n",
            "Epoch 22/50\n",
            "143/143 [==============================] - 10s 71ms/step - loss: 0.5564 - accuracy: 0.7636 - val_loss: 0.7363 - val_accuracy: 0.6979\n",
            "Epoch 23/50\n",
            "143/143 [==============================] - 10s 71ms/step - loss: 0.5465 - accuracy: 0.7701 - val_loss: 0.8001 - val_accuracy: 0.6580\n",
            "Epoch 24/50\n",
            "143/143 [==============================] - 10s 71ms/step - loss: 0.5370 - accuracy: 0.7701 - val_loss: 0.5586 - val_accuracy: 0.7639\n",
            "Epoch 25/50\n",
            "143/143 [==============================] - 10s 71ms/step - loss: 0.5104 - accuracy: 0.7802 - val_loss: 0.6271 - val_accuracy: 0.7378\n",
            "Epoch 26/50\n",
            "143/143 [==============================] - 10s 71ms/step - loss: 0.5373 - accuracy: 0.7693 - val_loss: 0.7216 - val_accuracy: 0.6823\n",
            "Epoch 27/50\n",
            "143/143 [==============================] - 10s 71ms/step - loss: 0.4996 - accuracy: 0.7859 - val_loss: 0.7654 - val_accuracy: 0.6719\n",
            "Epoch 28/50\n",
            "143/143 [==============================] - 10s 71ms/step - loss: 0.5228 - accuracy: 0.7789 - val_loss: 0.5874 - val_accuracy: 0.7569\n",
            "Epoch 29/50\n",
            "143/143 [==============================] - 10s 71ms/step - loss: 0.5056 - accuracy: 0.7837 - val_loss: 0.5543 - val_accuracy: 0.7604\n",
            "Epoch 30/50\n",
            "143/143 [==============================] - 10s 71ms/step - loss: 0.4695 - accuracy: 0.7955 - val_loss: 0.5656 - val_accuracy: 0.7674\n",
            "Epoch 31/50\n",
            "143/143 [==============================] - 10s 71ms/step - loss: 0.4858 - accuracy: 0.7907 - val_loss: 0.7100 - val_accuracy: 0.6979\n",
            "Epoch 32/50\n",
            "143/143 [==============================] - 10s 71ms/step - loss: 0.4657 - accuracy: 0.7973 - val_loss: 0.5765 - val_accuracy: 0.7795\n",
            "Epoch 33/50\n",
            "143/143 [==============================] - 10s 72ms/step - loss: 0.4760 - accuracy: 0.8004 - val_loss: 0.5732 - val_accuracy: 0.7830\n",
            "Epoch 34/50\n",
            "143/143 [==============================] - 10s 72ms/step - loss: 0.4912 - accuracy: 0.7850 - val_loss: 0.5824 - val_accuracy: 0.7500\n",
            "Epoch 35/50\n",
            "143/143 [==============================] - 10s 72ms/step - loss: 0.4428 - accuracy: 0.8148 - val_loss: 0.5161 - val_accuracy: 0.7986\n",
            "Epoch 36/50\n",
            "143/143 [==============================] - 11s 75ms/step - loss: 0.4457 - accuracy: 0.8078 - val_loss: 0.5598 - val_accuracy: 0.7847\n",
            "Epoch 37/50\n",
            "143/143 [==============================] - 10s 72ms/step - loss: 0.4980 - accuracy: 0.7898 - val_loss: 0.5281 - val_accuracy: 0.7760\n",
            "Epoch 38/50\n",
            "143/143 [==============================] - 10s 72ms/step - loss: 0.4259 - accuracy: 0.8231 - val_loss: 0.6268 - val_accuracy: 0.7274\n",
            "Epoch 39/50\n",
            "143/143 [==============================] - 10s 72ms/step - loss: 0.4577 - accuracy: 0.7999 - val_loss: 0.5165 - val_accuracy: 0.7899\n",
            "Epoch 40/50\n",
            "143/143 [==============================] - 10s 72ms/step - loss: 0.4410 - accuracy: 0.7951 - val_loss: 0.6813 - val_accuracy: 0.6892\n",
            "Epoch 41/50\n",
            "143/143 [==============================] - 10s 71ms/step - loss: 0.4757 - accuracy: 0.8065 - val_loss: 0.7703 - val_accuracy: 0.6788\n",
            "Epoch 42/50\n",
            "143/143 [==============================] - 10s 71ms/step - loss: 0.4400 - accuracy: 0.8222 - val_loss: 0.5279 - val_accuracy: 0.7743\n",
            "Epoch 43/50\n",
            "143/143 [==============================] - 10s 72ms/step - loss: 0.4034 - accuracy: 0.8358 - val_loss: 0.5898 - val_accuracy: 0.7552\n",
            "Epoch 44/50\n",
            "143/143 [==============================] - 11s 76ms/step - loss: 0.4390 - accuracy: 0.8109 - val_loss: 0.4881 - val_accuracy: 0.8177\n",
            "Epoch 45/50\n",
            "143/143 [==============================] - 10s 72ms/step - loss: 0.4123 - accuracy: 0.8217 - val_loss: 0.4803 - val_accuracy: 0.7986\n",
            "Epoch 46/50\n",
            "143/143 [==============================] - 10s 73ms/step - loss: 0.4257 - accuracy: 0.8214 - val_loss: 0.5499 - val_accuracy: 0.7778\n",
            "Epoch 47/50\n",
            "143/143 [==============================] - 10s 72ms/step - loss: 0.4067 - accuracy: 0.8310 - val_loss: 0.4912 - val_accuracy: 0.7969\n",
            "Epoch 48/50\n",
            "143/143 [==============================] - 10s 71ms/step - loss: 0.4195 - accuracy: 0.8332 - val_loss: 0.5360 - val_accuracy: 0.7934\n",
            "Epoch 49/50\n",
            "143/143 [==============================] - 10s 72ms/step - loss: 0.3995 - accuracy: 0.8345 - val_loss: 0.7642 - val_accuracy: 0.6788\n",
            "Epoch 50/50\n",
            "143/143 [==============================] - 10s 73ms/step - loss: 0.3945 - accuracy: 0.8367 - val_loss: 0.6168 - val_accuracy: 0.7622\n"
          ]
        }
      ],
      "source": [
        "InceptionV3_model.compile(optimizer=optimizer,loss='categorical_crossentropy',metrics=['accuracy'])\n",
        "\n",
        "InceptionV3_history = InceptionV3_model.fit_generator(generator=Training_DataGenerator,\n",
        "                    steps_per_epoch=training_steps_per_epoch,\n",
        "                    epochs=epochs,\n",
        "                    validation_data=Validation_DataGenerator,\n",
        "                    validation_steps=validation_steps_per_epoch)\n",
        "\n",
        "InceptionV3_model.save('/content/drive/MyDrive/brain tumor dataset/InceptionV3_multi_class_tumor_classification.hdf5')"
      ]
    },
    {
      "cell_type": "code",
      "execution_count": null,
      "metadata": {
        "id": "TBwwH-BlPxrw",
        "colab": {
          "base_uri": "https://localhost:8080/",
          "height": 573
        },
        "outputId": "9cddfd61-b7e0-4fc3-8ef7-716c6a8e2173"
      },
      "outputs": [
        {
          "output_type": "display_data",
          "data": {
            "text/plain": [
              "<Figure size 432x288 with 1 Axes>"
            ],
            "image/png": "[encoded data removed]"
          },
          "metadata": {
            "needs_background": "light"
          }
        },
        {
          "output_type": "display_data",
          "data": {
            "text/plain": [
              "<Figure size 432x288 with 1 Axes>"
            ],
            "image/png": "[encoded data removed]"
          },
          "metadata": {
            "needs_background": "light"
          }
        }
      ],
      "source": [
        "del X_train , X_test, y_train, y_test\n",
        "\n",
        "##################################################################\n",
        "\n",
        "\n",
        "#plot the training and validation IoU and loss at each epoch\n",
        "loss = InceptionV3_history.history['loss']\n",
        "val_loss = InceptionV3_history.history['val_loss']\n",
        "epochs = range(1, len(loss) + 1)\n",
        "plt.plot(epochs, loss, 'y', label='Training loss')\n",
        "plt.plot(epochs, val_loss, 'r', label='Validation loss')\n",
        "plt.title('Training and validation loss')\n",
        "plt.xlabel('Epochs')\n",
        "plt.ylabel('Loss')\n",
        "plt.legend()\n",
        "plt.show()\n",
        "\n",
        "acc = InceptionV3_history.history['accuracy']\n",
        "val_acc = InceptionV3_history.history['val_accuracy']\n",
        "\n",
        "plt.plot(epochs, acc, 'y', label='Training accuracy')\n",
        "plt.plot(epochs, val_acc, 'r', label='Validation accuracy')\n",
        "plt.title('Training and validation accuracy')\n",
        "plt.xlabel('Epochs')\n",
        "plt.ylabel('Accuracy')\n",
        "plt.legend()\n",
        "plt.show()"
      ]
    },
    {
      "cell_type": "markdown",
      "metadata": {
        "id": "2FpXUA7RRNFk"
      },
      "source": [
        "# ***VGG16 Model Evaluation on Multi Class Brain tumor dataset***"
      ]
    },
    {
      "cell_type": "code",
      "execution_count": null,
      "metadata": {
        "id": "SyUM9hCQRTX2",
        "colab": {
          "base_uri": "https://localhost:8080/"
        },
        "outputId": "37d31155-44fa-4ad1-fe61-46cd1d112e25"
      },
      "outputs": [
        {
          "output_type": "stream",
          "name": "stdout",
          "text": [
            "Downloading data from https://storage.googleapis.com/tensorflow/keras-applications/vgg16/vgg16_weights_tf_dim_ordering_tf_kernels_notop.h5\n",
            "58892288/58889256 [==============================] - 1s 0us/step\n",
            "58900480/58889256 [==============================] - 1s 0us/step\n",
            "Model: \"sequential\"\n",
            "_________________________________________________________________\n",
            " Layer (type)                Output Shape              Param #   \n",
            "=================================================================\n",
            " vgg16 (Functional)          (None, 512)               14714688  \n",
            "                                                                 \n",
            " flatten (Flatten)           (None, 512)               0         \n",
            "                                                                 \n",
            " dense (Dense)               (None, 512)               262656    \n",
            "                                                                 \n",
            " dense_1 (Dense)             (None, 128)               65664     \n",
            "                                                                 \n",
            " dense_2 (Dense)             (None, 4)                 516       \n",
            "                                                                 \n",
            "=================================================================\n",
            "Total params: 15,043,524\n",
            "Trainable params: 328,836\n",
            "Non-trainable params: 14,714,688\n",
            "_________________________________________________________________\n",
            "None\n"
          ]
        }
      ],
      "source": [
        "base_model = tf.keras.applications.VGG16(\n",
        "    include_top=False,\n",
        "    weights=\"imagenet\",\n",
        "    input_shape=(512,512,3),\n",
        "    pooling=\"avg\",\n",
        "    classes=2,\n",
        ")\n",
        "\n",
        "for layer in base_model.layers:\n",
        "        layer.trainable=False\n",
        "\n",
        "VGG16_model = Sequential()\n",
        "\n",
        "VGG16_model.add(base_model)\n",
        "VGG16_model.add(Flatten())\n",
        "VGG16_model.add(Dense(512, activation='relu', kernel_initializer='he_uniform'))\n",
        "VGG16_model.add(Dense(128, activation='relu', kernel_initializer='he_uniform'))\n",
        "VGG16_model.add(Dense(4, activation='softmax'))\n",
        "\n",
        "print(VGG16_model.summary())"
      ]
    },
    {
      "cell_type": "code",
      "execution_count": null,
      "metadata": {
        "id": "FuYVoXlLReX2",
        "colab": {
          "base_uri": "https://localhost:8080/"
        },
        "outputId": "e7a8c72a-d744-4c77-c043-7e3a5ec32b92"
      },
      "outputs": [
        {
          "metadata": {
            "tags": null
          },
          "name": "stderr",
          "output_type": "stream",
          "text": [
            "/usr/local/lib/python3.7/dist-packages/ipykernel_launcher.py:7: UserWarning: `Model.fit_generator` is deprecated and will be removed in a future version. Please use `Model.fit`, which supports generators.\n",
            "  import sys\n"
          ]
        },
        {
          "output_type": "stream",
          "name": "stdout",
          "text": [
            "Epoch 1/50\n",
            "143/143 [==============================] - 33s 140ms/step - loss: 1.4000 - accuracy: 0.2758 - val_loss: 1.3548 - val_accuracy: 0.2656\n",
            "Epoch 2/50\n",
            "143/143 [==============================] - 19s 130ms/step - loss: 1.3722 - accuracy: 0.2929 - val_loss: 1.3408 - val_accuracy: 0.3073\n",
            "Epoch 3/50\n",
            "143/143 [==============================] - 19s 131ms/step - loss: 1.3676 - accuracy: 0.2732 - val_loss: 1.3668 - val_accuracy: 0.2656\n",
            "Epoch 4/50\n",
            "143/143 [==============================] - 19s 129ms/step - loss: 1.3561 - accuracy: 0.2806 - val_loss: 1.3390 - val_accuracy: 0.3021\n",
            "Epoch 5/50\n",
            "143/143 [==============================] - 19s 130ms/step - loss: 1.3561 - accuracy: 0.2780 - val_loss: 1.3396 - val_accuracy: 0.2656\n",
            "Epoch 6/50\n",
            "143/143 [==============================] - 19s 132ms/step - loss: 1.3562 - accuracy: 0.2785 - val_loss: 1.3488 - val_accuracy: 0.2656\n",
            "Epoch 7/50\n",
            "143/143 [==============================] - 19s 131ms/step - loss: 1.3546 - accuracy: 0.2855 - val_loss: 1.3448 - val_accuracy: 0.3073\n",
            "Epoch 8/50\n",
            "143/143 [==============================] - 19s 131ms/step - loss: 1.3527 - accuracy: 0.2933 - val_loss: 1.3389 - val_accuracy: 0.2656\n",
            "Epoch 9/50\n",
            "143/143 [==============================] - 19s 130ms/step - loss: 1.3536 - accuracy: 0.2745 - val_loss: 1.3443 - val_accuracy: 0.2656\n",
            "Epoch 10/50\n",
            "143/143 [==============================] - 19s 130ms/step - loss: 1.3520 - accuracy: 0.2789 - val_loss: 1.3411 - val_accuracy: 0.2656\n",
            "Epoch 11/50\n",
            "143/143 [==============================] - 19s 130ms/step - loss: 1.3544 - accuracy: 0.2890 - val_loss: 1.3416 - val_accuracy: 0.3021\n",
            "Epoch 12/50\n",
            "143/143 [==============================] - 19s 130ms/step - loss: 1.3526 - accuracy: 0.2855 - val_loss: 1.3431 - val_accuracy: 0.3021\n",
            "Epoch 13/50\n",
            "143/143 [==============================] - 19s 130ms/step - loss: 1.3530 - accuracy: 0.2872 - val_loss: 1.3410 - val_accuracy: 0.3021\n",
            "Epoch 14/50\n",
            "143/143 [==============================] - 19s 131ms/step - loss: 1.3513 - accuracy: 0.2837 - val_loss: 1.3441 - val_accuracy: 0.2656\n",
            "Epoch 15/50\n",
            "143/143 [==============================] - 19s 130ms/step - loss: 1.3528 - accuracy: 0.2872 - val_loss: 1.3417 - val_accuracy: 0.2656\n",
            "Epoch 16/50\n",
            "143/143 [==============================] - 19s 131ms/step - loss: 1.3518 - accuracy: 0.2929 - val_loss: 1.3425 - val_accuracy: 0.3073\n",
            "Epoch 17/50\n",
            "143/143 [==============================] - 19s 130ms/step - loss: 1.3525 - accuracy: 0.2859 - val_loss: 1.3418 - val_accuracy: 0.2656\n",
            "Epoch 18/50\n",
            "143/143 [==============================] - 19s 130ms/step - loss: 1.3530 - accuracy: 0.2894 - val_loss: 1.3448 - val_accuracy: 0.2656\n",
            "Epoch 19/50\n",
            "143/143 [==============================] - 19s 130ms/step - loss: 1.3523 - accuracy: 0.2951 - val_loss: 1.3406 - val_accuracy: 0.2656\n",
            "Epoch 20/50\n",
            "143/143 [==============================] - 19s 130ms/step - loss: 1.3512 - accuracy: 0.2872 - val_loss: 1.3401 - val_accuracy: 0.3021\n",
            "Epoch 21/50\n",
            "143/143 [==============================] - 19s 131ms/step - loss: 1.3520 - accuracy: 0.2859 - val_loss: 1.3397 - val_accuracy: 0.2656\n",
            "Epoch 22/50\n",
            "143/143 [==============================] - 19s 130ms/step - loss: 1.3506 - accuracy: 0.2938 - val_loss: 1.3481 - val_accuracy: 0.2656\n",
            "Epoch 23/50\n",
            "143/143 [==============================] - 19s 130ms/step - loss: 1.3520 - accuracy: 0.2868 - val_loss: 1.3398 - val_accuracy: 0.2656\n",
            "Epoch 24/50\n",
            "143/143 [==============================] - 19s 130ms/step - loss: 1.3523 - accuracy: 0.2811 - val_loss: 1.3402 - val_accuracy: 0.2656\n",
            "Epoch 25/50\n",
            "143/143 [==============================] - 19s 130ms/step - loss: 1.3519 - accuracy: 0.2960 - val_loss: 1.3403 - val_accuracy: 0.2656\n",
            "Epoch 26/50\n",
            "143/143 [==============================] - 19s 131ms/step - loss: 1.3527 - accuracy: 0.2785 - val_loss: 1.3502 - val_accuracy: 0.2656\n",
            "Epoch 27/50\n",
            "143/143 [==============================] - 19s 130ms/step - loss: 1.3515 - accuracy: 0.2912 - val_loss: 1.3414 - val_accuracy: 0.3021\n",
            "Epoch 28/50\n",
            "143/143 [==============================] - 19s 130ms/step - loss: 1.3523 - accuracy: 0.2767 - val_loss: 1.3400 - val_accuracy: 0.2656\n",
            "Epoch 29/50\n",
            "143/143 [==============================] - 19s 131ms/step - loss: 1.3518 - accuracy: 0.2916 - val_loss: 1.3386 - val_accuracy: 0.3021\n",
            "Epoch 30/50\n",
            "143/143 [==============================] - 19s 130ms/step - loss: 1.3513 - accuracy: 0.2855 - val_loss: 1.3437 - val_accuracy: 0.2656\n",
            "Epoch 31/50\n",
            "143/143 [==============================] - 19s 131ms/step - loss: 1.3517 - accuracy: 0.2850 - val_loss: 1.3409 - val_accuracy: 0.2656\n",
            "Epoch 32/50\n",
            "143/143 [==============================] - 19s 130ms/step - loss: 1.3513 - accuracy: 0.2907 - val_loss: 1.3388 - val_accuracy: 0.3021\n",
            "Epoch 33/50\n",
            "143/143 [==============================] - 19s 131ms/step - loss: 1.3509 - accuracy: 0.2912 - val_loss: 1.3410 - val_accuracy: 0.2656\n",
            "Epoch 34/50\n",
            "143/143 [==============================] - 19s 131ms/step - loss: 1.3515 - accuracy: 0.2942 - val_loss: 1.3418 - val_accuracy: 0.2656\n",
            "Epoch 35/50\n",
            "143/143 [==============================] - 19s 130ms/step - loss: 1.3512 - accuracy: 0.2951 - val_loss: 1.3395 - val_accuracy: 0.3021\n",
            "Epoch 36/50\n",
            "143/143 [==============================] - 19s 130ms/step - loss: 1.3524 - accuracy: 0.2881 - val_loss: 1.3406 - val_accuracy: 0.2656\n",
            "Epoch 37/50\n",
            "143/143 [==============================] - 19s 130ms/step - loss: 1.3519 - accuracy: 0.2741 - val_loss: 1.3411 - val_accuracy: 0.2656\n",
            "Epoch 38/50\n",
            "143/143 [==============================] - 19s 131ms/step - loss: 1.3513 - accuracy: 0.2955 - val_loss: 1.3417 - val_accuracy: 0.2656\n",
            "Epoch 39/50\n",
            "143/143 [==============================] - 19s 130ms/step - loss: 1.3518 - accuracy: 0.2890 - val_loss: 1.3413 - val_accuracy: 0.2656\n",
            "Epoch 40/50\n",
            "143/143 [==============================] - 19s 130ms/step - loss: 1.3511 - accuracy: 0.2964 - val_loss: 1.3403 - val_accuracy: 0.2656\n",
            "Epoch 41/50\n",
            "143/143 [==============================] - 19s 131ms/step - loss: 1.3512 - accuracy: 0.2942 - val_loss: 1.3421 - val_accuracy: 0.2656\n",
            "Epoch 42/50\n",
            "143/143 [==============================] - 19s 130ms/step - loss: 1.3514 - accuracy: 0.2947 - val_loss: 1.3411 - val_accuracy: 0.2656\n",
            "Epoch 43/50\n",
            "143/143 [==============================] - 19s 130ms/step - loss: 1.3513 - accuracy: 0.2942 - val_loss: 1.3426 - val_accuracy: 0.2656\n",
            "Epoch 44/50\n",
            "143/143 [==============================] - 19s 131ms/step - loss: 1.3503 - accuracy: 0.2767 - val_loss: 1.3392 - val_accuracy: 0.3073\n",
            "Epoch 45/50\n",
            "143/143 [==============================] - 19s 131ms/step - loss: 1.3515 - accuracy: 0.2933 - val_loss: 1.3411 - val_accuracy: 0.2656\n",
            "Epoch 46/50\n",
            "143/143 [==============================] - 19s 131ms/step - loss: 1.3512 - accuracy: 0.2850 - val_loss: 1.3423 - val_accuracy: 0.2656\n",
            "Epoch 47/50\n",
            "143/143 [==============================] - 19s 130ms/step - loss: 1.3506 - accuracy: 0.2968 - val_loss: 1.3408 - val_accuracy: 0.2656\n",
            "Epoch 48/50\n",
            "143/143 [==============================] - 19s 130ms/step - loss: 1.3512 - accuracy: 0.2968 - val_loss: 1.3404 - val_accuracy: 0.2656\n",
            "Epoch 49/50\n",
            "143/143 [==============================] - 19s 131ms/step - loss: 1.3486 - accuracy: 0.2968 - val_loss: 1.3432 - val_accuracy: 0.2656\n",
            "Epoch 50/50\n",
            "143/143 [==============================] - 19s 131ms/step - loss: 1.3503 - accuracy: 0.2973 - val_loss: 1.3413 - val_accuracy: 0.2656\n"
          ]
        }
      ],
      "source": [
        "VGG16_model.compile(optimizer=optimizer,loss='categorical_crossentropy',metrics=['accuracy'])\n",
        "\n",
        "VGG16_history = VGG16_model.fit_generator(generator=Training_DataGenerator,\n",
        "                    steps_per_epoch=training_steps_per_epoch,\n",
        "                    epochs=epochs,\n",
        "                    validation_data=Validation_DataGenerator,\n",
        "                    validation_steps=validation_steps_per_epoch)\n",
        "\n",
        "\n",
        "VGG16_model.save('/content/drive/MyDrive/brain tumor dataset/VGG16_multi_class_tumor_classification.hdf5')"
      ]
    },
    {
      "cell_type": "code",
      "execution_count": null,
      "metadata": {
        "id": "784TIkCwSDRG",
        "colab": {
          "base_uri": "https://localhost:8080/",
          "height": 573
        },
        "outputId": "5766a97b-3c2e-4763-ada1-9d3736321c96"
      },
      "outputs": [
        {
          "output_type": "display_data",
          "data": {
            "text/plain": [
              "<Figure size 432x288 with 1 Axes>"
            ],
            "image/png": "[encoded data removed]"
          },
          "metadata": {
            "needs_background": "light"
          }
        },
        {
          "output_type": "display_data",
          "data": {
            "text/plain": [
              "<Figure size 432x288 with 1 Axes>"
            ],
            "image/png": "[encoded data removed]"
          },
          "metadata": {
            "needs_background": "light"
          }
        }
      ],
      "source": [
        "del X_train , X_test, y_train, y_test\n",
        "##################################################################\n",
        "\n",
        "\n",
        "#plot the training and validation IoU and loss at each epoch\n",
        "loss = VGG16_history.history['loss']\n",
        "val_loss = VGG16_history.history['val_loss']\n",
        "epochs = range(1, len(loss) + 1)\n",
        "plt.plot(epochs, loss, 'y', label='Training loss')\n",
        "plt.plot(epochs, val_loss, 'r', label='Validation loss')\n",
        "plt.title('Training and validation loss')\n",
        "plt.xlabel('Epochs')\n",
        "plt.ylabel('Loss')\n",
        "plt.legend()\n",
        "plt.show()\n",
        "\n",
        "acc = VGG16_history.history['accuracy']\n",
        "val_acc = VGG16_history.history['val_accuracy']\n",
        "\n",
        "plt.plot(epochs, acc, 'y', label='Training accuracy')\n",
        "plt.plot(epochs, val_acc, 'r', label='Validation accuracy')\n",
        "plt.title('Training and validation accuracy')\n",
        "plt.xlabel('Epochs')\n",
        "plt.ylabel('Accuracy')\n",
        "plt.legend()\n",
        "plt.show()"
      ]
    }
  ],
  "metadata": {
    "accelerator": "GPU",
    "colab": {
      "provenance": [],
      "include_colab_link": true
    },
    "gpuClass": "standard",
    "kernelspec": {
      "display_name": "Python 3",
      "name": "python3"
    },
    "language_info": {
      "name": "python"
    }
  },
  "nbformat": 4,
  "nbformat_minor": 0
}